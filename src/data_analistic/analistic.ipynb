{
 "cells": [
  {
   "cell_type": "code",
   "execution_count": 1,
   "metadata": {},
   "outputs": [],
   "source": [
    "import pandas as pd\n",
    "from sklearn.decomposition import TruncatedSVD\n",
    "import numpy as np\n"
   ]
  },
  {
   "cell_type": "code",
   "execution_count": 2,
   "metadata": {},
   "outputs": [],
   "source": [
    "users_cols = ['user_id', 'age', 'sex', 'occupation', 'zip_code']\n",
    "movies_cols = ['movie id', 'movie title' ,'release date','video release date', 'IMDb URL', 'unknown', 'Action', 'Adventure',\n",
    "'Animation', 'Children\\'s', 'Comedy', 'Crime', 'Documentary', 'Drama', 'Fantasy',\n",
    "'Film-Noir', 'Horror', 'Musical', 'Mystery', 'Romance', 'Sci-Fi', 'Thriller', 'War', 'Western']\n",
    "ratings_cols = ['user_id', 'movie_id', 'rating', 'unix_timestamp']\n",
    "\n",
    "users_path = '../datasets/ml-100k/u.user'\n",
    "movies_path = '../datasets/ml-100k/u.item'\n",
    "ratings_path = '../datasets/ml-100k/u.data'"
   ]
  },
  {
   "cell_type": "code",
   "execution_count": 3,
   "metadata": {},
   "outputs": [],
   "source": [
    "\n",
    "users = pd.read_csv(users_path, sep = '|', names = users_cols,encoding = 'latin-1')\n",
    "movie = pd.read_csv(movies_path, sep = '|', names = movies_cols, encoding = 'latin-1')\n",
    "ratings = pd.read_csv(ratings_path, sep = '\\t', names = ratings_cols , encoding = 'latin-1')"
   ]
  },
  {
   "cell_type": "code",
   "execution_count": 30,
   "metadata": {},
   "outputs": [
    {
     "data": {
      "text/html": [
       "<div>\n",
       "<style scoped>\n",
       "    .dataframe tbody tr th:only-of-type {\n",
       "        vertical-align: middle;\n",
       "    }\n",
       "\n",
       "    .dataframe tbody tr th {\n",
       "        vertical-align: top;\n",
       "    }\n",
       "\n",
       "    .dataframe thead th {\n",
       "        text-align: right;\n",
       "    }\n",
       "</style>\n",
       "<table border=\"1\" class=\"dataframe\">\n",
       "  <thead>\n",
       "    <tr style=\"text-align: right;\">\n",
       "      <th></th>\n",
       "      <th>movie id</th>\n",
       "      <th>movie title</th>\n",
       "      <th>release date</th>\n",
       "      <th>video release date</th>\n",
       "      <th>IMDb URL</th>\n",
       "      <th>unknown</th>\n",
       "      <th>Action</th>\n",
       "      <th>Adventure</th>\n",
       "      <th>Animation</th>\n",
       "      <th>Children's</th>\n",
       "      <th>...</th>\n",
       "      <th>Fantasy</th>\n",
       "      <th>Film-Noir</th>\n",
       "      <th>Horror</th>\n",
       "      <th>Musical</th>\n",
       "      <th>Mystery</th>\n",
       "      <th>Romance</th>\n",
       "      <th>Sci-Fi</th>\n",
       "      <th>Thriller</th>\n",
       "      <th>War</th>\n",
       "      <th>Western</th>\n",
       "    </tr>\n",
       "  </thead>\n",
       "  <tbody>\n",
       "    <tr>\n",
       "      <th>0</th>\n",
       "      <td>1</td>\n",
       "      <td>Toy Story (1995)</td>\n",
       "      <td>01-Jan-1995</td>\n",
       "      <td>NaN</td>\n",
       "      <td>http://us.imdb.com/M/title-exact?Toy%20Story%2...</td>\n",
       "      <td>0</td>\n",
       "      <td>0</td>\n",
       "      <td>0</td>\n",
       "      <td>1</td>\n",
       "      <td>1</td>\n",
       "      <td>...</td>\n",
       "      <td>0</td>\n",
       "      <td>0</td>\n",
       "      <td>0</td>\n",
       "      <td>0</td>\n",
       "      <td>0</td>\n",
       "      <td>0</td>\n",
       "      <td>0</td>\n",
       "      <td>0</td>\n",
       "      <td>0</td>\n",
       "      <td>0</td>\n",
       "    </tr>\n",
       "    <tr>\n",
       "      <th>1</th>\n",
       "      <td>2</td>\n",
       "      <td>GoldenEye (1995)</td>\n",
       "      <td>01-Jan-1995</td>\n",
       "      <td>NaN</td>\n",
       "      <td>http://us.imdb.com/M/title-exact?GoldenEye%20(...</td>\n",
       "      <td>0</td>\n",
       "      <td>1</td>\n",
       "      <td>1</td>\n",
       "      <td>0</td>\n",
       "      <td>0</td>\n",
       "      <td>...</td>\n",
       "      <td>0</td>\n",
       "      <td>0</td>\n",
       "      <td>0</td>\n",
       "      <td>0</td>\n",
       "      <td>0</td>\n",
       "      <td>0</td>\n",
       "      <td>0</td>\n",
       "      <td>1</td>\n",
       "      <td>0</td>\n",
       "      <td>0</td>\n",
       "    </tr>\n",
       "    <tr>\n",
       "      <th>2</th>\n",
       "      <td>3</td>\n",
       "      <td>Four Rooms (1995)</td>\n",
       "      <td>01-Jan-1995</td>\n",
       "      <td>NaN</td>\n",
       "      <td>http://us.imdb.com/M/title-exact?Four%20Rooms%...</td>\n",
       "      <td>0</td>\n",
       "      <td>0</td>\n",
       "      <td>0</td>\n",
       "      <td>0</td>\n",
       "      <td>0</td>\n",
       "      <td>...</td>\n",
       "      <td>0</td>\n",
       "      <td>0</td>\n",
       "      <td>0</td>\n",
       "      <td>0</td>\n",
       "      <td>0</td>\n",
       "      <td>0</td>\n",
       "      <td>0</td>\n",
       "      <td>1</td>\n",
       "      <td>0</td>\n",
       "      <td>0</td>\n",
       "    </tr>\n",
       "    <tr>\n",
       "      <th>3</th>\n",
       "      <td>4</td>\n",
       "      <td>Get Shorty (1995)</td>\n",
       "      <td>01-Jan-1995</td>\n",
       "      <td>NaN</td>\n",
       "      <td>http://us.imdb.com/M/title-exact?Get%20Shorty%...</td>\n",
       "      <td>0</td>\n",
       "      <td>1</td>\n",
       "      <td>0</td>\n",
       "      <td>0</td>\n",
       "      <td>0</td>\n",
       "      <td>...</td>\n",
       "      <td>0</td>\n",
       "      <td>0</td>\n",
       "      <td>0</td>\n",
       "      <td>0</td>\n",
       "      <td>0</td>\n",
       "      <td>0</td>\n",
       "      <td>0</td>\n",
       "      <td>0</td>\n",
       "      <td>0</td>\n",
       "      <td>0</td>\n",
       "    </tr>\n",
       "    <tr>\n",
       "      <th>4</th>\n",
       "      <td>5</td>\n",
       "      <td>Copycat (1995)</td>\n",
       "      <td>01-Jan-1995</td>\n",
       "      <td>NaN</td>\n",
       "      <td>http://us.imdb.com/M/title-exact?Copycat%20(1995)</td>\n",
       "      <td>0</td>\n",
       "      <td>0</td>\n",
       "      <td>0</td>\n",
       "      <td>0</td>\n",
       "      <td>0</td>\n",
       "      <td>...</td>\n",
       "      <td>0</td>\n",
       "      <td>0</td>\n",
       "      <td>0</td>\n",
       "      <td>0</td>\n",
       "      <td>0</td>\n",
       "      <td>0</td>\n",
       "      <td>0</td>\n",
       "      <td>1</td>\n",
       "      <td>0</td>\n",
       "      <td>0</td>\n",
       "    </tr>\n",
       "  </tbody>\n",
       "</table>\n",
       "<p>5 rows × 24 columns</p>\n",
       "</div>"
      ],
      "text/plain": [
       "   movie id        movie title release date  video release date  \\\n",
       "0         1   Toy Story (1995)  01-Jan-1995                 NaN   \n",
       "1         2   GoldenEye (1995)  01-Jan-1995                 NaN   \n",
       "2         3  Four Rooms (1995)  01-Jan-1995                 NaN   \n",
       "3         4  Get Shorty (1995)  01-Jan-1995                 NaN   \n",
       "4         5     Copycat (1995)  01-Jan-1995                 NaN   \n",
       "\n",
       "                                            IMDb URL  unknown  Action  \\\n",
       "0  http://us.imdb.com/M/title-exact?Toy%20Story%2...        0       0   \n",
       "1  http://us.imdb.com/M/title-exact?GoldenEye%20(...        0       1   \n",
       "2  http://us.imdb.com/M/title-exact?Four%20Rooms%...        0       0   \n",
       "3  http://us.imdb.com/M/title-exact?Get%20Shorty%...        0       1   \n",
       "4  http://us.imdb.com/M/title-exact?Copycat%20(1995)        0       0   \n",
       "\n",
       "   Adventure  Animation  Children's  ...  Fantasy  Film-Noir  Horror  Musical  \\\n",
       "0          0          1           1  ...        0          0       0        0   \n",
       "1          1          0           0  ...        0          0       0        0   \n",
       "2          0          0           0  ...        0          0       0        0   \n",
       "3          0          0           0  ...        0          0       0        0   \n",
       "4          0          0           0  ...        0          0       0        0   \n",
       "\n",
       "   Mystery  Romance  Sci-Fi  Thriller  War  Western  \n",
       "0        0        0       0         0    0        0  \n",
       "1        0        0       0         1    0        0  \n",
       "2        0        0       0         1    0        0  \n",
       "3        0        0       0         0    0        0  \n",
       "4        0        0       0         1    0        0  \n",
       "\n",
       "[5 rows x 24 columns]"
      ]
     },
     "execution_count": 30,
     "metadata": {},
     "output_type": "execute_result"
    }
   ],
   "source": [
    "movie.head(5)"
   ]
  },
  {
   "cell_type": "code",
   "execution_count": 4,
   "metadata": {},
   "outputs": [],
   "source": [
    "n_users = ratings.user_id.unique().shape[0]\n",
    "n_movies = ratings.movie_id.unique().shape[0]"
   ]
  },
  {
   "cell_type": "code",
   "execution_count": 5,
   "metadata": {},
   "outputs": [],
   "source": [
    "data_matrix = ratings.pivot_table(values=\"rating\",index=\"user_id\",columns=\"movie_id\",fill_value= 0)\n",
    "userMovie_ratings = data_matrix\n",
    "movieUser_ratings = data_matrix.T\n",
    "\n"
   ]
  },
  {
   "cell_type": "code",
   "execution_count": 6,
   "metadata": {},
   "outputs": [
    {
     "name": "stdout",
     "output_type": "stream",
     "text": [
      "movie_id  1     2     3     4     5     6     7     8     9     10    ...  \\\n",
      "user_id                                                               ...   \n",
      "1            5     3     4     3     3     5     4     1     5     3  ...   \n",
      "2            4     0     0     0     0     0     0     0     0     2  ...   \n",
      "3            0     0     0     0     0     0     0     0     0     0  ...   \n",
      "4            0     0     0     0     0     0     0     0     0     0  ...   \n",
      "5            4     3     0     0     0     0     0     0     0     0  ...   \n",
      "...        ...   ...   ...   ...   ...   ...   ...   ...   ...   ...  ...   \n",
      "939          0     0     0     0     0     0     0     0     5     0  ...   \n",
      "940          0     0     0     2     0     0     4     5     3     0  ...   \n",
      "941          5     0     0     0     0     0     4     0     0     0  ...   \n",
      "942          0     0     0     0     0     0     0     0     0     0  ...   \n",
      "943          0     5     0     0     0     0     0     0     3     0  ...   \n",
      "\n",
      "movie_id  1673  1674  1675  1676  1677  1678  1679  1680  1681  1682  \n",
      "user_id                                                               \n",
      "1            0     0     0     0     0     0     0     0     0     0  \n",
      "2            0     0     0     0     0     0     0     0     0     0  \n",
      "3            0     0     0     0     0     0     0     0     0     0  \n",
      "4            0     0     0     0     0     0     0     0     0     0  \n",
      "5            0     0     0     0     0     0     0     0     0     0  \n",
      "...        ...   ...   ...   ...   ...   ...   ...   ...   ...   ...  \n",
      "939          0     0     0     0     0     0     0     0     0     0  \n",
      "940          0     0     0     0     0     0     0     0     0     0  \n",
      "941          0     0     0     0     0     0     0     0     0     0  \n",
      "942          0     0     0     0     0     0     0     0     0     0  \n",
      "943          0     0     0     0     0     0     0     0     0     0  \n",
      "\n",
      "[943 rows x 1682 columns]\n"
     ]
    }
   ],
   "source": [
    "print(userMovie_ratings)"
   ]
  },
  {
   "cell_type": "code",
   "execution_count": 7,
   "metadata": {},
   "outputs": [
    {
     "name": "stdout",
     "output_type": "stream",
     "text": [
      "user_id   1    2    3    4    5    6    7    8    9    10   ...  934  935  \\\n",
      "movie_id                                                    ...             \n",
      "1           5    4    0    0    4    4    0    0    0    4  ...    2    3   \n",
      "2           3    0    0    0    3    0    0    0    0    0  ...    4    0   \n",
      "3           4    0    0    0    0    0    0    0    0    0  ...    0    0   \n",
      "4           3    0    0    0    0    0    5    0    0    4  ...    5    0   \n",
      "5           3    0    0    0    0    0    0    0    0    0  ...    0    0   \n",
      "...       ...  ...  ...  ...  ...  ...  ...  ...  ...  ...  ...  ...  ...   \n",
      "1678        0    0    0    0    0    0    0    0    0    0  ...    0    0   \n",
      "1679        0    0    0    0    0    0    0    0    0    0  ...    0    0   \n",
      "1680        0    0    0    0    0    0    0    0    0    0  ...    0    0   \n",
      "1681        0    0    0    0    0    0    0    0    0    0  ...    0    0   \n",
      "1682        0    0    0    0    0    0    0    0    0    0  ...    0    0   \n",
      "\n",
      "user_id   936  937  938  939  940  941  942  943  \n",
      "movie_id                                          \n",
      "1           4    0    4    0    0    5    0    0  \n",
      "2           0    0    0    0    0    0    0    5  \n",
      "3           4    0    0    0    0    0    0    0  \n",
      "4           0    0    0    0    2    0    0    0  \n",
      "5           0    0    0    0    0    0    0    0  \n",
      "...       ...  ...  ...  ...  ...  ...  ...  ...  \n",
      "1678        0    0    0    0    0    0    0    0  \n",
      "1679        0    0    0    0    0    0    0    0  \n",
      "1680        0    0    0    0    0    0    0    0  \n",
      "1681        0    0    0    0    0    0    0    0  \n",
      "1682        0    0    0    0    0    0    0    0  \n",
      "\n",
      "[1682 rows x 943 columns]\n"
     ]
    }
   ],
   "source": [
    "print(movieUser_ratings)"
   ]
  },
  {
   "cell_type": "code",
   "execution_count": 8,
   "metadata": {},
   "outputs": [
    {
     "name": "stdout",
     "output_type": "stream",
     "text": [
      "n_users:943 \n",
      "n_movies:1682\n",
      "userMovie_ratings:(f:943 c:1682)\n",
      "movieUser_ratings:(f:1682 c:943)\n"
     ]
    }
   ],
   "source": [
    "print(f\"n_users:{n_users} \\nn_movies:{n_movies}\")\n",
    "print(f\"userMovie_ratings:(f:{userMovie_ratings.shape[0]} c:{userMovie_ratings.shape[1]})\")\n",
    "print(f\"movieUser_ratings:(f:{movieUser_ratings.shape[0]} c:{movieUser_ratings.shape[1]})\")"
   ]
  },
  {
   "cell_type": "code",
   "execution_count": 22,
   "metadata": {},
   "outputs": [
    {
     "name": "stdout",
     "output_type": "stream",
     "text": [
      "user_id   1    2    3    4    5    6    7    8    9    10   ...  934  935  \\\n",
      "movie_id                                                    ...             \n",
      "1           5    4    0    0    4    4    0    0    0    4  ...    2    3   \n",
      "2           3    0    0    0    3    0    0    0    0    0  ...    4    0   \n",
      "3           4    0    0    0    0    0    0    0    0    0  ...    0    0   \n",
      "4           3    0    0    0    0    0    5    0    0    4  ...    5    0   \n",
      "5           3    0    0    0    0    0    0    0    0    0  ...    0    0   \n",
      "...       ...  ...  ...  ...  ...  ...  ...  ...  ...  ...  ...  ...  ...   \n",
      "1678        0    0    0    0    0    0    0    0    0    0  ...    0    0   \n",
      "1679        0    0    0    0    0    0    0    0    0    0  ...    0    0   \n",
      "1680        0    0    0    0    0    0    0    0    0    0  ...    0    0   \n",
      "1681        0    0    0    0    0    0    0    0    0    0  ...    0    0   \n",
      "1682        0    0    0    0    0    0    0    0    0    0  ...    0    0   \n",
      "\n",
      "user_id   936  937  938  939  940  941  942  943  \n",
      "movie_id                                          \n",
      "1           4    0    4    0    0    5    0    0  \n",
      "2           0    0    0    0    0    0    0    5  \n",
      "3           4    0    0    0    0    0    0    0  \n",
      "4           0    0    0    0    2    0    0    0  \n",
      "5           0    0    0    0    0    0    0    0  \n",
      "...       ...  ...  ...  ...  ...  ...  ...  ...  \n",
      "1678        0    0    0    0    0    0    0    0  \n",
      "1679        0    0    0    0    0    0    0    0  \n",
      "1680        0    0    0    0    0    0    0    0  \n",
      "1681        0    0    0    0    0    0    0    0  \n",
      "1682        0    0    0    0    0    0    0    0  \n",
      "\n",
      "[1682 rows x 943 columns]\n",
      "Cantidad de información simplificada con los primeros 10 vectores singulares:\n",
      "0.0%\n"
     ]
    }
   ],
   "source": [
    "\n",
    "num_sv = 10\n",
    "SVD = TruncatedSVD(n_components=num_sv, random_state=42)\n",
    "\n",
    "SVD.fit(movieUser_ratings)\n",
    "print(movieUser_ratings)\n",
    "print('Cantidad de información simplificada con los primeros %d vectores singulares:' % num_sv)\n",
    "print('%.1f%%' % (\n",
    "    100 * (1 - (SVD.singular_values_[0:num_sv]).sum() / (SVD.singular_values_).sum())))"
   ]
  },
  {
   "cell_type": "code",
   "execution_count": 10,
   "metadata": {},
   "outputs": [
    {
     "data": {
      "text/plain": [
       "(1682, 10)"
      ]
     },
     "execution_count": 10,
     "metadata": {},
     "output_type": "execute_result"
    }
   ],
   "source": [
    "num_sv = 10\n",
    "SVD = TruncatedSVD(n_components=num_sv, random_state=42)\n",
    "\n",
    "resultant_matrix = SVD.fit_transform(movieUser_ratings)\n",
    "resultant_matrix.shape\n",
    "\n"
   ]
  },
  {
   "cell_type": "code",
   "execution_count": 11,
   "metadata": {},
   "outputs": [
    {
     "data": {
      "text/plain": [
       "array([[1.        , 0.84269117, 0.83022272, 0.82197731, 0.65316188],\n",
       "       [0.84269117, 1.        , 0.68689277, 0.89499142, 0.72415104],\n",
       "       [0.83022272, 0.68689277, 1.        , 0.75913436, 0.74550952],\n",
       "       [0.82197731, 0.89499142, 0.75913436, 1.        , 0.74512727],\n",
       "       [0.65316188, 0.72415104, 0.74550952, 0.74512727, 1.        ]])"
      ]
     },
     "execution_count": 11,
     "metadata": {},
     "output_type": "execute_result"
    }
   ],
   "source": [
    "# Pearson correlation matrix\n",
    "corrMtx = np.corrcoef(resultant_matrix)\n",
    " \n",
    "corrMtx[0:5,0:5]\n",
    "\n"
   ]
  },
  {
   "cell_type": "code",
   "execution_count": 12,
   "metadata": {},
   "outputs": [
    {
     "data": {
      "text/plain": [
       "0"
      ]
     },
     "execution_count": 12,
     "metadata": {},
     "output_type": "execute_result"
    }
   ],
   "source": [
    "# Look for Taco Bell index\n",
    "liked = 1\n",
    "\n",
    "names = userMovie_ratings.columns \n",
    "names_list = list(names)\n",
    "id_liked = names_list.index(liked)\n",
    "\n",
    "id_liked"
   ]
  },
  {
   "cell_type": "code",
   "execution_count": 13,
   "metadata": {},
   "outputs": [
    {
     "name": "stdout",
     "output_type": "stream",
     "text": [
      "Recomendaciones: \n",
      "Nombre de la película con ID 1: Toy Story (1995)\n",
      "Nombres de las películas con IDs especificados:\n",
      "['Rumble in the Bronx (1995)', 'Star Wars (1977)', 'Rock, The (1996)', 'Independence Day (ID4) (1996)', 'Willy Wonka and the Chocolate Factory (1971)', 'Return of the Jedi (1983)', 'Star Trek: First Contact (1996)', 'Mars Attacks! (1996)', 'Lost World: Jurassic Park, The (1997)', 'Men in Black (1997)', 'Fierce Creatures (1997)', 'Mission: Impossible (1996)', \"Jackie Chan's First Strike (1996)\", 'Broken Arrow (1996)', 'Space Jam (1996)', 'Live Nude Girls (1995)']\n"
     ]
    }
   ],
   "source": [
    "corr_recom = corrMtx[id_liked]\n",
    "\n",
    "print('Recomendaciones: ')\n",
    "# select names with a correletion between .97 and .99\n",
    "idMovies = list(names[(corr_recom > 0.90) & (corr_recom < 0.99)])\n",
    "\n",
    "movie_row = movie[movie['movie id'] == 1]\n",
    "\n",
    "# Obtener el nombre de la película\n",
    "movie_title = movie_row['movie title'].iloc[0]\n",
    "\n",
    "print(\"Nombre de la película con ID 1:\", movie_title)\n",
    "filtered_movies = movie[movie['movie id'].isin(idMovies)]\n",
    "movie_titles = filtered_movies['movie title'].tolist()\n",
    "\n",
    "print(\"Nombres de las películas con IDs especificados:\")\n",
    "print(movie_titles)"
   ]
  },
  {
   "cell_type": "code",
   "execution_count": 14,
   "metadata": {},
   "outputs": [
    {
     "name": "stdout",
     "output_type": "stream",
     "text": [
      "Recomendaciones: \n",
      "movie id 488: Sunset Blvd. (1950)\n",
      "movie id 513: Third Man, The (1949)\n",
      "movie id 529: My Life as a Dog (Mitt liv som hund) (1985)\n",
      "movie id 639: Tin Drum, The (Blechtrommel, Die) (1979)\n",
      "movie id 647: Ran (1985)\n",
      "movie id 664: Paris, Texas (1984)\n",
      "movie id 811: Thirty-Two Short Films About Glenn Gould (1993)\n",
      "movie id 855: Diva (1981)\n",
      "movie id 1021: 8 1/2 (1963)\n",
      "movie id 1266: Bread and Chocolate (Pane e cioccolata) (1973)\n",
      "movie id 1404: Withnail and I (1987)\n"
     ]
    }
   ],
   "source": [
    "# Suponiendo que 'movie' es tu DataFrame de películas y 'names' es tu lista de nombres de películas\n",
    "corr_recom = corrMtx[29]\n",
    "\n",
    "print('Recomendaciones: ')\n",
    "\n",
    "# Seleccionar nombres con una correlación entre .97 y .99\n",
    "idMovies = list(names[(corr_recom > 0.95) & (corr_recom < 0.99)])\n",
    "\n",
    "# Filtrar películas basadas en IDs\n",
    "filtered_movies = movie[movie['movie id'].isin(idMovies)]\n",
    "\n",
    "# Imprimir películas en el formato \"movie id: movie title\"\n",
    "for index, row in filtered_movies.iterrows():\n",
    "    print(f\"movie id {row['movie id']}: {row['movie title']}\")\n"
   ]
  },
  {
   "cell_type": "code",
   "execution_count": 15,
   "metadata": {},
   "outputs": [
    {
     "data": {
      "text/html": [
       "<div>\n",
       "<style scoped>\n",
       "    .dataframe tbody tr th:only-of-type {\n",
       "        vertical-align: middle;\n",
       "    }\n",
       "\n",
       "    .dataframe tbody tr th {\n",
       "        vertical-align: top;\n",
       "    }\n",
       "\n",
       "    .dataframe thead th {\n",
       "        text-align: right;\n",
       "    }\n",
       "</style>\n",
       "<table border=\"1\" class=\"dataframe\">\n",
       "  <thead>\n",
       "    <tr style=\"text-align: right;\">\n",
       "      <th>movie_id</th>\n",
       "      <th>1</th>\n",
       "      <th>2</th>\n",
       "      <th>3</th>\n",
       "      <th>4</th>\n",
       "      <th>5</th>\n",
       "      <th>6</th>\n",
       "      <th>7</th>\n",
       "      <th>8</th>\n",
       "      <th>9</th>\n",
       "      <th>10</th>\n",
       "      <th>...</th>\n",
       "      <th>1673</th>\n",
       "      <th>1674</th>\n",
       "      <th>1675</th>\n",
       "      <th>1676</th>\n",
       "      <th>1677</th>\n",
       "      <th>1678</th>\n",
       "      <th>1679</th>\n",
       "      <th>1680</th>\n",
       "      <th>1681</th>\n",
       "      <th>1682</th>\n",
       "    </tr>\n",
       "    <tr>\n",
       "      <th>user_id</th>\n",
       "      <th></th>\n",
       "      <th></th>\n",
       "      <th></th>\n",
       "      <th></th>\n",
       "      <th></th>\n",
       "      <th></th>\n",
       "      <th></th>\n",
       "      <th></th>\n",
       "      <th></th>\n",
       "      <th></th>\n",
       "      <th></th>\n",
       "      <th></th>\n",
       "      <th></th>\n",
       "      <th></th>\n",
       "      <th></th>\n",
       "      <th></th>\n",
       "      <th></th>\n",
       "      <th></th>\n",
       "      <th></th>\n",
       "      <th></th>\n",
       "      <th></th>\n",
       "    </tr>\n",
       "  </thead>\n",
       "  <tbody>\n",
       "    <tr>\n",
       "      <th>1</th>\n",
       "      <td>5</td>\n",
       "      <td>3</td>\n",
       "      <td>4</td>\n",
       "      <td>3</td>\n",
       "      <td>3</td>\n",
       "      <td>5</td>\n",
       "      <td>4</td>\n",
       "      <td>1</td>\n",
       "      <td>5</td>\n",
       "      <td>3</td>\n",
       "      <td>...</td>\n",
       "      <td>0</td>\n",
       "      <td>0</td>\n",
       "      <td>0</td>\n",
       "      <td>0</td>\n",
       "      <td>0</td>\n",
       "      <td>0</td>\n",
       "      <td>0</td>\n",
       "      <td>0</td>\n",
       "      <td>0</td>\n",
       "      <td>0</td>\n",
       "    </tr>\n",
       "    <tr>\n",
       "      <th>2</th>\n",
       "      <td>4</td>\n",
       "      <td>0</td>\n",
       "      <td>0</td>\n",
       "      <td>0</td>\n",
       "      <td>0</td>\n",
       "      <td>0</td>\n",
       "      <td>0</td>\n",
       "      <td>0</td>\n",
       "      <td>0</td>\n",
       "      <td>2</td>\n",
       "      <td>...</td>\n",
       "      <td>0</td>\n",
       "      <td>0</td>\n",
       "      <td>0</td>\n",
       "      <td>0</td>\n",
       "      <td>0</td>\n",
       "      <td>0</td>\n",
       "      <td>0</td>\n",
       "      <td>0</td>\n",
       "      <td>0</td>\n",
       "      <td>0</td>\n",
       "    </tr>\n",
       "    <tr>\n",
       "      <th>3</th>\n",
       "      <td>0</td>\n",
       "      <td>0</td>\n",
       "      <td>0</td>\n",
       "      <td>0</td>\n",
       "      <td>0</td>\n",
       "      <td>0</td>\n",
       "      <td>0</td>\n",
       "      <td>0</td>\n",
       "      <td>0</td>\n",
       "      <td>0</td>\n",
       "      <td>...</td>\n",
       "      <td>0</td>\n",
       "      <td>0</td>\n",
       "      <td>0</td>\n",
       "      <td>0</td>\n",
       "      <td>0</td>\n",
       "      <td>0</td>\n",
       "      <td>0</td>\n",
       "      <td>0</td>\n",
       "      <td>0</td>\n",
       "      <td>0</td>\n",
       "    </tr>\n",
       "    <tr>\n",
       "      <th>4</th>\n",
       "      <td>0</td>\n",
       "      <td>0</td>\n",
       "      <td>0</td>\n",
       "      <td>0</td>\n",
       "      <td>0</td>\n",
       "      <td>0</td>\n",
       "      <td>0</td>\n",
       "      <td>0</td>\n",
       "      <td>0</td>\n",
       "      <td>0</td>\n",
       "      <td>...</td>\n",
       "      <td>0</td>\n",
       "      <td>0</td>\n",
       "      <td>0</td>\n",
       "      <td>0</td>\n",
       "      <td>0</td>\n",
       "      <td>0</td>\n",
       "      <td>0</td>\n",
       "      <td>0</td>\n",
       "      <td>0</td>\n",
       "      <td>0</td>\n",
       "    </tr>\n",
       "    <tr>\n",
       "      <th>5</th>\n",
       "      <td>4</td>\n",
       "      <td>3</td>\n",
       "      <td>0</td>\n",
       "      <td>0</td>\n",
       "      <td>0</td>\n",
       "      <td>0</td>\n",
       "      <td>0</td>\n",
       "      <td>0</td>\n",
       "      <td>0</td>\n",
       "      <td>0</td>\n",
       "      <td>...</td>\n",
       "      <td>0</td>\n",
       "      <td>0</td>\n",
       "      <td>0</td>\n",
       "      <td>0</td>\n",
       "      <td>0</td>\n",
       "      <td>0</td>\n",
       "      <td>0</td>\n",
       "      <td>0</td>\n",
       "      <td>0</td>\n",
       "      <td>0</td>\n",
       "    </tr>\n",
       "  </tbody>\n",
       "</table>\n",
       "<p>5 rows × 1682 columns</p>\n",
       "</div>"
      ],
      "text/plain": [
       "movie_id  1     2     3     4     5     6     7     8     9     10    ...  \\\n",
       "user_id                                                               ...   \n",
       "1            5     3     4     3     3     5     4     1     5     3  ...   \n",
       "2            4     0     0     0     0     0     0     0     0     2  ...   \n",
       "3            0     0     0     0     0     0     0     0     0     0  ...   \n",
       "4            0     0     0     0     0     0     0     0     0     0  ...   \n",
       "5            4     3     0     0     0     0     0     0     0     0  ...   \n",
       "\n",
       "movie_id  1673  1674  1675  1676  1677  1678  1679  1680  1681  1682  \n",
       "user_id                                                               \n",
       "1            0     0     0     0     0     0     0     0     0     0  \n",
       "2            0     0     0     0     0     0     0     0     0     0  \n",
       "3            0     0     0     0     0     0     0     0     0     0  \n",
       "4            0     0     0     0     0     0     0     0     0     0  \n",
       "5            0     0     0     0     0     0     0     0     0     0  \n",
       "\n",
       "[5 rows x 1682 columns]"
      ]
     },
     "execution_count": 15,
     "metadata": {},
     "output_type": "execute_result"
    }
   ],
   "source": [
    "userMovie_ratings.head()"
   ]
  },
  {
   "cell_type": "code",
   "execution_count": 16,
   "metadata": {},
   "outputs": [
    {
     "data": {
      "text/plain": [
       "(943, 10)"
      ]
     },
     "execution_count": 16,
     "metadata": {},
     "output_type": "execute_result"
    }
   ],
   "source": [
    "num_sv = 10\n",
    "\n",
    "SVDu = TruncatedSVD(n_components=num_sv, random_state=42)\n",
    "\n",
    "resultant_umatx = SVDu.fit_transform(userMovie_ratings)\n",
    "resultant_umatx.shape"
   ]
  },
  {
   "cell_type": "code",
   "execution_count": 17,
   "metadata": {},
   "outputs": [],
   "source": [
    "corrUmtx = np.corrcoef(resultant_umatx)"
   ]
  },
  {
   "cell_type": "code",
   "execution_count": 18,
   "metadata": {},
   "outputs": [
    {
     "name": "stdout",
     "output_type": "stream",
     "text": [
      "Usuarios relacionados: \n"
     ]
    },
    {
     "data": {
      "text/plain": [
       "[(0.97, 249), (0.96, 62), (0.95, 715), (0.95, 916)]"
      ]
     },
     "execution_count": 18,
     "metadata": {},
     "output_type": "execute_result"
    }
   ],
   "source": [
    "# Choose a random user\n",
    "user = 1\n",
    "\n",
    "userids = userMovie_ratings.index \n",
    "users_list = list(userids)\n",
    "user_id = users_list.index(user)\n",
    "corr_urecom = corrUmtx[user_id]\n",
    "\n",
    "uids = (corr_urecom > .95) & (corr_urecom < .99)\n",
    "tmp = list()\n",
    "\n",
    "for i in range(len(userids[uids])):\n",
    "    tmp.append((corr_urecom[uids][i].round(2), userids[uids][i]))\n",
    "\n",
    "print('Usuarios relacionados: ')\n",
    "sorted(tmp, key=lambda x:x[0], reverse=True)"
   ]
  },
  {
   "cell_type": "code",
   "execution_count": 19,
   "metadata": {},
   "outputs": [
    {
     "name": "stdout",
     "output_type": "stream",
     "text": [
      "len v1 321\n",
      "len v2 54\n",
      "Interseccion: \n",
      "[((0, 5), (0, 4)), ((43, 4), (43, 4)), ((56, 5), (56, 5)), ((57, 5), (57, 4)), ((116, 4), (116, 4)), ((129, 5), (129, 5)), ((243, 4), (243, 4)), ((248, 4), (248, 4)), ((250, 4), (250, 5)), ((275, 5), (275, 4)), ((286, 5), (286, 5)), ((290, 5), (290, 4)), ((293, 5), (293, 5)), ((302, 5), (302, 4)), ((346, 4), (346, 5)), ((434, 5), (434, 4)), ((496, 4), (496, 5)), ((541, 4), (541, 4)), ((559, 4), (559, 5)), ((591, 4), (591, 4)), ((641, 5), (641, 5)), ((653, 4), (653, 5)), ((664, 4), (664, 5)), ((714, 5), (714, 4)), ((805, 4), (805, 4)), ((837, 5), (837, 4)), ((879, 4), (879, 4)), ((935, 4), (935, 5))]\n",
      "len_iterseccion:\n",
      " 28\n",
      "[(0, 5), (0, 5), (0, 5), (0, 5), (0, 5), (0, 5), (0, 5), (0, 5), (0, 5), (0, 5), (0, 5), (0, 5), (0, 5), (0, 5), (0, 5), (0, 5), (0, 5), (0, 5), (0, 5), (0, 5), (0, 5), (0, 5), (0, 5), (0, 5), (0, 5), (0, 5), (0, 5), (0, 5), (0, 5), (0, 5), (0, 5), (0, 5), (0, 5), (0, 5), (0, 5), (0, 5), (0, 5), (0, 5), (0, 5), (0, 5), (0, 5), (0, 5), (0, 5), (0, 5), (0, 5), (0, 5), (0, 5), (0, 5), (0, 5), (0, 5), (0, 5), (0, 5), (0, 5), (1, 4), (1, 4), (1, 4), (1, 4), (1, 4), (1, 4), (1, 4), (1, 4), (1, 4), (1, 4), (1, 4), (1, 4), (1, 4), (1, 4), (1, 4), (1, 4), (1, 4), (1, 4), (1, 4), (1, 4), (1, 4), (1, 4), (1, 4), (1, 4), (1, 4), (1, 4), (1, 4), (1, 4), (1, 4), (1, 4), (1, 4), (1, 4), (1, 4), (1, 4), (1, 4), (1, 4), (1, 4), (1, 4), (1, 4), (1, 4), (1, 4), (1, 4), (1, 4), (1, 4), (1, 4), (1, 4), (1, 4), (1, 4), (1, 4), (1, 4), (1, 4), (1, 4), (1, 4), (1, 4), (4, 4), (4, 4), (4, 4), (4, 4), (4, 4), (4, 4), (4, 4), (4, 4), (4, 4), (4, 4), (4, 4), (4, 4), (4, 4), (4, 4), (4, 4), (4, 4), (4, 4), (4, 4), (4, 4), (4, 4), (4, 4), (4, 4), (4, 4), (4, 4), (4, 4), (4, 4), (4, 4), (4, 4), (4, 4), (4, 4), (4, 4), (4, 4), (4, 4), (4, 4), (4, 4), (4, 4), (4, 4), (4, 4), (4, 4), (4, 4), (4, 4), (4, 4), (4, 4), (4, 4), (4, 4), (4, 4), (4, 4), (4, 4), (4, 4), (4, 4), (4, 4), (4, 4), (4, 4), (4, 4), (5, 4), (5, 4), (5, 4), (5, 4), (5, 4), (5, 4), (5, 4), (5, 4), (5, 4), (5, 4), (5, 4), (5, 4), (5, 4), (5, 4), (5, 4), (5, 4), (5, 4), (5, 4), (5, 4), (5, 4), (5, 4), (5, 4), (5, 4), (5, 4), (5, 4), (5, 4), (5, 4), (5, 4), (5, 4), (5, 4), (5, 4), (5, 4), (5, 4), (5, 4), (5, 4), (5, 4), (5, 4), (5, 4), (5, 4), (5, 4), (5, 4), (5, 4), (5, 4), (5, 4), (5, 4), (5, 4), (5, 4), (5, 4), (5, 4), (5, 4), (5, 4), (5, 4), (5, 4), (5, 4), (9, 4), (9, 4), (9, 4), (9, 4), (9, 4), (9, 4), (9, 4), (9, 4), (9, 4), (9, 4), (9, 4), (9, 4), (9, 4), (9, 4), (9, 4), (9, 4), (9, 4), (9, 4), (9, 4), (9, 4), (9, 4), (9, 4), (9, 4), (9, 4), (9, 4), (9, 4), (9, 4), (9, 4), (9, 4), (9, 4), (9, 4), (9, 4), (9, 4), (9, 4), (9, 4), (9, 4), (9, 4), (9, 4), (9, 4), (9, 4), (9, 4), (9, 4), (9, 4), (9, 4), (9, 4), (9, 4), (9, 4), (9, 4), (9, 4), (9, 4), (9, 4), (9, 4), (9, 4), (9, 4), (15, 5), (15, 5), (15, 5), (15, 5), (15, 5), (15, 5), (15, 5), (15, 5), (15, 5), (15, 5), (15, 5), (15, 5), (15, 5), (15, 5), (15, 5), (15, 5), (15, 5), (15, 5), (15, 5), (15, 5), (15, 5), (15, 5), (15, 5), (15, 5), (15, 5), (15, 5), (15, 5), (15, 5), (15, 5), (15, 5), (15, 5), (15, 5), (15, 5), (15, 5), (15, 5), (15, 5), (15, 5), (15, 5), (15, 5), (15, 5), (15, 5), (15, 5), (15, 5), (15, 5), (15, 5), (15, 5), (15, 5), (15, 5), (15, 5), (15, 5), (15, 5), (15, 5), (15, 5), (15, 5), (16, 4), (16, 4), (16, 4), (16, 4), (16, 4), (16, 4), (16, 4), (16, 4), (16, 4), (16, 4), (16, 4), (16, 4), (16, 4), (16, 4), (16, 4), (16, 4), (16, 4), (16, 4), (16, 4), (16, 4), (16, 4), (16, 4), (16, 4), (16, 4), (16, 4), (16, 4), (16, 4), (16, 4), (16, 4), (16, 4), (16, 4), (16, 4), (16, 4), (16, 4), (16, 4), (16, 4), (16, 4), (16, 4), (16, 4), (16, 4), (16, 4), (16, 4), (16, 4), (16, 4), (16, 4), (16, 4), (16, 4), (16, 4), (16, 4), (16, 4), (16, 4), (16, 4), (16, 4), (16, 4), (17, 5), (17, 5), (17, 5), (17, 5), (17, 5), (17, 5), (17, 5), (17, 5), (17, 5), (17, 5), (17, 5), (17, 5), (17, 5), (17, 5), (17, 5), (17, 5), (17, 5), (17, 5), (17, 5), (17, 5), (17, 5), (17, 5), (17, 5), (17, 5), (17, 5), (17, 5), (17, 5), (17, 5), (17, 5), (17, 5), (17, 5), (17, 5), (17, 5), (17, 5), (17, 5), (17, 5), (17, 5), (17, 5), (17, 5), (17, 5), (17, 5), (17, 5), (17, 5), (17, 5), (17, 5), (17, 5), (17, 5), (17, 5), (17, 5), (17, 5), (17, 5), (17, 5), (17, 5), (17, 5), (20, 5), (20, 5), (20, 5), (20, 5), (20, 5), (20, 5), (20, 5), (20, 5), (20, 5), (20, 5), (20, 5), (20, 5), (20, 5), (20, 5), (20, 5), (20, 5), (20, 5), (20, 5), (20, 5), (20, 5), (20, 5), (20, 5), (20, 5), (20, 5), (20, 5), (20, 5), (20, 5), (20, 5), (20, 5), (20, 5), (20, 5), (20, 5), (20, 5), (20, 5), (20, 5), (20, 5), (20, 5), (20, 5), (20, 5), (20, 5), (20, 5), (20, 5), (20, 5), (20, 5), (20, 5), (20, 5), (20, 5), (20, 5), (20, 5), (20, 5), (20, 5), (20, 5), (20, 5), (20, 5), (22, 5), (22, 5), (22, 5), (22, 5), (22, 5), (22, 5), (22, 5), (22, 5), (22, 5), (22, 5), (22, 5), (22, 5), (22, 5), (22, 5), (22, 5), (22, 5), (22, 5), (22, 5), (22, 5), (22, 5), (22, 5), (22, 5), (22, 5), (22, 5), (22, 5), (22, 5), (22, 5), (22, 5), (22, 5), (22, 5), (22, 5), (22, 5), (22, 5), (22, 5), (22, 5), (22, 5), (22, 5), (22, 5), (22, 5), (22, 5), (22, 5), (22, 5), (22, 5), (22, 5), (22, 5), (22, 5), (22, 5), (22, 5), (22, 5), (22, 5), (22, 5), (22, 5), (22, 5), (22, 5), (24, 5), (24, 5), (24, 5), (24, 5), (24, 5), (24, 5), (24, 5), (24, 5), (24, 5), (24, 5), (24, 5), (24, 5), (24, 5), (24, 5), (24, 5), (24, 5), (24, 5), (24, 5), (24, 5), (24, 5), (24, 5), (24, 5), (24, 5), (24, 5), (24, 5), (24, 5), (24, 5), (24, 5), (24, 5), (24, 5), (24, 5), (24, 5), (24, 5), (24, 5), (24, 5), (24, 5), (24, 5), (24, 5), (24, 5), (24, 5), (24, 5), (24, 5), (24, 5), (24, 5), (24, 5), (24, 5), (24, 5), (24, 5), (24, 5), (24, 5), (24, 5), (24, 5), (24, 5), (24, 5), (37, 5), (37, 5), (37, 5), (37, 5), (37, 5), (37, 5), (37, 5), (37, 5), (37, 5), (37, 5), (37, 5), (37, 5), (37, 5), (37, 5), (37, 5), (37, 5), (37, 5), (37, 5), (37, 5), (37, 5), (37, 5), (37, 5), (37, 5), (37, 5), (37, 5), (37, 5), (37, 5), (37, 5), (37, 5), (37, 5), (37, 5), (37, 5), (37, 5), (37, 5), (37, 5), (37, 5), (37, 5), (37, 5), (37, 5), (37, 5), (37, 5), (37, 5), (37, 5), (37, 5), (37, 5), (37, 5), (37, 5), (37, 5), (37, 5), (37, 5), (37, 5), (37, 5), (37, 5), (37, 5), (40, 4), (40, 4), (40, 4), (40, 4), (40, 4), (40, 4), (40, 4), (40, 4), (40, 4), (40, 4), (40, 4), (40, 4), (40, 4), (40, 4), (40, 4), (40, 4), (40, 4), (40, 4), (40, 4), (40, 4), (40, 4), (40, 4), (40, 4), (40, 4), (40, 4), (40, 4), (40, 4), (40, 4), (40, 4), (40, 4), (40, 4), (40, 4), (40, 4), (40, 4), (40, 4), (40, 4), (40, 4), (40, 4), (40, 4), (40, 4), (40, 4), (40, 4), (40, 4), (40, 4), (40, 4), (40, 4), (40, 4), (40, 4), (40, 4), (40, 4), (40, 4), (40, 4), (40, 4), (40, 4), (41, 5), (41, 5), (41, 5), (41, 5), (41, 5), (41, 5), (41, 5), (41, 5), (41, 5), (41, 5), (41, 5), (41, 5), (41, 5), (41, 5), (41, 5), (41, 5), (41, 5), (41, 5), (41, 5), (41, 5), (41, 5), (41, 5), (41, 5), (41, 5), (41, 5), (41, 5), (41, 5), (41, 5), (41, 5), (41, 5), (41, 5), (41, 5), (41, 5), (41, 5), (41, 5), (41, 5), (41, 5), (41, 5), (41, 5), (41, 5), (41, 5), (41, 5), (41, 5), (41, 5), (41, 5), (41, 5), (41, 5), (41, 5), (41, 5), (41, 5), (41, 5), (41, 5), (41, 5), (41, 5), (42, 5), (42, 5), (42, 5), (42, 5), (42, 5), (42, 5), (42, 5), (42, 5), (42, 5), (42, 5), (42, 5), (42, 5), (42, 5), (42, 5), (42, 5), (42, 5), (42, 5), (42, 5), (42, 5), (42, 5), (42, 5), (42, 5), (42, 5), (42, 5), (42, 5), (42, 5), (42, 5), (42, 5), (42, 5), (42, 5), (42, 5), (42, 5), (42, 5), (42, 5), (42, 5), (42, 5), (42, 5), (42, 5), (42, 5), (42, 5), (42, 5), (42, 5), (42, 5), (42, 5), (42, 5), (42, 5), (42, 5), (42, 5), (42, 5), (42, 5), (42, 5), (42, 5), (42, 5), (42, 5), (43, 4), (43, 4), (43, 4), (43, 4), (43, 4), (43, 4), (43, 4), (43, 4), (43, 4), (43, 4), (43, 4), (43, 4), (43, 4), (43, 4), (43, 4), (43, 4), (43, 4), (43, 4), (43, 4), (43, 4), (43, 4), (43, 4), (43, 4), (43, 4), (43, 4), (43, 4), (43, 4), (43, 4), (43, 4), (43, 4), (43, 4), (43, 4), (43, 4), (43, 4), (43, 4), (43, 4), (43, 4), (43, 4), (43, 4), (43, 4), (43, 4), (43, 4), (43, 4), (43, 4), (43, 4), (43, 4), (43, 4), (43, 4), (43, 4), (43, 4), (43, 4), (43, 4), (43, 4), (44, 5), (44, 5), (44, 5), (44, 5), (44, 5), (44, 5), (44, 5), (44, 5), (44, 5), (44, 5), (44, 5), (44, 5), (44, 5), (44, 5), (44, 5), (44, 5), (44, 5), (44, 5), (44, 5), (44, 5), (44, 5), (44, 5), (44, 5), (44, 5), (44, 5), (44, 5), (44, 5), (44, 5), (44, 5), (44, 5), (44, 5), (44, 5), (44, 5), (44, 5), (44, 5), (44, 5), (44, 5), (44, 5), (44, 5), (44, 5), (44, 5), (44, 5), (44, 5), (44, 5), (44, 5), (44, 5), (44, 5), (44, 5), (44, 5), (44, 5), (44, 5), (44, 5), (44, 5), (44, 5), (53, 4), (53, 4), (53, 4), (53, 4), (53, 4), (53, 4), (53, 4), (53, 4), (53, 4), (53, 4), (53, 4), (53, 4), (53, 4), (53, 4), (53, 4), (53, 4), (53, 4), (53, 4), (53, 4), (53, 4), (53, 4), (53, 4), (53, 4), (53, 4), (53, 4), (53, 4), (53, 4), (53, 4), (53, 4), (53, 4), (53, 4), (53, 4), (53, 4), (53, 4), (53, 4), (53, 4), (53, 4), (53, 4), (53, 4), (53, 4), (53, 4), (53, 4), (53, 4), (53, 4), (53, 4), (53, 4), (53, 4), (53, 4), (53, 4), (53, 4), (53, 4), (53, 4), (53, 4), (53, 4), (55, 4), (55, 4), (55, 4), (55, 4), (55, 4), (55, 4), (55, 4), (55, 4), (55, 4), (55, 4), (55, 4), (55, 4), (55, 4), (55, 4), (55, 4), (55, 4), (55, 4), (55, 4), (55, 4), (55, 4), (55, 4), (55, 4), (55, 4), (55, 4), (55, 4), (55, 4), (55, 4), (55, 4), (55, 4), (55, 4), (55, 4), (55, 4), (55, 4), (55, 4), (55, 4), (55, 4), (55, 4), (55, 4), (55, 4), (55, 4), (55, 4), (55, 4), (55, 4), (55, 4), (55, 4), (55, 4), (55, 4), (55, 4), (55, 4), (55, 4), (55, 4), (55, 4), (55, 4), (55, 4), (56, 5), (56, 5), (56, 5), (56, 5), (56, 5), (56, 5), (56, 5), (56, 5), (56, 5), (56, 5), (56, 5), (56, 5), (56, 5), (56, 5), (56, 5), (56, 5), (56, 5), (56, 5), (56, 5), (56, 5), (56, 5), (56, 5), (56, 5), (56, 5), (56, 5), (56, 5), (56, 5), (56, 5), (56, 5), (56, 5), (56, 5), (56, 5), (56, 5), (56, 5), (56, 5), (56, 5), (56, 5), (56, 5), (56, 5), (56, 5), (56, 5), (56, 5), (56, 5), (56, 5), (56, 5), (56, 5), (56, 5), (56, 5), (56, 5), (56, 5), (56, 5), (56, 5), (56, 5), (57, 5), (57, 5), (57, 5), (57, 5), (57, 5), (57, 5), (57, 5), (57, 5), (57, 5), (57, 5), (57, 5), (57, 5), (57, 5), (57, 5), (57, 5), (57, 5), (57, 5), (57, 5), (57, 5), (57, 5), (57, 5), (57, 5), (57, 5), (57, 5), (57, 5), (57, 5), (57, 5), (57, 5), (57, 5), (57, 5), (57, 5), (57, 5), (57, 5), (57, 5), (57, 5), (57, 5), (57, 5), (57, 5), (57, 5), (57, 5), (57, 5), (57, 5), (57, 5), (57, 5), (57, 5), (57, 5), (57, 5), (57, 5), (57, 5), (57, 5), (57, 5), (57, 5), (57, 5), (63, 4), (63, 4), (63, 4), (63, 4), (63, 4), (63, 4), (63, 4), (63, 4), (63, 4), (63, 4), (63, 4), (63, 4), (63, 4), (63, 4), (63, 4), (63, 4), (63, 4), (63, 4), (63, 4), (63, 4), (63, 4), (63, 4), (63, 4), (63, 4), (63, 4), (63, 4), (63, 4), (63, 4), (63, 4), (63, 4), (63, 4), (63, 4), (63, 4), (63, 4), (63, 4), (63, 4), (63, 4), (63, 4), (63, 4), (63, 4), (63, 4), (63, 4), (63, 4), (63, 4), (63, 4), (63, 4), (63, 4), (63, 4), (63, 4), (63, 4), (63, 4), (63, 4), (63, 4), (63, 4), (69, 4), (69, 4), (69, 4), (69, 4), (69, 4), (69, 4), (69, 4), (69, 4), (69, 4), (69, 4), (69, 4), (69, 4), (69, 4), (69, 4), (69, 4), (69, 4), (69, 4), (69, 4), (69, 4), (69, 4), (69, 4), (69, 4), (69, 4), (69, 4), (69, 4), (69, 4), (69, 4), (69, 4), (69, 4), (69, 4), (69, 4), (69, 4), (69, 4), (69, 4), (69, 4), (69, 4), (69, 4), (69, 4), (69, 4), (69, 4), (69, 4), (69, 4), (69, 4), (69, 4), (69, 4), (69, 4), (69, 4), (69, 4), (69, 4), (69, 4), (69, 4), (69, 4), (69, 4), (69, 4), (71, 4), (71, 4), (71, 4), (71, 4), (71, 4), (71, 4), (71, 4), (71, 4), (71, 4), (71, 4), (71, 4), (71, 4), (71, 4), (71, 4), (71, 4), (71, 4), (71, 4), (71, 4), (71, 4), (71, 4), (71, 4), (71, 4), (71, 4), (71, 4), (71, 4), (71, 4), (71, 4), (71, 4), (71, 4), (71, 4), (71, 4), (71, 4), (71, 4), (71, 4), (71, 4), (71, 4), (71, 4), (71, 4), (71, 4), (71, 4), (71, 4), (71, 4), (71, 4), (71, 4), (71, 4), (71, 4), (71, 4), (71, 4), (71, 4), (71, 4), (71, 4), (71, 4), (71, 4), (71, 4), (74, 4), (74, 4), (74, 4), (74, 4), (74, 4), (74, 4), (74, 4), (74, 4), (74, 4), (74, 4), (74, 4), (74, 4), (74, 4), (74, 4), (74, 4), (74, 4), (74, 4), (74, 4), (74, 4), (74, 4), (74, 4), (74, 4), (74, 4), (74, 4), (74, 4), (74, 4), (74, 4), (74, 4), (74, 4), (74, 4), (74, 4), (74, 4), (74, 4), (74, 4), (74, 4), (74, 4), (74, 4), (74, 4), (74, 4), (74, 4), (74, 4), (74, 4), (74, 4), (74, 4), (74, 4), (74, 4), (74, 4), (74, 4), (74, 4), (74, 4), (74, 4), (74, 4), (74, 4), (74, 4), (76, 5), (76, 5), (76, 5), (76, 5), (76, 5), (76, 5), (76, 5), (76, 5), (76, 5), (76, 5), (76, 5), (76, 5), (76, 5), (76, 5), (76, 5), (76, 5), (76, 5), (76, 5), (76, 5), (76, 5), (76, 5), (76, 5), (76, 5), (76, 5), (76, 5), (76, 5), (76, 5), (76, 5), (76, 5), (76, 5), (76, 5), (76, 5), (76, 5), (76, 5), (76, 5), (76, 5), (76, 5), (76, 5), (76, 5), (76, 5), (76, 5), (76, 5), (76, 5), (76, 5), (76, 5), (76, 5), (76, 5), (76, 5), (76, 5), (76, 5), (76, 5), (76, 5), (76, 5), (76, 5), (78, 4), (78, 4), (78, 4), (78, 4), (78, 4), (78, 4), (78, 4), (78, 4), (78, 4), (78, 4), (78, 4), (78, 4), (78, 4), (78, 4), (78, 4), (78, 4), (78, 4), (78, 4), (78, 4), (78, 4), (78, 4), (78, 4), (78, 4), (78, 4), (78, 4), (78, 4), (78, 4), (78, 4), (78, 4), (78, 4), (78, 4), (78, 4), (78, 4), (78, 4), (78, 4), (78, 4), (78, 4), (78, 4), (78, 4), (78, 4), (78, 4), (78, 4), (78, 4), (78, 4), (78, 4), (78, 4), (78, 4), (78, 4), (78, 4), (78, 4), (78, 4), (78, 4), (78, 4), (78, 4), (80, 4), (80, 4), (80, 4), (80, 4), (80, 4), (80, 4), (80, 4), (80, 4), (80, 4), (80, 4), (80, 4), (80, 4), (80, 4), (80, 4), (80, 4), (80, 4), (80, 4), (80, 4), (80, 4), (80, 4), (80, 4), (80, 4), (80, 4), (80, 4), (80, 4), (80, 4), (80, 4), (80, 4), (80, 4), (80, 4), (80, 4), (80, 4), (80, 4), (80, 4), (80, 4), (80, 4), (80, 4), (80, 4), (80, 4), (80, 4), (80, 4), (80, 4), (80, 4), (80, 4), (80, 4), (80, 4), (80, 4), (80, 4), (80, 4), (80, 4), (80, 4), (80, 4), (80, 4), (80, 4), (81, 4), (81, 4), (81, 4), (81, 4), (81, 4), (81, 4), (81, 4), (81, 4), (81, 4), (81, 4), (81, 4), (81, 4), (81, 4), (81, 4), (81, 4), (81, 4), (81, 4), (81, 4), (81, 4), (81, 4), (81, 4), (81, 4), (81, 4), (81, 4), (81, 4), (81, 4), (81, 4), (81, 4), (81, 4), (81, 4), (81, 4), (81, 4), (81, 4), (81, 4), (81, 4), (81, 4), (81, 4), (81, 4), (81, 4), (81, 4), (81, 4), (81, 4), (81, 4), (81, 4), (81, 4), (81, 4), (81, 4), (81, 4), (81, 4), (81, 4), (81, 4), (81, 4), (81, 4), (81, 4), (82, 4), (82, 4), (82, 4), (82, 4), (82, 4), (82, 4), (82, 4), (82, 4), (82, 4), (82, 4), (82, 4), (82, 4), (82, 4), (82, 4), (82, 4), (82, 4), (82, 4), (82, 4), (82, 4), (82, 4), (82, 4), (82, 4), (82, 4), (82, 4), (82, 4), (82, 4), (82, 4), (82, 4), (82, 4), (82, 4), (82, 4), (82, 4), (82, 4), (82, 4), (82, 4), (82, 4), (82, 4), (82, 4), (82, 4), (82, 4), (82, 4), (82, 4), (82, 4), (82, 4), (82, 4), (82, 4), (82, 4), (82, 4), (82, 4), (82, 4), (82, 4), (82, 4), (82, 4), (82, 4), (88, 5), (88, 5), (88, 5), (88, 5), (88, 5), (88, 5), (88, 5), (88, 5), (88, 5), (88, 5), (88, 5), (88, 5), (88, 5), (88, 5), (88, 5), (88, 5), (88, 5), (88, 5), (88, 5), (88, 5), (88, 5), (88, 5), (88, 5), (88, 5), (88, 5), (88, 5), (88, 5), (88, 5), (88, 5), (88, 5), (88, 5), (88, 5), (88, 5), (88, 5), (88, 5), (88, 5), (88, 5), (88, 5), (88, 5), (88, 5), (88, 5), (88, 5), (88, 5), (88, 5), (88, 5), (88, 5), (88, 5), (88, 5), (88, 5), (88, 5), (88, 5), (88, 5), (88, 5), (88, 5), (91, 4), (91, 4), (91, 4), (91, 4), (91, 4), (91, 4), (91, 4), (91, 4), (91, 4), (91, 4), (91, 4), (91, 4), (91, 4), (91, 4), (91, 4), (91, 4), (91, 4), (91, 4), (91, 4), (91, 4), (91, 4), (91, 4), (91, 4), (91, 4), (91, 4), (91, 4), (91, 4), (91, 4), (91, 4), (91, 4), (91, 4), (91, 4), (91, 4), (91, 4), (91, 4), (91, 4), (91, 4), (91, 4), (91, 4), (91, 4), (91, 4), (91, 4), (91, 4), (91, 4), (91, 4), (91, 4), (91, 4), (91, 4), (91, 4), (91, 4), (91, 4), (91, 4), (91, 4), (91, 4), (92, 5), (92, 5), (92, 5), (92, 5), (92, 5), (92, 5), (92, 5), (92, 5), (92, 5), (92, 5), (92, 5), (92, 5), (92, 5), (92, 5), (92, 5), (92, 5), (92, 5), (92, 5), (92, 5), (92, 5), (92, 5), (92, 5), (92, 5), (92, 5), (92, 5), (92, 5), (92, 5), (92, 5), (92, 5), (92, 5), (92, 5), (92, 5), (92, 5), (92, 5), (92, 5), (92, 5), (92, 5), (92, 5), (92, 5), (92, 5), (92, 5), (92, 5), (92, 5), (92, 5), (92, 5), (92, 5), (92, 5), (92, 5), (92, 5), (92, 5), (92, 5), (92, 5), (92, 5), (92, 5), (93, 4), (93, 4), (93, 4), (93, 4), (93, 4), (93, 4), (93, 4), (93, 4), (93, 4), (93, 4), (93, 4), (93, 4), (93, 4), (93, 4), (93, 4), (93, 4), (93, 4), (93, 4), (93, 4), (93, 4), (93, 4), (93, 4), (93, 4), (93, 4), (93, 4), (93, 4), (93, 4), (93, 4), (93, 4), (93, 4), (93, 4), (93, 4), (93, 4), (93, 4), (93, 4), (93, 4), (93, 4), (93, 4), (93, 4), (93, 4), (93, 4), (93, 4), (93, 4), (93, 4), (93, 4), (93, 4), (93, 4), (93, 4), (93, 4), (93, 4), (93, 4), (93, 4), (93, 4), (93, 4), (94, 5), (94, 5), (94, 5), (94, 5), (94, 5), (94, 5), (94, 5), (94, 5), (94, 5), (94, 5), (94, 5), (94, 5), (94, 5), (94, 5), (94, 5), (94, 5), (94, 5), (94, 5), (94, 5), (94, 5), (94, 5), (94, 5), (94, 5), (94, 5), (94, 5), (94, 5), (94, 5), (94, 5), (94, 5), (94, 5), (94, 5), (94, 5), (94, 5), (94, 5), (94, 5), (94, 5), (94, 5), (94, 5), (94, 5), (94, 5), (94, 5), (94, 5), (94, 5), (94, 5), (94, 5), (94, 5), (94, 5), (94, 5), (94, 5), (94, 5), (94, 5), (94, 5), (94, 5), (94, 5), (95, 5), (95, 5), (95, 5), (95, 5), (95, 5), (95, 5), (95, 5), (95, 5), (95, 5), (95, 5), (95, 5), (95, 5), (95, 5), (95, 5), (95, 5), (95, 5), (95, 5), (95, 5), (95, 5), (95, 5), (95, 5), (95, 5), (95, 5), (95, 5), (95, 5), (95, 5), (95, 5), (95, 5), (95, 5), (95, 5), (95, 5), (95, 5), (95, 5), (95, 5), (95, 5), (95, 5), (95, 5), (95, 5), (95, 5), (95, 5), (95, 5), (95, 5), (95, 5), (95, 5), (95, 5), (95, 5), (95, 5), (95, 5), (95, 5), (95, 5), (95, 5), (95, 5), (95, 5), (95, 5), (96, 4), (96, 4), (96, 4), (96, 4), (96, 4), (96, 4), (96, 4), (96, 4), (96, 4), (96, 4), (96, 4), (96, 4), (96, 4), (96, 4), (96, 4), (96, 4), (96, 4), (96, 4), (96, 4), (96, 4), (96, 4), (96, 4), (96, 4), (96, 4), (96, 4), (96, 4), (96, 4), (96, 4), (96, 4), (96, 4), (96, 4), (96, 4), (96, 4), (96, 4), (96, 4), (96, 4), (96, 4), (96, 4), (96, 4), (96, 4), (96, 4), (96, 4), (96, 4), (96, 4), (96, 4), (96, 4), (96, 4), (96, 4), (96, 4), (96, 4), (96, 4), (96, 4), (96, 4), (96, 4), (98, 4), (98, 4), (98, 4), (98, 4), (98, 4), (98, 4), (98, 4), (98, 4), (98, 4), (98, 4), (98, 4), (98, 4), (98, 4), (98, 4), (98, 4), (98, 4), (98, 4), (98, 4), (98, 4), (98, 4), (98, 4), (98, 4), (98, 4), (98, 4), (98, 4), (98, 4), (98, 4), (98, 4), (98, 4), (98, 4), (98, 4), (98, 4), (98, 4), (98, 4), (98, 4), (98, 4), (98, 4), (98, 4), (98, 4), (98, 4), (98, 4), (98, 4), (98, 4), (98, 4), (98, 4), (98, 4), (98, 4), (98, 4), (98, 4), (98, 4), (98, 4), (98, 4), (98, 4), (98, 4), (105, 4), (105, 4), (105, 4), (105, 4), (105, 4), (105, 4), (105, 4), (105, 4), (105, 4), (105, 4), (105, 4), (105, 4), (105, 4), (105, 4), (105, 4), (105, 4), (105, 4), (105, 4), (105, 4), (105, 4), (105, 4), (105, 4), (105, 4), (105, 4), (105, 4), (105, 4), (105, 4), (105, 4), (105, 4), (105, 4), (105, 4), (105, 4), (105, 4), (105, 4), (105, 4), (105, 4), (105, 4), (105, 4), (105, 4), (105, 4), (105, 4), (105, 4), (105, 4), (105, 4), (105, 4), (105, 4), (105, 4), (105, 4), (105, 4), (105, 4), (105, 4), (105, 4), (105, 4), (105, 4), (107, 4), (107, 4), (107, 4), (107, 4), (107, 4), (107, 4), (107, 4), (107, 4), (107, 4), (107, 4), (107, 4), (107, 4), (107, 4), (107, 4), (107, 4), (107, 4), (107, 4), (107, 4), (107, 4), (107, 4), (107, 4), (107, 4), (107, 4), (107, 4), (107, 4), (107, 4), (107, 4), (107, 4), (107, 4), (107, 4), (107, 4), (107, 4), (107, 4), (107, 4), (107, 4), (107, 4), (107, 4), (107, 4), (107, 4), (107, 4), (107, 4), (107, 4), (107, 4), (107, 4), (107, 4), (107, 4), (107, 4), (107, 4), (107, 4), (107, 4), (107, 4), (107, 4), (107, 4), (107, 4), (108, 4), (108, 4), (108, 4), (108, 4), (108, 4), (108, 4), (108, 4), (108, 4), (108, 4), (108, 4), (108, 4), (108, 4), (108, 4), (108, 4), (108, 4), (108, 4), (108, 4), (108, 4), (108, 4), (108, 4), (108, 4), (108, 4), (108, 4), (108, 4), (108, 4), (108, 4), (108, 4), (108, 4), (108, 4), (108, 4), (108, 4), (108, 4), (108, 4), (108, 4), (108, 4), (108, 4), (108, 4), (108, 4), (108, 4), (108, 4), (108, 4), (108, 4), (108, 4), (108, 4), (108, 4), (108, 4), (108, 4), (108, 4), (108, 4), (108, 4), (108, 4), (108, 4), (108, 4), (108, 4), (116, 4), (116, 4), (116, 4), (116, 4), (116, 4), (116, 4), (116, 4), (116, 4), (116, 4), (116, 4), (116, 4), (116, 4), (116, 4), (116, 4), (116, 4), (116, 4), (116, 4), (116, 4), (116, 4), (116, 4), (116, 4), (116, 4), (116, 4), (116, 4), (116, 4), (116, 4), (116, 4), (116, 4), (116, 4), (116, 4), (116, 4), (116, 4), (116, 4), (116, 4), (116, 4), (116, 4), (116, 4), (116, 4), (116, 4), (116, 4), (116, 4), (116, 4), (116, 4), (116, 4), (116, 4), (116, 4), (116, 4), (116, 4), (116, 4), (116, 4), (116, 4), (116, 4), (116, 4), (119, 4), (119, 4), (119, 4), (119, 4), (119, 4), (119, 4), (119, 4), (119, 4), (119, 4), (119, 4), (119, 4), (119, 4), (119, 4), (119, 4), (119, 4), (119, 4), (119, 4), (119, 4), (119, 4), (119, 4), (119, 4), (119, 4), (119, 4), (119, 4), (119, 4), (119, 4), (119, 4), (119, 4), (119, 4), (119, 4), (119, 4), (119, 4), (119, 4), (119, 4), (119, 4), (119, 4), (119, 4), (119, 4), (119, 4), (119, 4), (119, 4), (119, 4), (119, 4), (119, 4), (119, 4), (119, 4), (119, 4), (119, 4), (119, 4), (119, 4), (119, 4), (119, 4), (119, 4), (119, 4), (120, 4), (120, 4), (120, 4), (120, 4), (120, 4), (120, 4), (120, 4), (120, 4), (120, 4), (120, 4), (120, 4), (120, 4), (120, 4), (120, 4), (120, 4), (120, 4), (120, 4), (120, 4), (120, 4), (120, 4), (120, 4), (120, 4), (120, 4), (120, 4), (120, 4), (120, 4), (120, 4), (120, 4), (120, 4), (120, 4), (120, 4), (120, 4), (120, 4), (120, 4), (120, 4), (120, 4), (120, 4), (120, 4), (120, 4), (120, 4), (120, 4), (120, 4), (120, 4), (120, 4), (120, 4), (120, 4), (120, 4), (120, 4), (120, 4), (120, 4), (120, 4), (120, 4), (120, 4), (120, 4), (124, 4), (124, 4), (124, 4), (124, 4), (124, 4), (124, 4), (124, 4), (124, 4), (124, 4), (124, 4), (124, 4), (124, 4), (124, 4), (124, 4), (124, 4), (124, 4), (124, 4), (124, 4), (124, 4), (124, 4), (124, 4), (124, 4), (124, 4), (124, 4), (124, 4), (124, 4), (124, 4), (124, 4), (124, 4), (124, 4), (124, 4), (124, 4), (124, 4), (124, 4), (124, 4), (124, 4), (124, 4), (124, 4), (124, 4), (124, 4), (124, 4), (124, 4), (124, 4), (124, 4), (124, 4), (124, 4), (124, 4), (124, 4), (124, 4), (124, 4), (124, 4), (124, 4), (124, 4), (124, 4), (127, 4), (127, 4), (127, 4), (127, 4), (127, 4), (127, 4), (127, 4), (127, 4), (127, 4), (127, 4), (127, 4), (127, 4), (127, 4), (127, 4), (127, 4), (127, 4), (127, 4), (127, 4), (127, 4), (127, 4), (127, 4), (127, 4), (127, 4), (127, 4), (127, 4), (127, 4), (127, 4), (127, 4), (127, 4), (127, 4), (127, 4), (127, 4), (127, 4), (127, 4), (127, 4), (127, 4), (127, 4), (127, 4), (127, 4), (127, 4), (127, 4), (127, 4), (127, 4), (127, 4), (127, 4), (127, 4), (127, 4), (127, 4), (127, 4), (127, 4), (127, 4), (127, 4), (127, 4), (127, 4), (129, 5), (129, 5), (129, 5), (129, 5), (129, 5), (129, 5), (129, 5), (129, 5), (129, 5), (129, 5), (129, 5), (129, 5), (129, 5), (129, 5), (129, 5), (129, 5), (129, 5), (129, 5), (129, 5), (129, 5), (129, 5), (129, 5), (129, 5), (129, 5), (129, 5), (129, 5), (129, 5), (129, 5), (129, 5), (129, 5), (129, 5), (129, 5), (129, 5), (129, 5), (129, 5), (129, 5), (129, 5), (129, 5), (129, 5), (129, 5), (129, 5), (129, 5), (129, 5), (129, 5), (129, 5), (129, 5), (129, 5), (129, 5), (129, 5), (129, 5), (129, 5), (129, 5), (129, 5), (130, 4), (130, 4), (130, 4), (130, 4), (130, 4), (130, 4), (130, 4), (130, 4), (130, 4), (130, 4), (130, 4), (130, 4), (130, 4), (130, 4), (130, 4), (130, 4), (130, 4), (130, 4), (130, 4), (130, 4), (130, 4), (130, 4), (130, 4), (130, 4), (130, 4), (130, 4), (130, 4), (130, 4), (130, 4), (130, 4), (130, 4), (130, 4), (130, 4), (130, 4), (130, 4), (130, 4), (130, 4), (130, 4), (130, 4), (130, 4), (130, 4), (130, 4), (130, 4), (130, 4), (130, 4), (130, 4), (130, 4), (130, 4), (130, 4), (130, 4), (130, 4), (130, 4), (130, 4), (130, 4), (133, 5), (133, 5), (133, 5), (133, 5), (133, 5), (133, 5), (133, 5), (133, 5), (133, 5), (133, 5), (133, 5), (133, 5), (133, 5), (133, 5), (133, 5), (133, 5), (133, 5), (133, 5), (133, 5), (133, 5), (133, 5), (133, 5), (133, 5), (133, 5), (133, 5), (133, 5), (133, 5), (133, 5), (133, 5), (133, 5), (133, 5), (133, 5), (133, 5), (133, 5), (133, 5), (133, 5), (133, 5), (133, 5), (133, 5), (133, 5), (133, 5), (133, 5), (133, 5), (133, 5), (133, 5), (133, 5), (133, 5), (133, 5), (133, 5), (133, 5), (133, 5), (133, 5), (133, 5), (133, 5), (137, 4), (137, 4), (137, 4), (137, 4), (137, 4), (137, 4), (137, 4), (137, 4), (137, 4), (137, 4), (137, 4), (137, 4), (137, 4), (137, 4), (137, 4), (137, 4), (137, 4), (137, 4), (137, 4), (137, 4), (137, 4), (137, 4), (137, 4), (137, 4), (137, 4), (137, 4), (137, 4), (137, 4), (137, 4), (137, 4), (137, 4), (137, 4), (137, 4), (137, 4), (137, 4), (137, 4), (137, 4), (137, 4), (137, 4), (137, 4), (137, 4), (137, 4), (137, 4), (137, 4), (137, 4), (137, 4), (137, 4), (137, 4), (137, 4), (137, 4), (137, 4), (137, 4), (137, 4), (137, 4), (143, 4), (143, 4), (143, 4), (143, 4), (143, 4), (143, 4), (143, 4), (143, 4), (143, 4), (143, 4), (143, 4), (143, 4), (143, 4), (143, 4), (143, 4), (143, 4), (143, 4), (143, 4), (143, 4), (143, 4), (143, 4), (143, 4), (143, 4), (143, 4), (143, 4), (143, 4), (143, 4), (143, 4), (143, 4), (143, 4), (143, 4), (143, 4), (143, 4), (143, 4), (143, 4), (143, 4), (143, 4), (143, 4), (143, 4), (143, 4), (143, 4), (143, 4), (143, 4), (143, 4), (143, 4), (143, 4), (143, 4), (143, 4), (143, 4), (143, 4), (143, 4), (143, 4), (143, 4), (143, 4), (147, 4), (147, 4), (147, 4), (147, 4), (147, 4), (147, 4), (147, 4), (147, 4), (147, 4), (147, 4), (147, 4), (147, 4), (147, 4), (147, 4), (147, 4), (147, 4), (147, 4), (147, 4), (147, 4), (147, 4), (147, 4), (147, 4), (147, 4), (147, 4), (147, 4), (147, 4), (147, 4), (147, 4), (147, 4), (147, 4), (147, 4), (147, 4), (147, 4), (147, 4), (147, 4), (147, 4), (147, 4), (147, 4), (147, 4), (147, 4), (147, 4), (147, 4), (147, 4), (147, 4), (147, 4), (147, 4), (147, 4), (147, 4), (147, 4), (147, 4), (147, 4), (147, 4), (147, 4), (147, 4), (149, 4), (149, 4), (149, 4), (149, 4), (149, 4), (149, 4), (149, 4), (149, 4), (149, 4), (149, 4), (149, 4), (149, 4), (149, 4), (149, 4), (149, 4), (149, 4), (149, 4), (149, 4), (149, 4), (149, 4), (149, 4), (149, 4), (149, 4), (149, 4), (149, 4), (149, 4), (149, 4), (149, 4), (149, 4), (149, 4), (149, 4), (149, 4), (149, 4), (149, 4), (149, 4), (149, 4), (149, 4), (149, 4), (149, 4), (149, 4), (149, 4), (149, 4), (149, 4), (149, 4), (149, 4), (149, 4), (149, 4), (149, 4), (149, 4), (149, 4), (149, 4), (149, 4), (149, 4), (149, 4), (150, 5), (150, 5), (150, 5), (150, 5), (150, 5), (150, 5), (150, 5), (150, 5), (150, 5), (150, 5), (150, 5), (150, 5), (150, 5), (150, 5), (150, 5), (150, 5), (150, 5), (150, 5), (150, 5), (150, 5), (150, 5), (150, 5), (150, 5), (150, 5), (150, 5), (150, 5), (150, 5), (150, 5), (150, 5), (150, 5), (150, 5), (150, 5), (150, 5), (150, 5), (150, 5), (150, 5), (150, 5), (150, 5), (150, 5), (150, 5), (150, 5), (150, 5), (150, 5), (150, 5), (150, 5), (150, 5), (150, 5), (150, 5), (150, 5), (150, 5), (150, 5), (150, 5), (150, 5), (150, 5), (156, 5), (156, 5), (156, 5), (156, 5), (156, 5), (156, 5), (156, 5), (156, 5), (156, 5), (156, 5), (156, 5), (156, 5), (156, 5), (156, 5), (156, 5), (156, 5), (156, 5), (156, 5), (156, 5), (156, 5), (156, 5), (156, 5), (156, 5), (156, 5), (156, 5), (156, 5), (156, 5), (156, 5), (156, 5), (156, 5), (156, 5), (156, 5), (156, 5), (156, 5), (156, 5), (156, 5), (156, 5), (156, 5), (156, 5), (156, 5), (156, 5), (156, 5), (156, 5), (156, 5), (156, 5), (156, 5), (156, 5), (156, 5), (156, 5), (156, 5), (156, 5), (156, 5), (156, 5), (156, 5), (157, 4), (157, 4), (157, 4), (157, 4), (157, 4), (157, 4), (157, 4), (157, 4), (157, 4), (157, 4), (157, 4), (157, 4), (157, 4), (157, 4), (157, 4), (157, 4), (157, 4), (157, 4), (157, 4), (157, 4), (157, 4), (157, 4), (157, 4), (157, 4), (157, 4), (157, 4), (157, 4), (157, 4), (157, 4), (157, 4), (157, 4), (157, 4), (157, 4), (157, 4), (157, 4), (157, 4), (157, 4), (157, 4), (157, 4), (157, 4), (157, 4), (157, 4), (157, 4), (157, 4), (157, 4), (157, 4), (157, 4), (157, 4), (157, 4), (157, 4), (157, 4), (157, 4), (157, 4), (157, 4), (159, 4), (159, 4), (159, 4), (159, 4), (159, 4), (159, 4), (159, 4), (159, 4), (159, 4), (159, 4), (159, 4), (159, 4), (159, 4), (159, 4), (159, 4), (159, 4), (159, 4), (159, 4), (159, 4), (159, 4), (159, 4), (159, 4), (159, 4), (159, 4), (159, 4), (159, 4), (159, 4), (159, 4), (159, 4), (159, 4), (159, 4), (159, 4), (159, 4), (159, 4), (159, 4), (159, 4), (159, 4), (159, 4), (159, 4), (159, 4), (159, 4), (159, 4), (159, 4), (159, 4), (159, 4), (159, 4), (159, 4), (159, 4), (159, 4), (159, 4), (159, 4), (159, 4), (159, 4), (159, 4), (161, 4), (161, 4), (161, 4), (161, 4), (161, 4), (161, 4), (161, 4), (161, 4), (161, 4), (161, 4), (161, 4), (161, 4), (161, 4), (161, 4), (161, 4), (161, 4), (161, 4), (161, 4), (161, 4), (161, 4), (161, 4), (161, 4), (161, 4), (161, 4), (161, 4), (161, 4), (161, 4), (161, 4), (161, 4), (161, 4), (161, 4), (161, 4), (161, 4), (161, 4), (161, 4), (161, 4), (161, 4), (161, 4), (161, 4), (161, 4), (161, 4), (161, 4), (161, 4), (161, 4), (161, 4), (161, 4), (161, 4), (161, 4), (161, 4), (161, 4), (161, 4), (161, 4), (161, 4), (161, 4), (167, 5), (167, 5), (167, 5), (167, 5), (167, 5), (167, 5), (167, 5), (167, 5), (167, 5), (167, 5), (167, 5), (167, 5), (167, 5), (167, 5), (167, 5), (167, 5), (167, 5), (167, 5), (167, 5), (167, 5), (167, 5), (167, 5), (167, 5), (167, 5), (167, 5), (167, 5), (167, 5), (167, 5), (167, 5), (167, 5), (167, 5), (167, 5), (167, 5), (167, 5), (167, 5), (167, 5), (167, 5), (167, 5), (167, 5), (167, 5), (167, 5), (167, 5), (167, 5), (167, 5), (167, 5), (167, 5), (167, 5), (167, 5), (167, 5), (167, 5), (167, 5), (167, 5), (167, 5), (167, 5), (177, 4), (177, 4), (177, 4), (177, 4), (177, 4), (177, 4), (177, 4), (177, 4), (177, 4), (177, 4), (177, 4), (177, 4), (177, 4), (177, 4), (177, 4), (177, 4), (177, 4), (177, 4), (177, 4), (177, 4), (177, 4), (177, 4), (177, 4), (177, 4), (177, 4), (177, 4), (177, 4), (177, 4), (177, 4), (177, 4), (177, 4), (177, 4), (177, 4), (177, 4), (177, 4), (177, 4), (177, 4), (177, 4), (177, 4), (177, 4), (177, 4), (177, 4), (177, 4), (177, 4), (177, 4), (177, 4), (177, 4), (177, 4), (177, 4), (177, 4), (177, 4), (177, 4), (177, 4), (177, 4), (181, 4), (181, 4), (181, 4), (181, 4), (181, 4), (181, 4), (181, 4), (181, 4), (181, 4), (181, 4), (181, 4), (181, 4), (181, 4), (181, 4), (181, 4), (181, 4), (181, 4), (181, 4), (181, 4), (181, 4), (181, 4), (181, 4), (181, 4), (181, 4), (181, 4), (181, 4), (181, 4), (181, 4), (181, 4), (181, 4), (181, 4), (181, 4), (181, 4), (181, 4), (181, 4), (181, 4), (181, 4), (181, 4), (181, 4), (181, 4), (181, 4), (181, 4), (181, 4), (181, 4), (181, 4), (181, 4), (181, 4), (181, 4), (181, 4), (181, 4), (181, 4), (181, 4), (181, 4), (181, 4), (183, 4), (183, 4), (183, 4), (183, 4), (183, 4), (183, 4), (183, 4), (183, 4), (183, 4), (183, 4), (183, 4), (183, 4), (183, 4), (183, 4), (183, 4), (183, 4), (183, 4), (183, 4), (183, 4), (183, 4), (183, 4), (183, 4), (183, 4), (183, 4), (183, 4), (183, 4), (183, 4), (183, 4), (183, 4), (183, 4), (183, 4), (183, 4), (183, 4), (183, 4), (183, 4), (183, 4), (183, 4), (183, 4), (183, 4), (183, 4), (183, 4), (183, 4), (183, 4), (183, 4), (183, 4), (183, 4), (183, 4), (183, 4), (183, 4), (183, 4), (183, 4), (183, 4), (183, 4), (183, 4), (188, 5), (188, 5), (188, 5), (188, 5), (188, 5), (188, 5), (188, 5), (188, 5), (188, 5), (188, 5), (188, 5), (188, 5), (188, 5), (188, 5), (188, 5), (188, 5), (188, 5), (188, 5), (188, 5), (188, 5), (188, 5), (188, 5), (188, 5), (188, 5), (188, 5), (188, 5), (188, 5), (188, 5), (188, 5), (188, 5), (188, 5), (188, 5), (188, 5), (188, 5), (188, 5), (188, 5), (188, 5), (188, 5), (188, 5), (188, 5), (188, 5), (188, 5), (188, 5), (188, 5), (188, 5), (188, 5), (188, 5), (188, 5), (188, 5), (188, 5), (188, 5), (188, 5), (188, 5), (188, 5), (192, 4), (192, 4), (192, 4), (192, 4), (192, 4), (192, 4), (192, 4), (192, 4), (192, 4), (192, 4), (192, 4), (192, 4), (192, 4), (192, 4), (192, 4), (192, 4), (192, 4), (192, 4), (192, 4), (192, 4), (192, 4), (192, 4), (192, 4), (192, 4), (192, 4), (192, 4), (192, 4), (192, 4), (192, 4), (192, 4), (192, 4), (192, 4), (192, 4), (192, 4), (192, 4), (192, 4), (192, 4), (192, 4), (192, 4), (192, 4), (192, 4), (192, 4), (192, 4), (192, 4), (192, 4), (192, 4), (192, 4), (192, 4), (192, 4), (192, 4), (192, 4), (192, 4), (192, 4), (192, 4), (193, 4), (193, 4), (193, 4), (193, 4), (193, 4), (193, 4), (193, 4), (193, 4), (193, 4), (193, 4), (193, 4), (193, 4), (193, 4), (193, 4), (193, 4), (193, 4), (193, 4), (193, 4), (193, 4), (193, 4), (193, 4), (193, 4), (193, 4), (193, 4), (193, 4), (193, 4), (193, 4), (193, 4), (193, 4), (193, 4), (193, 4), (193, 4), (193, 4), (193, 4), (193, 4), (193, 4), (193, 4), (193, 4), (193, 4), (193, 4), (193, 4), (193, 4), (193, 4), (193, 4), (193, 4), (193, 4), (193, 4), (193, 4), (193, 4), (193, 4), (193, 4), (193, 4), (193, 4), (193, 4), (197, 4), (197, 4), (197, 4), (197, 4), (197, 4), (197, 4), (197, 4), (197, 4), (197, 4), (197, 4), (197, 4), (197, 4), (197, 4), (197, 4), (197, 4), (197, 4), (197, 4), (197, 4), (197, 4), (197, 4), (197, 4), (197, 4), (197, 4), (197, 4), (197, 4), (197, 4), (197, 4), (197, 4), (197, 4), (197, 4), (197, 4), (197, 4), (197, 4), (197, 4), (197, 4), (197, 4), (197, 4), (197, 4), (197, 4), (197, 4), (197, 4), (197, 4), (197, 4), (197, 4), (197, 4), (197, 4), (197, 4), (197, 4), (197, 4), (197, 4), (197, 4), (197, 4), (197, 4), (197, 4), (199, 5), (199, 5), (199, 5), (199, 5), (199, 5), (199, 5), (199, 5), (199, 5), (199, 5), (199, 5), (199, 5), (199, 5), (199, 5), (199, 5), (199, 5), (199, 5), (199, 5), (199, 5), (199, 5), (199, 5), (199, 5), (199, 5), (199, 5), (199, 5), (199, 5), (199, 5), (199, 5), (199, 5), (199, 5), (199, 5), (199, 5), (199, 5), (199, 5), (199, 5), (199, 5), (199, 5), (199, 5), (199, 5), (199, 5), (199, 5), (199, 5), (199, 5), (199, 5), (199, 5), (199, 5), (199, 5), (199, 5), (199, 5), (199, 5), (199, 5), (199, 5), (199, 5), (199, 5), (199, 5), (208, 5), (208, 5), (208, 5), (208, 5), (208, 5), (208, 5), (208, 5), (208, 5), (208, 5), (208, 5), (208, 5), (208, 5), (208, 5), (208, 5), (208, 5), (208, 5), (208, 5), (208, 5), (208, 5), (208, 5), (208, 5), (208, 5), (208, 5), (208, 5), (208, 5), (208, 5), (208, 5), (208, 5), (208, 5), (208, 5), (208, 5), (208, 5), (208, 5), (208, 5), (208, 5), (208, 5), (208, 5), (208, 5), (208, 5), (208, 5), (208, 5), (208, 5), (208, 5), (208, 5), (208, 5), (208, 5), (208, 5), (208, 5), (208, 5), (208, 5), (208, 5), (208, 5), (208, 5), (208, 5), (209, 5), (209, 5), (209, 5), (209, 5), (209, 5), (209, 5), (209, 5), (209, 5), (209, 5), (209, 5), (209, 5), (209, 5), (209, 5), (209, 5), (209, 5), (209, 5), (209, 5), (209, 5), (209, 5), (209, 5), (209, 5), (209, 5), (209, 5), (209, 5), (209, 5), (209, 5), (209, 5), (209, 5), (209, 5), (209, 5), (209, 5), (209, 5), (209, 5), (209, 5), (209, 5), (209, 5), (209, 5), (209, 5), (209, 5), (209, 5), (209, 5), (209, 5), (209, 5), (209, 5), (209, 5), (209, 5), (209, 5), (209, 5), (209, 5), (209, 5), (209, 5), (209, 5), (209, 5), (209, 5), (215, 4), (215, 4), (215, 4), (215, 4), (215, 4), (215, 4), (215, 4), (215, 4), (215, 4), (215, 4), (215, 4), (215, 4), (215, 4), (215, 4), (215, 4), (215, 4), (215, 4), (215, 4), (215, 4), (215, 4), (215, 4), (215, 4), (215, 4), (215, 4), (215, 4), (215, 4), (215, 4), (215, 4), (215, 4), (215, 4), (215, 4), (215, 4), (215, 4), (215, 4), (215, 4), (215, 4), (215, 4), (215, 4), (215, 4), (215, 4), (215, 4), (215, 4), (215, 4), (215, 4), (215, 4), (215, 4), (215, 4), (215, 4), (215, 4), (215, 4), (215, 4), (215, 4), (215, 4), (215, 4), (221, 4), (221, 4), (221, 4), (221, 4), (221, 4), (221, 4), (221, 4), (221, 4), (221, 4), (221, 4), (221, 4), (221, 4), (221, 4), (221, 4), (221, 4), (221, 4), (221, 4), (221, 4), (221, 4), (221, 4), (221, 4), (221, 4), (221, 4), (221, 4), (221, 4), (221, 4), (221, 4), (221, 4), (221, 4), (221, 4), (221, 4), (221, 4), (221, 4), (221, 4), (221, 4), (221, 4), (221, 4), (221, 4), (221, 4), (221, 4), (221, 4), (221, 4), (221, 4), (221, 4), (221, 4), (221, 4), (221, 4), (221, 4), (221, 4), (221, 4), (221, 4), (221, 4), (221, 4), (221, 4), (222, 4), (222, 4), (222, 4), (222, 4), (222, 4), (222, 4), (222, 4), (222, 4), (222, 4), (222, 4), (222, 4), (222, 4), (222, 4), (222, 4), (222, 4), (222, 4), (222, 4), (222, 4), (222, 4), (222, 4), (222, 4), (222, 4), (222, 4), (222, 4), (222, 4), (222, 4), (222, 4), (222, 4), (222, 4), (222, 4), (222, 4), (222, 4), (222, 4), (222, 4), (222, 4), (222, 4), (222, 4), (222, 4), (222, 4), (222, 4), (222, 4), (222, 4), (222, 4), (222, 4), (222, 4), (222, 4), (222, 4), (222, 4), (222, 4), (222, 4), (222, 4), (222, 4), (222, 4), (222, 4), (229, 5), (229, 5), (229, 5), (229, 5), (229, 5), (229, 5), (229, 5), (229, 5), (229, 5), (229, 5), (229, 5), (229, 5), (229, 5), (229, 5), (229, 5), (229, 5), (229, 5), (229, 5), (229, 5), (229, 5), (229, 5), (229, 5), (229, 5), (229, 5), (229, 5), (229, 5), (229, 5), (229, 5), (229, 5), (229, 5), (229, 5), (229, 5), (229, 5), (229, 5), (229, 5), (229, 5), (229, 5), (229, 5), (229, 5), (229, 5), (229, 5), (229, 5), (229, 5), (229, 5), (229, 5), (229, 5), (229, 5), (229, 5), (229, 5), (229, 5), (229, 5), (229, 5), (229, 5), (229, 5), (231, 4), (231, 4), (231, 4), (231, 4), (231, 4), (231, 4), (231, 4), (231, 4), (231, 4), (231, 4), (231, 4), (231, 4), (231, 4), (231, 4), (231, 4), (231, 4), (231, 4), (231, 4), (231, 4), (231, 4), (231, 4), (231, 4), (231, 4), (231, 4), (231, 4), (231, 4), (231, 4), (231, 4), (231, 4), (231, 4), (231, 4), (231, 4), (231, 4), (231, 4), (231, 4), (231, 4), (231, 4), (231, 4), (231, 4), (231, 4), (231, 4), (231, 4), (231, 4), (231, 4), (231, 4), (231, 4), (231, 4), (231, 4), (231, 4), (231, 4), (231, 4), (231, 4), (231, 4), (231, 4), (234, 4), (234, 4), (234, 4), (234, 4), (234, 4), (234, 4), (234, 4), (234, 4), (234, 4), (234, 4), (234, 4), (234, 4), (234, 4), (234, 4), (234, 4), (234, 4), (234, 4), (234, 4), (234, 4), (234, 4), (234, 4), (234, 4), (234, 4), (234, 4), (234, 4), (234, 4), (234, 4), (234, 4), (234, 4), (234, 4), (234, 4), (234, 4), (234, 4), (234, 4), (234, 4), (234, 4), (234, 4), (234, 4), (234, 4), (234, 4), (234, 4), (234, 4), (234, 4), (234, 4), (234, 4), (234, 4), (234, 4), (234, 4), (234, 4), (234, 4), (234, 4), (234, 4), (234, 4), (234, 4), (241, 4), (241, 4), (241, 4), (241, 4), (241, 4), (241, 4), (241, 4), (241, 4), (241, 4), (241, 4), (241, 4), (241, 4), (241, 4), (241, 4), (241, 4), (241, 4), (241, 4), (241, 4), (241, 4), (241, 4), (241, 4), (241, 4), (241, 4), (241, 4), (241, 4), (241, 4), (241, 4), (241, 4), (241, 4), (241, 4), (241, 4), (241, 4), (241, 4), (241, 4), (241, 4), (241, 4), (241, 4), (241, 4), (241, 4), (241, 4), (241, 4), (241, 4), (241, 4), (241, 4), (241, 4), (241, 4), (241, 4), (241, 4), (241, 4), (241, 4), (241, 4), (241, 4), (241, 4), (241, 4), (242, 4), (242, 4), (242, 4), (242, 4), (242, 4), (242, 4), (242, 4), (242, 4), (242, 4), (242, 4), (242, 4), (242, 4), (242, 4), (242, 4), (242, 4), (242, 4), (242, 4), (242, 4), (242, 4), (242, 4), (242, 4), (242, 4), (242, 4), (242, 4), (242, 4), (242, 4), (242, 4), (242, 4), (242, 4), (242, 4), (242, 4), (242, 4), (242, 4), (242, 4), (242, 4), (242, 4), (242, 4), (242, 4), (242, 4), (242, 4), (242, 4), (242, 4), (242, 4), (242, 4), (242, 4), (242, 4), (242, 4), (242, 4), (242, 4), (242, 4), (242, 4), (242, 4), (242, 4), (242, 4), (243, 4), (243, 4), (243, 4), (243, 4), (243, 4), (243, 4), (243, 4), (243, 4), (243, 4), (243, 4), (243, 4), (243, 4), (243, 4), (243, 4), (243, 4), (243, 4), (243, 4), (243, 4), (243, 4), (243, 4), (243, 4), (243, 4), (243, 4), (243, 4), (243, 4), (243, 4), (243, 4), (243, 4), (243, 4), (243, 4), (243, 4), (243, 4), (243, 4), (243, 4), (243, 4), (243, 4), (243, 4), (243, 4), (243, 4), (243, 4), (243, 4), (243, 4), (243, 4), (243, 4), (243, 4), (243, 4), (243, 4), (243, 4), (243, 4), (243, 4), (243, 4), (243, 4), (243, 4), (245, 4), (245, 4), (245, 4), (245, 4), (245, 4), (245, 4), (245, 4), (245, 4), (245, 4), (245, 4), (245, 4), (245, 4), (245, 4), (245, 4), (245, 4), (245, 4), (245, 4), (245, 4), (245, 4), (245, 4), (245, 4), (245, 4), (245, 4), (245, 4), (245, 4), (245, 4), (245, 4), (245, 4), (245, 4), (245, 4), (245, 4), (245, 4), (245, 4), (245, 4), (245, 4), (245, 4), (245, 4), (245, 4), (245, 4), (245, 4), (245, 4), (245, 4), (245, 4), (245, 4), (245, 4), (245, 4), (245, 4), (245, 4), (245, 4), (245, 4), (245, 4), (245, 4), (245, 4), (245, 4), (246, 4), (246, 4), (246, 4), (246, 4), (246, 4), (246, 4), (246, 4), (246, 4), (246, 4), (246, 4), (246, 4), (246, 4), (246, 4), (246, 4), (246, 4), (246, 4), (246, 4), (246, 4), (246, 4), (246, 4), (246, 4), (246, 4), (246, 4), (246, 4), (246, 4), (246, 4), (246, 4), (246, 4), (246, 4), (246, 4), (246, 4), (246, 4), (246, 4), (246, 4), (246, 4), (246, 4), (246, 4), (246, 4), (246, 4), (246, 4), (246, 4), (246, 4), (246, 4), (246, 4), (246, 4), (246, 4), (246, 4), (246, 4), (246, 4), (246, 4), (246, 4), (246, 4), (246, 4), (246, 4), (248, 4), (248, 4), (248, 4), (248, 4), (248, 4), (248, 4), (248, 4), (248, 4), (248, 4), (248, 4), (248, 4), (248, 4), (248, 4), (248, 4), (248, 4), (248, 4), (248, 4), (248, 4), (248, 4), (248, 4), (248, 4), (248, 4), (248, 4), (248, 4), (248, 4), (248, 4), (248, 4), (248, 4), (248, 4), (248, 4), (248, 4), (248, 4), (248, 4), (248, 4), (248, 4), (248, 4), (248, 4), (248, 4), (248, 4), (248, 4), (248, 4), (248, 4), (248, 4), (248, 4), (248, 4), (248, 4), (248, 4), (248, 4), (248, 4), (248, 4), (248, 4), (248, 4), (248, 4), (249, 4), (249, 4), (249, 4), (249, 4), (249, 4), (249, 4), (249, 4), (249, 4), (249, 4), (249, 4), (249, 4), (249, 4), (249, 4), (249, 4), (249, 4), (249, 4), (249, 4), (249, 4), (249, 4), (249, 4), (249, 4), (249, 4), (249, 4), (249, 4), (249, 4), (249, 4), (249, 4), (249, 4), (249, 4), (249, 4), (249, 4), (249, 4), (249, 4), (249, 4), (249, 4), (249, 4), (249, 4), (249, 4), (249, 4), (249, 4), (249, 4), (249, 4), (249, 4), (249, 4), (249, 4), (249, 4), (249, 4), (249, 4), (249, 4), (249, 4), (249, 4), (249, 4), (249, 4), (249, 4), (250, 4), (250, 4), (250, 4), (250, 4), (250, 4), (250, 4), (250, 4), (250, 4), (250, 4), (250, 4), (250, 4), (250, 4), (250, 4), (250, 4), (250, 4), (250, 4), (250, 4), (250, 4), (250, 4), (250, 4), (250, 4), (250, 4), (250, 4), (250, 4), (250, 4), (250, 4), (250, 4), (250, 4), (250, 4), (250, 4), (250, 4), (250, 4), (250, 4), (250, 4), (250, 4), (250, 4), (250, 4), (250, 4), (250, 4), (250, 4), (250, 4), (250, 4), (250, 4), (250, 4), (250, 4), (250, 4), (250, 4), (250, 4), (250, 4), (250, 4), (250, 4), (250, 4), (250, 4), (251, 5), (251, 5), (251, 5), (251, 5), (251, 5), (251, 5), (251, 5), (251, 5), (251, 5), (251, 5), (251, 5), (251, 5), (251, 5), (251, 5), (251, 5), (251, 5), (251, 5), (251, 5), (251, 5), (251, 5), (251, 5), (251, 5), (251, 5), (251, 5), (251, 5), (251, 5), (251, 5), (251, 5), (251, 5), (251, 5), (251, 5), (251, 5), (251, 5), (251, 5), (251, 5), (251, 5), (251, 5), (251, 5), (251, 5), (251, 5), (251, 5), (251, 5), (251, 5), (251, 5), (251, 5), (251, 5), (251, 5), (251, 5), (251, 5), (251, 5), (251, 5), (251, 5), (251, 5), (251, 5), (252, 5), (252, 5), (252, 5), (252, 5), (252, 5), (252, 5), (252, 5), (252, 5), (252, 5), (252, 5), (252, 5), (252, 5), (252, 5), (252, 5), (252, 5), (252, 5), (252, 5), (252, 5), (252, 5), (252, 5), (252, 5), (252, 5), (252, 5), (252, 5), (252, 5), (252, 5), (252, 5), (252, 5), (252, 5), (252, 5), (252, 5), (252, 5), (252, 5), (252, 5), (252, 5), (252, 5), (252, 5), (252, 5), (252, 5), (252, 5), (252, 5), (252, 5), (252, 5), (252, 5), (252, 5), (252, 5), (252, 5), (252, 5), (252, 5), (252, 5), (252, 5), (252, 5), (252, 5), (252, 5), (255, 5), (255, 5), (255, 5), (255, 5), (255, 5), (255, 5), (255, 5), (255, 5), (255, 5), (255, 5), (255, 5), (255, 5), (255, 5), (255, 5), (255, 5), (255, 5), (255, 5), (255, 5), (255, 5), (255, 5), (255, 5), (255, 5), (255, 5), (255, 5), (255, 5), (255, 5), (255, 5), (255, 5), (255, 5), (255, 5), (255, 5), (255, 5), (255, 5), (255, 5), (255, 5), (255, 5), (255, 5), (255, 5), (255, 5), (255, 5), (255, 5), (255, 5), (255, 5), (255, 5), (255, 5), (255, 5), (255, 5), (255, 5), (255, 5), (255, 5), (255, 5), (255, 5), (255, 5), (255, 5), (262, 5), (262, 5), (262, 5), (262, 5), (262, 5), (262, 5), (262, 5), (262, 5), (262, 5), (262, 5), (262, 5), (262, 5), (262, 5), (262, 5), (262, 5), (262, 5), (262, 5), (262, 5), (262, 5), (262, 5), (262, 5), (262, 5), (262, 5), (262, 5), (262, 5), (262, 5), (262, 5), (262, 5), (262, 5), (262, 5), (262, 5), (262, 5), (262, 5), (262, 5), (262, 5), (262, 5), (262, 5), (262, 5), (262, 5), (262, 5), (262, 5), (262, 5), (262, 5), (262, 5), (262, 5), (262, 5), (262, 5), (262, 5), (262, 5), (262, 5), (262, 5), (262, 5), (262, 5), (262, 5), (264, 5), (264, 5), (264, 5), (264, 5), (264, 5), (264, 5), (264, 5), (264, 5), (264, 5), (264, 5), (264, 5), (264, 5), (264, 5), (264, 5), (264, 5), (264, 5), (264, 5), (264, 5), (264, 5), (264, 5), (264, 5), (264, 5), (264, 5), (264, 5), (264, 5), (264, 5), (264, 5), (264, 5), (264, 5), (264, 5), (264, 5), (264, 5), (264, 5), (264, 5), (264, 5), (264, 5), (264, 5), (264, 5), (264, 5), (264, 5), (264, 5), (264, 5), (264, 5), (264, 5), (264, 5), (264, 5), (264, 5), (264, 5), (264, 5), (264, 5), (264, 5), (264, 5), (264, 5), (264, 5), (273, 4), (273, 4), (273, 4), (273, 4), (273, 4), (273, 4), (273, 4), (273, 4), (273, 4), (273, 4), (273, 4), (273, 4), (273, 4), (273, 4), (273, 4), (273, 4), (273, 4), (273, 4), (273, 4), (273, 4), (273, 4), (273, 4), (273, 4), (273, 4), (273, 4), (273, 4), (273, 4), (273, 4), (273, 4), (273, 4), (273, 4), (273, 4), (273, 4), (273, 4), (273, 4), (273, 4), (273, 4), (273, 4), (273, 4), (273, 4), (273, 4), (273, 4), (273, 4), (273, 4), (273, 4), (273, 4), (273, 4), (273, 4), (273, 4), (273, 4), (273, 4), (273, 4), (273, 4), (273, 4), (274, 4), (274, 4), (274, 4), (274, 4), (274, 4), (274, 4), (274, 4), (274, 4), (274, 4), (274, 4), (274, 4), (274, 4), (274, 4), (274, 4), (274, 4), (274, 4), (274, 4), (274, 4), (274, 4), (274, 4), (274, 4), (274, 4), (274, 4), (274, 4), (274, 4), (274, 4), (274, 4), (274, 4), (274, 4), (274, 4), (274, 4), (274, 4), (274, 4), (274, 4), (274, 4), (274, 4), (274, 4), (274, 4), (274, 4), (274, 4), (274, 4), (274, 4), (274, 4), (274, 4), (274, 4), (274, 4), (274, 4), (274, 4), (274, 4), (274, 4), (274, 4), (274, 4), (274, 4), (274, 4), (275, 5), (275, 5), (275, 5), (275, 5), (275, 5), (275, 5), (275, 5), (275, 5), (275, 5), (275, 5), (275, 5), (275, 5), (275, 5), (275, 5), (275, 5), (275, 5), (275, 5), (275, 5), (275, 5), (275, 5), (275, 5), (275, 5), (275, 5), (275, 5), (275, 5), (275, 5), (275, 5), (275, 5), (275, 5), (275, 5), (275, 5), (275, 5), (275, 5), (275, 5), (275, 5), (275, 5), (275, 5), (275, 5), (275, 5), (275, 5), (275, 5), (275, 5), (275, 5), (275, 5), (275, 5), (275, 5), (275, 5), (275, 5), (275, 5), (275, 5), (275, 5), (275, 5), (275, 5), (276, 4), (276, 4), (276, 4), (276, 4), (276, 4), (276, 4), (276, 4), (276, 4), (276, 4), (276, 4), (276, 4), (276, 4), (276, 4), (276, 4), (276, 4), (276, 4), (276, 4), (276, 4), (276, 4), (276, 4), (276, 4), (276, 4), (276, 4), (276, 4), (276, 4), (276, 4), (276, 4), (276, 4), (276, 4), (276, 4), (276, 4), (276, 4), (276, 4), (276, 4), (276, 4), (276, 4), (276, 4), (276, 4), (276, 4), (276, 4), (276, 4), (276, 4), (276, 4), (276, 4), (276, 4), (276, 4), (276, 4), (276, 4), (276, 4), (276, 4), (276, 4), (276, 4), (276, 4), (276, 4), (279, 4), (279, 4), (279, 4), (279, 4), (279, 4), (279, 4), (279, 4), (279, 4), (279, 4), (279, 4), (279, 4), (279, 4), (279, 4), (279, 4), (279, 4), (279, 4), (279, 4), (279, 4), (279, 4), (279, 4), (279, 4), (279, 4), (279, 4), (279, 4), (279, 4), (279, 4), (279, 4), (279, 4), (279, 4), (279, 4), (279, 4), (279, 4), (279, 4), (279, 4), (279, 4), (279, 4), (279, 4), (279, 4), (279, 4), (279, 4), (279, 4), (279, 4), (279, 4), (279, 4), (279, 4), (279, 4), (279, 4), (279, 4), (279, 4), (279, 4), (279, 4), (279, 4), (279, 4), (279, 4), (285, 4), (285, 4), (285, 4), (285, 4), (285, 4), (285, 4), (285, 4), (285, 4), (285, 4), (285, 4), (285, 4), (285, 4), (285, 4), (285, 4), (285, 4), (285, 4), (285, 4), (285, 4), (285, 4), (285, 4), (285, 4), (285, 4), (285, 4), (285, 4), (285, 4), (285, 4), (285, 4), (285, 4), (285, 4), (285, 4), (285, 4), (285, 4), (285, 4), (285, 4), (285, 4), (285, 4), (285, 4), (285, 4), (285, 4), (285, 4), (285, 4), (285, 4), (285, 4), (285, 4), (285, 4), (285, 4), (285, 4), (285, 4), (285, 4), (285, 4), (285, 4), (285, 4), (285, 4), (285, 4), (286, 5), (286, 5), (286, 5), (286, 5), (286, 5), (286, 5), (286, 5), (286, 5), (286, 5), (286, 5), (286, 5), (286, 5), (286, 5), (286, 5), (286, 5), (286, 5), (286, 5), (286, 5), (286, 5), (286, 5), (286, 5), (286, 5), (286, 5), (286, 5), (286, 5), (286, 5), (286, 5), (286, 5), (286, 5), (286, 5), (286, 5), (286, 5), (286, 5), (286, 5), (286, 5), (286, 5), (286, 5), (286, 5), (286, 5), (286, 5), (286, 5), (286, 5), (286, 5), (286, 5), (286, 5), (286, 5), (286, 5), (286, 5), (286, 5), (286, 5), (286, 5), (286, 5), (286, 5), (289, 5), (289, 5), (289, 5), (289, 5), (289, 5), (289, 5), (289, 5), (289, 5), (289, 5), (289, 5), (289, 5), (289, 5), (289, 5), (289, 5), (289, 5), (289, 5), (289, 5), (289, 5), (289, 5), (289, 5), (289, 5), (289, 5), (289, 5), (289, 5), (289, 5), (289, 5), (289, 5), (289, 5), (289, 5), (289, 5), (289, 5), (289, 5), (289, 5), (289, 5), (289, 5), (289, 5), (289, 5), (289, 5), (289, 5), (289, 5), (289, 5), (289, 5), (289, 5), (289, 5), (289, 5), (289, 5), (289, 5), (289, 5), (289, 5), (289, 5), (289, 5), (289, 5), (289, 5), (289, 5), (290, 5), (290, 5), (290, 5), (290, 5), (290, 5), (290, 5), (290, 5), (290, 5), (290, 5), (290, 5), (290, 5), (290, 5), (290, 5), (290, 5), (290, 5), (290, 5), (290, 5), (290, 5), (290, 5), (290, 5), (290, 5), (290, 5), (290, 5), (290, 5), (290, 5), (290, 5), (290, 5), (290, 5), (290, 5), (290, 5), (290, 5), (290, 5), (290, 5), (290, 5), (290, 5), (290, 5), (290, 5), (290, 5), (290, 5), (290, 5), (290, 5), (290, 5), (290, 5), (290, 5), (290, 5), (290, 5), (290, 5), (290, 5), (290, 5), (290, 5), (290, 5), (290, 5), (290, 5), (291, 4), (291, 4), (291, 4), (291, 4), (291, 4), (291, 4), (291, 4), (291, 4), (291, 4), (291, 4), (291, 4), (291, 4), (291, 4), (291, 4), (291, 4), (291, 4), (291, 4), (291, 4), (291, 4), (291, 4), (291, 4), (291, 4), (291, 4), (291, 4), (291, 4), (291, 4), (291, 4), (291, 4), (291, 4), (291, 4), (291, 4), (291, 4), (291, 4), (291, 4), (291, 4), (291, 4), (291, 4), (291, 4), (291, 4), (291, 4), (291, 4), (291, 4), (291, 4), (291, 4), (291, 4), (291, 4), (291, 4), (291, 4), (291, 4), (291, 4), (291, 4), (291, 4), (291, 4), (291, 4), (293, 5), (293, 5), (293, 5), (293, 5), (293, 5), (293, 5), (293, 5), (293, 5), (293, 5), (293, 5), (293, 5), (293, 5), (293, 5), (293, 5), (293, 5), (293, 5), (293, 5), (293, 5), (293, 5), (293, 5), (293, 5), (293, 5), (293, 5), (293, 5), (293, 5), (293, 5), (293, 5), (293, 5), (293, 5), (293, 5), (293, 5), (293, 5), (293, 5), (293, 5), (293, 5), (293, 5), (293, 5), (293, 5), (293, 5), (293, 5), (293, 5), (293, 5), (293, 5), (293, 5), (293, 5), (293, 5), (293, 5), (293, 5), (293, 5), (293, 5), (293, 5), (293, 5), (293, 5), (294, 4), (294, 4), (294, 4), (294, 4), (294, 4), (294, 4), (294, 4), (294, 4), (294, 4), (294, 4), (294, 4), (294, 4), (294, 4), (294, 4), (294, 4), (294, 4), (294, 4), (294, 4), (294, 4), (294, 4), (294, 4), (294, 4), (294, 4), (294, 4), (294, 4), (294, 4), (294, 4), (294, 4), (294, 4), (294, 4), (294, 4), (294, 4), (294, 4), (294, 4), (294, 4), (294, 4), (294, 4), (294, 4), (294, 4), (294, 4), (294, 4), (294, 4), (294, 4), (294, 4), (294, 4), (294, 4), (294, 4), (294, 4), (294, 4), (294, 4), (294, 4), (294, 4), (294, 4), (294, 4), (295, 5), (295, 5), (295, 5), (295, 5), (295, 5), (295, 5), (295, 5), (295, 5), (295, 5), (295, 5), (295, 5), (295, 5), (295, 5), (295, 5), (295, 5), (295, 5), (295, 5), (295, 5), (295, 5), (295, 5), (295, 5), (295, 5), (295, 5), (295, 5), (295, 5), (295, 5), (295, 5), (295, 5), (295, 5), (295, 5), (295, 5), (295, 5), (295, 5), (295, 5), (295, 5), (295, 5), (295, 5), (295, 5), (295, 5), (295, 5), (295, 5), (295, 5), (295, 5), (295, 5), (295, 5), (295, 5), (295, 5), (295, 5), (295, 5), (295, 5), (295, 5), (295, 5), (295, 5), (295, 5), (297, 5), (297, 5), (297, 5), (297, 5), (297, 5), (297, 5), (297, 5), (297, 5), (297, 5), (297, 5), (297, 5), (297, 5), (297, 5), (297, 5), (297, 5), (297, 5), (297, 5), (297, 5), (297, 5), (297, 5), (297, 5), (297, 5), (297, 5), (297, 5), (297, 5), (297, 5), (297, 5), (297, 5), (297, 5), (297, 5), (297, 5), (297, 5), (297, 5), (297, 5), (297, 5), (297, 5), (297, 5), (297, 5), (297, 5), (297, 5), (297, 5), (297, 5), (297, 5), (297, 5), (297, 5), (297, 5), (297, 5), (297, 5), (297, 5), (297, 5), (297, 5), (297, 5), (297, 5), (297, 5), (300, 4), (300, 4), (300, 4), (300, 4), (300, 4), (300, 4), (300, 4), (300, 4), (300, 4), (300, 4), (300, 4), (300, 4), (300, 4), (300, 4), (300, 4), (300, 4), (300, 4), (300, 4), (300, 4), (300, 4), (300, 4), (300, 4), (300, 4), (300, 4), (300, 4), (300, 4), (300, 4), (300, 4), (300, 4), (300, 4), (300, 4), (300, 4), (300, 4), (300, 4), (300, 4), (300, 4), (300, 4), (300, 4), (300, 4), (300, 4), (300, 4), (300, 4), (300, 4), (300, 4), (300, 4), (300, 4), (300, 4), (300, 4), (300, 4), (300, 4), (300, 4), (300, 4), (300, 4), (300, 4), (302, 5), (302, 5), (302, 5), (302, 5), (302, 5), (302, 5), (302, 5), (302, 5), (302, 5), (302, 5), (302, 5), (302, 5), (302, 5), (302, 5), (302, 5), (302, 5), (302, 5), (302, 5), (302, 5), (302, 5), (302, 5), (302, 5), (302, 5), (302, 5), (302, 5), (302, 5), (302, 5), (302, 5), (302, 5), (302, 5), (302, 5), (302, 5), (302, 5), (302, 5), (302, 5), (302, 5), (302, 5), (302, 5), (302, 5), (302, 5), (302, 5), (302, 5), (302, 5), (302, 5), (302, 5), (302, 5), (302, 5), (302, 5), (302, 5), (302, 5), (302, 5), (302, 5), (302, 5), (304, 5), (304, 5), (304, 5), (304, 5), (304, 5), (304, 5), (304, 5), (304, 5), (304, 5), (304, 5), (304, 5), (304, 5), (304, 5), (304, 5), (304, 5), (304, 5), (304, 5), (304, 5), (304, 5), (304, 5), (304, 5), (304, 5), (304, 5), (304, 5), (304, 5), (304, 5), (304, 5), (304, 5), (304, 5), (304, 5), (304, 5), (304, 5), (304, 5), (304, 5), (304, 5), (304, 5), (304, 5), (304, 5), (304, 5), (304, 5), (304, 5), (304, 5), (304, 5), (304, 5), (304, 5), (304, 5), (304, 5), (304, 5), (304, 5), (304, 5), (304, 5), (304, 5), (304, 5), (304, 5), (306, 5), (306, 5), (306, 5), (306, 5), (306, 5), (306, 5), (306, 5), (306, 5), (306, 5), (306, 5), (306, 5), (306, 5), (306, 5), (306, 5), (306, 5), (306, 5), (306, 5), (306, 5), (306, 5), (306, 5), (306, 5), (306, 5), (306, 5), (306, 5), (306, 5), (306, 5), (306, 5), (306, 5), (306, 5), (306, 5), (306, 5), (306, 5), (306, 5), (306, 5), (306, 5), (306, 5), (306, 5), (306, 5), (306, 5), (306, 5), (306, 5), (306, 5), (306, 5), (306, 5), (306, 5), (306, 5), (306, 5), (306, 5), (306, 5), (306, 5), (306, 5), (306, 5), (306, 5), (306, 5), (307, 4), (307, 4), (307, 4), (307, 4), (307, 4), (307, 4), (307, 4), (307, 4), (307, 4), (307, 4), (307, 4), (307, 4), (307, 4), (307, 4), (307, 4), (307, 4), (307, 4), (307, 4), (307, 4), (307, 4), (307, 4), (307, 4), (307, 4), (307, 4), (307, 4), (307, 4), (307, 4), (307, 4), (307, 4), (307, 4), (307, 4), (307, 4), (307, 4), (307, 4), (307, 4), (307, 4), (307, 4), (307, 4), (307, 4), (307, 4), (307, 4), (307, 4), (307, 4), (307, 4), (307, 4), (307, 4), (307, 4), (307, 4), (307, 4), (307, 4), (307, 4), (307, 4), (307, 4), (307, 4), (310, 4), (310, 4), (310, 4), (310, 4), (310, 4), (310, 4), (310, 4), (310, 4), (310, 4), (310, 4), (310, 4), (310, 4), (310, 4), (310, 4), (310, 4), (310, 4), (310, 4), (310, 4), (310, 4), (310, 4), (310, 4), (310, 4), (310, 4), (310, 4), (310, 4), (310, 4), (310, 4), (310, 4), (310, 4), (310, 4), (310, 4), (310, 4), (310, 4), (310, 4), (310, 4), (310, 4), (310, 4), (310, 4), (310, 4), (310, 4), (310, 4), (310, 4), (310, 4), (310, 4), (310, 4), (310, 4), (310, 4), (310, 4), (310, 4), (310, 4), (310, 4), (310, 4), (310, 4), (310, 4), (311, 5), (311, 5), (311, 5), (311, 5), (311, 5), (311, 5), (311, 5), (311, 5), (311, 5), (311, 5), (311, 5), (311, 5), (311, 5), (311, 5), (311, 5), (311, 5), (311, 5), (311, 5), (311, 5), (311, 5), (311, 5), (311, 5), (311, 5), (311, 5), (311, 5), (311, 5), (311, 5), (311, 5), (311, 5), (311, 5), (311, 5), (311, 5), (311, 5), (311, 5), (311, 5), (311, 5), (311, 5), (311, 5), (311, 5), (311, 5), (311, 5), (311, 5), (311, 5), (311, 5), (311, 5), (311, 5), (311, 5), (311, 5), (311, 5), (311, 5), (311, 5), (311, 5), (311, 5), (311, 5), (312, 4), (312, 4), (312, 4), (312, 4), (312, 4), (312, 4), (312, 4), (312, 4), (312, 4), (312, 4), (312, 4), (312, 4), (312, 4), (312, 4), (312, 4), (312, 4), (312, 4), (312, 4), (312, 4), (312, 4), (312, 4), (312, 4), (312, 4), (312, 4), (312, 4), (312, 4), (312, 4), (312, 4), (312, 4), (312, 4), (312, 4), (312, 4), (312, 4), (312, 4), (312, 4), (312, 4), (312, 4), (312, 4), (312, 4), (312, 4), (312, 4), (312, 4), (312, 4), (312, 4), (312, 4), (312, 4), (312, 4), (312, 4), (312, 4), (312, 4), (312, 4), (312, 4), (312, 4), (312, 4), (313, 5), (313, 5), (313, 5), (313, 5), (313, 5), (313, 5), (313, 5), (313, 5), (313, 5), (313, 5), (313, 5), (313, 5), (313, 5), (313, 5), (313, 5), (313, 5), (313, 5), (313, 5), (313, 5), (313, 5), (313, 5), (313, 5), (313, 5), (313, 5), (313, 5), (313, 5), (313, 5), (313, 5), (313, 5), (313, 5), (313, 5), (313, 5), (313, 5), (313, 5), (313, 5), (313, 5), (313, 5), (313, 5), (313, 5), (313, 5), (313, 5), (313, 5), (313, 5), (313, 5), (313, 5), (313, 5), (313, 5), (313, 5), (313, 5), (313, 5), (313, 5), (313, 5), (313, 5), (313, 5), (323, 5), (323, 5), (323, 5), (323, 5), (323, 5), (323, 5), (323, 5), (323, 5), (323, 5), (323, 5), (323, 5), (323, 5), (323, 5), (323, 5), (323, 5), (323, 5), (323, 5), (323, 5), (323, 5), (323, 5), (323, 5), (323, 5), (323, 5), (323, 5), (323, 5), (323, 5), (323, 5), (323, 5), (323, 5), (323, 5), (323, 5), (323, 5), (323, 5), (323, 5), (323, 5), (323, 5), (323, 5), (323, 5), (323, 5), (323, 5), (323, 5), (323, 5), (323, 5), (323, 5), (323, 5), (323, 5), (323, 5), (323, 5), (323, 5), (323, 5), (323, 5), (323, 5), (323, 5), (323, 5), (326, 4), (326, 4), (326, 4), (326, 4), (326, 4), (326, 4), (326, 4), (326, 4), (326, 4), (326, 4), (326, 4), (326, 4), (326, 4), (326, 4), (326, 4), (326, 4), (326, 4), (326, 4), (326, 4), (326, 4), (326, 4), (326, 4), (326, 4), (326, 4), (326, 4), (326, 4), (326, 4), (326, 4), (326, 4), (326, 4), (326, 4), (326, 4), (326, 4), (326, 4), (326, 4), (326, 4), (326, 4), (326, 4), (326, 4), (326, 4), (326, 4), (326, 4), (326, 4), (326, 4), (326, 4), (326, 4), (326, 4), (326, 4), (326, 4), (326, 4), (326, 4), (326, 4), (326, 4), (326, 4), (329, 5), (329, 5), (329, 5), (329, 5), (329, 5), (329, 5), (329, 5), (329, 5), (329, 5), (329, 5), (329, 5), (329, 5), (329, 5), (329, 5), (329, 5), (329, 5), (329, 5), (329, 5), (329, 5), (329, 5), (329, 5), (329, 5), (329, 5), (329, 5), (329, 5), (329, 5), (329, 5), (329, 5), (329, 5), (329, 5), (329, 5), (329, 5), (329, 5), (329, 5), (329, 5), (329, 5), (329, 5), (329, 5), (329, 5), (329, 5), (329, 5), (329, 5), (329, 5), (329, 5), (329, 5), (329, 5), (329, 5), (329, 5), (329, 5), (329, 5), (329, 5), (329, 5), (329, 5), (329, 5), (331, 4), (331, 4), (331, 4), (331, 4), (331, 4), (331, 4), (331, 4), (331, 4), (331, 4), (331, 4), (331, 4), (331, 4), (331, 4), (331, 4), (331, 4), (331, 4), (331, 4), (331, 4), (331, 4), (331, 4), (331, 4), (331, 4), (331, 4), (331, 4), (331, 4), (331, 4), (331, 4), (331, 4), (331, 4), (331, 4), (331, 4), (331, 4), (331, 4), (331, 4), (331, 4), (331, 4), (331, 4), (331, 4), (331, 4), (331, 4), (331, 4), (331, 4), (331, 4), (331, 4), (331, 4), (331, 4), (331, 4), (331, 4), (331, 4), (331, 4), (331, 4), (331, 4), (331, 4), (331, 4), (338, 5), (338, 5), (338, 5), (338, 5), (338, 5), (338, 5), (338, 5), (338, 5), (338, 5), (338, 5), (338, 5), (338, 5), (338, 5), (338, 5), (338, 5), (338, 5), (338, 5), (338, 5), (338, 5), (338, 5), (338, 5), (338, 5), (338, 5), (338, 5), (338, 5), (338, 5), (338, 5), (338, 5), (338, 5), (338, 5), (338, 5), (338, 5), (338, 5), (338, 5), (338, 5), (338, 5), (338, 5), (338, 5), (338, 5), (338, 5), (338, 5), (338, 5), (338, 5), (338, 5), (338, 5), (338, 5), (338, 5), (338, 5), (338, 5), (338, 5), (338, 5), (338, 5), (338, 5), (338, 5), (339, 5), (339, 5), (339, 5), (339, 5), (339, 5), (339, 5), (339, 5), (339, 5), (339, 5), (339, 5), (339, 5), (339, 5), (339, 5), (339, 5), (339, 5), (339, 5), (339, 5), (339, 5), (339, 5), (339, 5), (339, 5), (339, 5), (339, 5), (339, 5), (339, 5), (339, 5), (339, 5), (339, 5), (339, 5), (339, 5), (339, 5), (339, 5), (339, 5), (339, 5), (339, 5), (339, 5), (339, 5), (339, 5), (339, 5), (339, 5), (339, 5), (339, 5), (339, 5), (339, 5), (339, 5), (339, 5), (339, 5), (339, 5), (339, 5), (339, 5), (339, 5), (339, 5), (339, 5), (339, 5), (342, 5), (342, 5), (342, 5), (342, 5), (342, 5), (342, 5), (342, 5), (342, 5), (342, 5), (342, 5), (342, 5), (342, 5), (342, 5), (342, 5), (342, 5), (342, 5), (342, 5), (342, 5), (342, 5), (342, 5), (342, 5), (342, 5), (342, 5), (342, 5), (342, 5), (342, 5), (342, 5), (342, 5), (342, 5), (342, 5), (342, 5), (342, 5), (342, 5), (342, 5), (342, 5), (342, 5), (342, 5), (342, 5), (342, 5), (342, 5), (342, 5), (342, 5), (342, 5), (342, 5), (342, 5), (342, 5), (342, 5), (342, 5), (342, 5), (342, 5), (342, 5), (342, 5), (342, 5), (342, 5), (346, 4), (346, 4), (346, 4), (346, 4), (346, 4), (346, 4), (346, 4), (346, 4), (346, 4), (346, 4), (346, 4), (346, 4), (346, 4), (346, 4), (346, 4), (346, 4), (346, 4), (346, 4), (346, 4), (346, 4), (346, 4), (346, 4), (346, 4), (346, 4), (346, 4), (346, 4), (346, 4), (346, 4), (346, 4), (346, 4), (346, 4), (346, 4), (346, 4), (346, 4), (346, 4), (346, 4), (346, 4), (346, 4), (346, 4), (346, 4), (346, 4), (346, 4), (346, 4), (346, 4), (346, 4), (346, 4), (346, 4), (346, 4), (346, 4), (346, 4), (346, 4), (346, 4), (346, 4), (347, 4), (347, 4), (347, 4), (347, 4), (347, 4), (347, 4), (347, 4), (347, 4), (347, 4), (347, 4), (347, 4), (347, 4), (347, 4), (347, 4), (347, 4), (347, 4), (347, 4), (347, 4), (347, 4), (347, 4), (347, 4), (347, 4), (347, 4), (347, 4), (347, 4), (347, 4), (347, 4), (347, 4), (347, 4), (347, 4), (347, 4), (347, 4), (347, 4), (347, 4), (347, 4), (347, 4), (347, 4), (347, 4), (347, 4), (347, 4), (347, 4), (347, 4), (347, 4), (347, 4), (347, 4), (347, 4), (347, 4), (347, 4), (347, 4), (347, 4), (347, 4), (347, 4), (347, 4), (347, 4), (349, 4), (349, 4), (349, 4), (349, 4), (349, 4), (349, 4), (349, 4), (349, 4), (349, 4), (349, 4), (349, 4), (349, 4), (349, 4), (349, 4), (349, 4), (349, 4), (349, 4), (349, 4), (349, 4), (349, 4), (349, 4), (349, 4), (349, 4), (349, 4), (349, 4), (349, 4), (349, 4), (349, 4), (349, 4), (349, 4), (349, 4), (349, 4), (349, 4), (349, 4), (349, 4), (349, 4), (349, 4), (349, 4), (349, 4), (349, 4), (349, 4), (349, 4), (349, 4), (349, 4), (349, 4), (349, 4), (349, 4), (349, 4), (349, 4), (349, 4), (349, 4), (349, 4), (349, 4), (349, 4), (356, 5), (356, 5), (356, 5), (356, 5), (356, 5), (356, 5), (356, 5), (356, 5), (356, 5), (356, 5), (356, 5), (356, 5), (356, 5), (356, 5), (356, 5), (356, 5), (356, 5), (356, 5), (356, 5), (356, 5), (356, 5), (356, 5), (356, 5), (356, 5), (356, 5), (356, 5), (356, 5), (356, 5), (356, 5), (356, 5), (356, 5), (356, 5), (356, 5), (356, 5), (356, 5), (356, 5), (356, 5), (356, 5), (356, 5), (356, 5), (356, 5), (356, 5), (356, 5), (356, 5), (356, 5), (356, 5), (356, 5), (356, 5), (356, 5), (356, 5), (356, 5), (356, 5), (356, 5), (356, 5), (358, 4), (358, 4), (358, 4), (358, 4), (358, 4), (358, 4), (358, 4), (358, 4), (358, 4), (358, 4), (358, 4), (358, 4), (358, 4), (358, 4), (358, 4), (358, 4), (358, 4), (358, 4), (358, 4), (358, 4), (358, 4), (358, 4), (358, 4), (358, 4), (358, 4), (358, 4), (358, 4), (358, 4), (358, 4), (358, 4), (358, 4), (358, 4), (358, 4), (358, 4), (358, 4), (358, 4), (358, 4), (358, 4), (358, 4), (358, 4), (358, 4), (358, 4), (358, 4), (358, 4), (358, 4), (358, 4), (358, 4), (358, 4), (358, 4), (358, 4), (358, 4), (358, 4), (358, 4), (358, 4), (364, 4), (364, 4), (364, 4), (364, 4), (364, 4), (364, 4), (364, 4), (364, 4), (364, 4), (364, 4), (364, 4), (364, 4), (364, 4), (364, 4), (364, 4), (364, 4), (364, 4), (364, 4), (364, 4), (364, 4), (364, 4), (364, 4), (364, 4), (364, 4), (364, 4), (364, 4), (364, 4), (364, 4), (364, 4), (364, 4), (364, 4), (364, 4), (364, 4), (364, 4), (364, 4), (364, 4), (364, 4), (364, 4), (364, 4), (364, 4), (364, 4), (364, 4), (364, 4), (364, 4), (364, 4), (364, 4), (364, 4), (364, 4), (364, 4), (364, 4), (364, 4), (364, 4), (364, 4), (364, 4), (370, 4), (370, 4), (370, 4), (370, 4), (370, 4), (370, 4), (370, 4), (370, 4), (370, 4), (370, 4), (370, 4), (370, 4), (370, 4), (370, 4), (370, 4), (370, 4), (370, 4), (370, 4), (370, 4), (370, 4), (370, 4), (370, 4), (370, 4), (370, 4), (370, 4), (370, 4), (370, 4), (370, 4), (370, 4), (370, 4), (370, 4), (370, 4), (370, 4), (370, 4), (370, 4), (370, 4), (370, 4), (370, 4), (370, 4), (370, 4), (370, 4), (370, 4), (370, 4), (370, 4), (370, 4), (370, 4), (370, 4), (370, 4), (370, 4), (370, 4), (370, 4), (370, 4), (370, 4), (370, 4), (373, 4), (373, 4), (373, 4), (373, 4), (373, 4), (373, 4), (373, 4), (373, 4), (373, 4), (373, 4), (373, 4), (373, 4), (373, 4), (373, 4), (373, 4), (373, 4), (373, 4), (373, 4), (373, 4), (373, 4), (373, 4), (373, 4), (373, 4), (373, 4), (373, 4), (373, 4), (373, 4), (373, 4), (373, 4), (373, 4), (373, 4), (373, 4), (373, 4), (373, 4), (373, 4), (373, 4), (373, 4), (373, 4), (373, 4), (373, 4), (373, 4), (373, 4), (373, 4), (373, 4), (373, 4), (373, 4), (373, 4), (373, 4), (373, 4), (373, 4), (373, 4), (373, 4), (373, 4), (373, 4), (377, 4), (377, 4), (377, 4), (377, 4), (377, 4), (377, 4), (377, 4), (377, 4), (377, 4), (377, 4), (377, 4), (377, 4), (377, 4), (377, 4), (377, 4), (377, 4), (377, 4), (377, 4), (377, 4), (377, 4), (377, 4), (377, 4), (377, 4), (377, 4), (377, 4), (377, 4), (377, 4), (377, 4), (377, 4), (377, 4), (377, 4), (377, 4), (377, 4), (377, 4), (377, 4), (377, 4), (377, 4), (377, 4), (377, 4), (377, 4), (377, 4), (377, 4), (377, 4), (377, 4), (377, 4), (377, 4), (377, 4), (377, 4), (377, 4), (377, 4), (377, 4), (377, 4), (377, 4), (377, 4), (378, 4), (378, 4), (378, 4), (378, 4), (378, 4), (378, 4), (378, 4), (378, 4), (378, 4), (378, 4), (378, 4), (378, 4), (378, 4), (378, 4), (378, 4), (378, 4), (378, 4), (378, 4), (378, 4), (378, 4), (378, 4), (378, 4), (378, 4), (378, 4), (378, 4), (378, 4), (378, 4), (378, 4), (378, 4), (378, 4), (378, 4), (378, 4), (378, 4), (378, 4), (378, 4), (378, 4), (378, 4), (378, 4), (378, 4), (378, 4), (378, 4), (378, 4), (378, 4), (378, 4), (378, 4), (378, 4), (378, 4), (378, 4), (378, 4), (378, 4), (378, 4), (378, 4), (378, 4), (378, 4), (379, 4), (379, 4), (379, 4), (379, 4), (379, 4), (379, 4), (379, 4), (379, 4), (379, 4), (379, 4), (379, 4), (379, 4), (379, 4), (379, 4), (379, 4), (379, 4), (379, 4), (379, 4), (379, 4), (379, 4), (379, 4), (379, 4), (379, 4), (379, 4), (379, 4), (379, 4), (379, 4), (379, 4), (379, 4), (379, 4), (379, 4), (379, 4), (379, 4), (379, 4), (379, 4), (379, 4), (379, 4), (379, 4), (379, 4), (379, 4), (379, 4), (379, 4), (379, 4), (379, 4), (379, 4), (379, 4), (379, 4), (379, 4), (379, 4), (379, 4), (379, 4), (379, 4), (379, 4), (379, 4), (380, 5), (380, 5), (380, 5), (380, 5), (380, 5), (380, 5), (380, 5), (380, 5), (380, 5), (380, 5), (380, 5), (380, 5), (380, 5), (380, 5), (380, 5), (380, 5), (380, 5), (380, 5), (380, 5), (380, 5), (380, 5), (380, 5), (380, 5), (380, 5), (380, 5), (380, 5), (380, 5), (380, 5), (380, 5), (380, 5), (380, 5), (380, 5), (380, 5), (380, 5), (380, 5), (380, 5), (380, 5), (380, 5), (380, 5), (380, 5), (380, 5), (380, 5), (380, 5), (380, 5), (380, 5), (380, 5), (380, 5), (380, 5), (380, 5), (380, 5), (380, 5), (380, 5), (380, 5), (380, 5), (386, 4), (386, 4), (386, 4), (386, 4), (386, 4), (386, 4), (386, 4), (386, 4), (386, 4), (386, 4), (386, 4), (386, 4), (386, 4), (386, 4), (386, 4), (386, 4), (386, 4), (386, 4), (386, 4), (386, 4), (386, 4), (386, 4), (386, 4), (386, 4), (386, 4), (386, 4), (386, 4), (386, 4), (386, 4), (386, 4), (386, 4), (386, 4), (386, 4), (386, 4), (386, 4), (386, 4), (386, 4), (386, 4), (386, 4), (386, 4), (386, 4), (386, 4), (386, 4), (386, 4), (386, 4), (386, 4), (386, 4), (386, 4), (386, 4), (386, 4), (386, 4), (386, 4), (386, 4), (386, 4), (387, 5), (387, 5), (387, 5), (387, 5), (387, 5), (387, 5), (387, 5), (387, 5), (387, 5), (387, 5), (387, 5), (387, 5), (387, 5), (387, 5), (387, 5), (387, 5), (387, 5), (387, 5), (387, 5), (387, 5), (387, 5), (387, 5), (387, 5), (387, 5), (387, 5), (387, 5), (387, 5), (387, 5), (387, 5), (387, 5), (387, 5), (387, 5), (387, 5), (387, 5), (387, 5), (387, 5), (387, 5), (387, 5), (387, 5), (387, 5), (387, 5), (387, 5), (387, 5), (387, 5), (387, 5), (387, 5), (387, 5), (387, 5), (387, 5), (387, 5), (387, 5), (387, 5), (387, 5), (387, 5), (388, 4), (388, 4), (388, 4), (388, 4), (388, 4), (388, 4), (388, 4), (388, 4), (388, 4), (388, 4), (388, 4), (388, 4), (388, 4), (388, 4), (388, 4), (388, 4), (388, 4), (388, 4), (388, 4), (388, 4), (388, 4), (388, 4), (388, 4), (388, 4), (388, 4), (388, 4), (388, 4), (388, 4), (388, 4), (388, 4), (388, 4), (388, 4), (388, 4), (388, 4), (388, 4), (388, 4), (388, 4), (388, 4), (388, 4), (388, 4), (388, 4), (388, 4), (388, 4), (388, 4), (388, 4), (388, 4), (388, 4), (388, 4), (388, 4), (388, 4), (388, 4), (388, 4), (388, 4), (388, 4), (389, 5), (389, 5), (389, 5), (389, 5), (389, 5), (389, 5), (389, 5), (389, 5), (389, 5), (389, 5), (389, 5), (389, 5), (389, 5), (389, 5), (389, 5), (389, 5), (389, 5), (389, 5), (389, 5), (389, 5), (389, 5), (389, 5), (389, 5), (389, 5), (389, 5), (389, 5), (389, 5), (389, 5), (389, 5), (389, 5), (389, 5), (389, 5), (389, 5), (389, 5), (389, 5), (389, 5), (389, 5), (389, 5), (389, 5), (389, 5), (389, 5), (389, 5), (389, 5), (389, 5), (389, 5), (389, 5), (389, 5), (389, 5), (389, 5), (389, 5), (389, 5), (389, 5), (389, 5), (389, 5), (393, 4), (393, 4), (393, 4), (393, 4), (393, 4), (393, 4), (393, 4), (393, 4), (393, 4), (393, 4), (393, 4), (393, 4), (393, 4), (393, 4), (393, 4), (393, 4), (393, 4), (393, 4), (393, 4), (393, 4), (393, 4), (393, 4), (393, 4), (393, 4), (393, 4), (393, 4), (393, 4), (393, 4), (393, 4), (393, 4), (393, 4), (393, 4), (393, 4), (393, 4), (393, 4), (393, 4), (393, 4), (393, 4), (393, 4), (393, 4), (393, 4), (393, 4), (393, 4), (393, 4), (393, 4), (393, 4), (393, 4), (393, 4), (393, 4), (393, 4), (393, 4), (393, 4), (393, 4), (393, 4), (394, 5), (394, 5), (394, 5), (394, 5), (394, 5), (394, 5), (394, 5), (394, 5), (394, 5), (394, 5), (394, 5), (394, 5), (394, 5), (394, 5), (394, 5), (394, 5), (394, 5), (394, 5), (394, 5), (394, 5), (394, 5), (394, 5), (394, 5), (394, 5), (394, 5), (394, 5), (394, 5), (394, 5), (394, 5), (394, 5), (394, 5), (394, 5), (394, 5), (394, 5), (394, 5), (394, 5), (394, 5), (394, 5), (394, 5), (394, 5), (394, 5), (394, 5), (394, 5), (394, 5), (394, 5), (394, 5), (394, 5), (394, 5), (394, 5), (394, 5), (394, 5), (394, 5), (394, 5), (394, 5), (395, 4), (395, 4), (395, 4), (395, 4), (395, 4), (395, 4), (395, 4), (395, 4), (395, 4), (395, 4), (395, 4), (395, 4), (395, 4), (395, 4), (395, 4), (395, 4), (395, 4), (395, 4), (395, 4), (395, 4), (395, 4), (395, 4), (395, 4), (395, 4), (395, 4), (395, 4), (395, 4), (395, 4), (395, 4), (395, 4), (395, 4), (395, 4), (395, 4), (395, 4), (395, 4), (395, 4), (395, 4), (395, 4), (395, 4), (395, 4), (395, 4), (395, 4), (395, 4), (395, 4), (395, 4), (395, 4), (395, 4), (395, 4), (395, 4), (395, 4), (395, 4), (395, 4), (395, 4), (395, 4), (397, 5), (397, 5), (397, 5), (397, 5), (397, 5), (397, 5), (397, 5), (397, 5), (397, 5), (397, 5), (397, 5), (397, 5), (397, 5), (397, 5), (397, 5), (397, 5), (397, 5), (397, 5), (397, 5), (397, 5), (397, 5), (397, 5), (397, 5), (397, 5), (397, 5), (397, 5), (397, 5), (397, 5), (397, 5), (397, 5), (397, 5), (397, 5), (397, 5), (397, 5), (397, 5), (397, 5), (397, 5), (397, 5), (397, 5), (397, 5), (397, 5), (397, 5), (397, 5), (397, 5), (397, 5), (397, 5), (397, 5), (397, 5), (397, 5), (397, 5), (397, 5), (397, 5), (397, 5), (397, 5), (398, 4), (398, 4), (398, 4), (398, 4), (398, 4), (398, 4), (398, 4), (398, 4), (398, 4), (398, 4), (398, 4), (398, 4), (398, 4), (398, 4), (398, 4), (398, 4), (398, 4), (398, 4), (398, 4), (398, 4), (398, 4), (398, 4), (398, 4), (398, 4), (398, 4), (398, 4), (398, 4), (398, 4), (398, 4), (398, 4), (398, 4), (398, 4), (398, 4), (398, 4), (398, 4), (398, 4), (398, 4), (398, 4), (398, 4), (398, 4), (398, 4), (398, 4), (398, 4), (398, 4), (398, 4), (398, 4), (398, 4), (398, 4), (398, 4), (398, 4), (398, 4), (398, 4), (398, 4), (398, 4), (401, 5), (401, 5), (401, 5), (401, 5), (401, 5), (401, 5), (401, 5), (401, 5), (401, 5), (401, 5), (401, 5), (401, 5), (401, 5), (401, 5), (401, 5), (401, 5), (401, 5), (401, 5), (401, 5), (401, 5), (401, 5), (401, 5), (401, 5), (401, 5), (401, 5), (401, 5), (401, 5), (401, 5), (401, 5), (401, 5), (401, 5), (401, 5), (401, 5), (401, 5), (401, 5), (401, 5), (401, 5), (401, 5), (401, 5), (401, 5), (401, 5), (401, 5), (401, 5), (401, 5), (401, 5), (401, 5), (401, 5), (401, 5), (401, 5), (401, 5), (401, 5), (401, 5), (401, 5), (401, 5), (402, 4), (402, 4), (402, 4), (402, 4), (402, 4), (402, 4), (402, 4), (402, 4), (402, 4), (402, 4), (402, 4), (402, 4), (402, 4), (402, 4), (402, 4), (402, 4), (402, 4), (402, 4), (402, 4), (402, 4), (402, 4), (402, 4), (402, 4), (402, 4), (402, 4), (402, 4), (402, 4), (402, 4), (402, 4), (402, 4), (402, 4), (402, 4), (402, 4), (402, 4), (402, 4), (402, 4), (402, 4), (402, 4), (402, 4), (402, 4), (402, 4), (402, 4), (402, 4), (402, 4), (402, 4), (402, 4), (402, 4), (402, 4), (402, 4), (402, 4), (402, 4), (402, 4), (402, 4), (402, 4), (405, 4), (405, 4), (405, 4), (405, 4), (405, 4), (405, 4), (405, 4), (405, 4), (405, 4), (405, 4), (405, 4), (405, 4), (405, 4), (405, 4), (405, 4), (405, 4), (405, 4), (405, 4), (405, 4), (405, 4), (405, 4), (405, 4), (405, 4), (405, 4), (405, 4), (405, 4), (405, 4), (405, 4), (405, 4), (405, 4), (405, 4), (405, 4), (405, 4), (405, 4), (405, 4), (405, 4), (405, 4), (405, 4), (405, 4), (405, 4), (405, 4), (405, 4), (405, 4), (405, 4), (405, 4), (405, 4), (405, 4), (405, 4), (405, 4), (405, 4), (405, 4), (405, 4), (405, 4), (405, 4), (406, 4), (406, 4), (406, 4), (406, 4), (406, 4), (406, 4), (406, 4), (406, 4), (406, 4), (406, 4), (406, 4), (406, 4), (406, 4), (406, 4), (406, 4), (406, 4), (406, 4), (406, 4), (406, 4), (406, 4), (406, 4), (406, 4), (406, 4), (406, 4), (406, 4), (406, 4), (406, 4), (406, 4), (406, 4), (406, 4), (406, 4), (406, 4), (406, 4), (406, 4), (406, 4), (406, 4), (406, 4), (406, 4), (406, 4), (406, 4), (406, 4), (406, 4), (406, 4), (406, 4), (406, 4), (406, 4), (406, 4), (406, 4), (406, 4), (406, 4), (406, 4), (406, 4), (406, 4), (406, 4), (410, 4), (410, 4), (410, 4), (410, 4), (410, 4), (410, 4), (410, 4), (410, 4), (410, 4), (410, 4), (410, 4), (410, 4), (410, 4), (410, 4), (410, 4), (410, 4), (410, 4), (410, 4), (410, 4), (410, 4), (410, 4), (410, 4), (410, 4), (410, 4), (410, 4), (410, 4), (410, 4), (410, 4), (410, 4), (410, 4), (410, 4), (410, 4), (410, 4), (410, 4), (410, 4), (410, 4), (410, 4), (410, 4), (410, 4), (410, 4), (410, 4), (410, 4), (410, 4), (410, 4), (410, 4), (410, 4), (410, 4), (410, 4), (410, 4), (410, 4), (410, 4), (410, 4), (410, 4), (410, 4), (411, 4), (411, 4), (411, 4), (411, 4), (411, 4), (411, 4), (411, 4), (411, 4), (411, 4), (411, 4), (411, 4), (411, 4), (411, 4), (411, 4), (411, 4), (411, 4), (411, 4), (411, 4), (411, 4), (411, 4), (411, 4), (411, 4), (411, 4), (411, 4), (411, 4), (411, 4), (411, 4), (411, 4), (411, 4), (411, 4), (411, 4), (411, 4), (411, 4), (411, 4), (411, 4), (411, 4), (411, 4), (411, 4), (411, 4), (411, 4), (411, 4), (411, 4), (411, 4), (411, 4), (411, 4), (411, 4), (411, 4), (411, 4), (411, 4), (411, 4), (411, 4), (411, 4), (411, 4), (411, 4), (415, 5), (415, 5), (415, 5), (415, 5), (415, 5), (415, 5), (415, 5), (415, 5), (415, 5), (415, 5), (415, 5), (415, 5), (415, 5), (415, 5), (415, 5), (415, 5), (415, 5), (415, 5), (415, 5), (415, 5), (415, 5), (415, 5), (415, 5), (415, 5), (415, 5), (415, 5), (415, 5), (415, 5), (415, 5), (415, 5), (415, 5), (415, 5), (415, 5), (415, 5), (415, 5), (415, 5), (415, 5), (415, 5), (415, 5), (415, 5), (415, 5), (415, 5), (415, 5), (415, 5), (415, 5), (415, 5), (415, 5), (415, 5), (415, 5), (415, 5), (415, 5), (415, 5), (415, 5), (415, 5), (416, 4), (416, 4), (416, 4), (416, 4), (416, 4), (416, 4), (416, 4), (416, 4), (416, 4), (416, 4), (416, 4), (416, 4), (416, 4), (416, 4), (416, 4), (416, 4), (416, 4), (416, 4), (416, 4), (416, 4), (416, 4), (416, 4), (416, 4), (416, 4), (416, 4), (416, 4), (416, 4), (416, 4), (416, 4), (416, 4), (416, 4), (416, 4), (416, 4), (416, 4), (416, 4), (416, 4), (416, 4), (416, 4), (416, 4), (416, 4), (416, 4), (416, 4), (416, 4), (416, 4), (416, 4), (416, 4), (416, 4), (416, 4), (416, 4), (416, 4), (416, 4), (416, 4), (416, 4), (416, 4), (418, 4), (418, 4), (418, 4), (418, 4), (418, 4), (418, 4), (418, 4), (418, 4), (418, 4), (418, 4), (418, 4), (418, 4), (418, 4), (418, 4), (418, 4), (418, 4), (418, 4), (418, 4), (418, 4), (418, 4), (418, 4), (418, 4), (418, 4), (418, 4), (418, 4), (418, 4), (418, 4), (418, 4), (418, 4), (418, 4), (418, 4), (418, 4), (418, 4), (418, 4), (418, 4), (418, 4), (418, 4), (418, 4), (418, 4), (418, 4), (418, 4), (418, 4), (418, 4), (418, 4), (418, 4), (418, 4), (418, 4), (418, 4), (418, 4), (418, 4), (418, 4), (418, 4), (418, 4), (418, 4), (433, 4), (433, 4), (433, 4), (433, 4), (433, 4), (433, 4), (433, 4), (433, 4), (433, 4), (433, 4), (433, 4), (433, 4), (433, 4), (433, 4), (433, 4), (433, 4), (433, 4), (433, 4), (433, 4), (433, 4), (433, 4), (433, 4), (433, 4), (433, 4), (433, 4), (433, 4), (433, 4), (433, 4), (433, 4), (433, 4), (433, 4), (433, 4), (433, 4), (433, 4), (433, 4), (433, 4), (433, 4), (433, 4), (433, 4), (433, 4), (433, 4), (433, 4), (433, 4), (433, 4), (433, 4), (433, 4), (433, 4), (433, 4), (433, 4), (433, 4), (433, 4), (433, 4), (433, 4), (433, 4), (434, 5), (434, 5), (434, 5), (434, 5), (434, 5), (434, 5), (434, 5), (434, 5), (434, 5), (434, 5), (434, 5), (434, 5), (434, 5), (434, 5), (434, 5), (434, 5), (434, 5), (434, 5), (434, 5), (434, 5), (434, 5), (434, 5), (434, 5), (434, 5), (434, 5), (434, 5), (434, 5), (434, 5), (434, 5), (434, 5), (434, 5), (434, 5), (434, 5), (434, 5), (434, 5), (434, 5), (434, 5), (434, 5), (434, 5), (434, 5), (434, 5), (434, 5), (434, 5), (434, 5), (434, 5), (434, 5), (434, 5), (434, 5), (434, 5), (434, 5), (434, 5), (434, 5), (434, 5), (437, 4), (437, 4), (437, 4), (437, 4), (437, 4), (437, 4), (437, 4), (437, 4), (437, 4), (437, 4), (437, 4), (437, 4), (437, 4), (437, 4), (437, 4), (437, 4), (437, 4), (437, 4), (437, 4), (437, 4), (437, 4), (437, 4), (437, 4), (437, 4), (437, 4), (437, 4), (437, 4), (437, 4), (437, 4), (437, 4), (437, 4), (437, 4), (437, 4), (437, 4), (437, 4), (437, 4), (437, 4), (437, 4), (437, 4), (437, 4), (437, 4), (437, 4), (437, 4), (437, 4), (437, 4), (437, 4), (437, 4), (437, 4), (437, 4), (437, 4), (437, 4), (437, 4), (437, 4), (437, 4), (440, 5), (440, 5), (440, 5), (440, 5), (440, 5), (440, 5), (440, 5), (440, 5), (440, 5), (440, 5), (440, 5), (440, 5), (440, 5), (440, 5), (440, 5), (440, 5), (440, 5), (440, 5), (440, 5), (440, 5), (440, 5), (440, 5), (440, 5), (440, 5), (440, 5), (440, 5), (440, 5), (440, 5), (440, 5), (440, 5), (440, 5), (440, 5), (440, 5), (440, 5), (440, 5), (440, 5), (440, 5), (440, 5), (440, 5), (440, 5), (440, 5), (440, 5), (440, 5), (440, 5), (440, 5), (440, 5), (440, 5), (440, 5), (440, 5), (440, 5), (440, 5), (440, 5), (440, 5), (440, 5), (449, 4), (449, 4), (449, 4), (449, 4), (449, 4), (449, 4), (449, 4), (449, 4), (449, 4), (449, 4), (449, 4), (449, 4), (449, 4), (449, 4), (449, 4), (449, 4), (449, 4), (449, 4), (449, 4), (449, 4), (449, 4), (449, 4), (449, 4), (449, 4), (449, 4), (449, 4), (449, 4), (449, 4), (449, 4), (449, 4), (449, 4), (449, 4), (449, 4), (449, 4), (449, 4), (449, 4), (449, 4), (449, 4), (449, 4), (449, 4), (449, 4), (449, 4), (449, 4), (449, 4), (449, 4), (449, 4), (449, 4), (449, 4), (449, 4), (449, 4), (449, 4), (449, 4), (449, 4), (449, 4), (454, 4), (454, 4), (454, 4), (454, 4), (454, 4), (454, 4), (454, 4), (454, 4), (454, 4), (454, 4), (454, 4), (454, 4), (454, 4), (454, 4), (454, 4), (454, 4), (454, 4), (454, 4), (454, 4), (454, 4), (454, 4), (454, 4), (454, 4), (454, 4), (454, 4), (454, 4), (454, 4), (454, 4), (454, 4), (454, 4), (454, 4), (454, 4), (454, 4), (454, 4), (454, 4), (454, 4), (454, 4), (454, 4), (454, 4), (454, 4), (454, 4), (454, 4), (454, 4), (454, 4), (454, 4), (454, 4), (454, 4), (454, 4), (454, 4), (454, 4), (454, 4), (454, 4), (454, 4), (454, 4), (456, 4), (456, 4), (456, 4), (456, 4), (456, 4), (456, 4), (456, 4), (456, 4), (456, 4), (456, 4), (456, 4), (456, 4), (456, 4), (456, 4), (456, 4), (456, 4), (456, 4), (456, 4), (456, 4), (456, 4), (456, 4), (456, 4), (456, 4), (456, 4), (456, 4), (456, 4), (456, 4), (456, 4), (456, 4), (456, 4), (456, 4), (456, 4), (456, 4), (456, 4), (456, 4), (456, 4), (456, 4), (456, 4), (456, 4), (456, 4), (456, 4), (456, 4), (456, 4), (456, 4), (456, 4), (456, 4), (456, 4), (456, 4), (456, 4), (456, 4), (456, 4), (456, 4), (456, 4), (456, 4), (457, 4), (457, 4), (457, 4), (457, 4), (457, 4), (457, 4), (457, 4), (457, 4), (457, 4), (457, 4), (457, 4), (457, 4), (457, 4), (457, 4), (457, 4), (457, 4), (457, 4), (457, 4), (457, 4), (457, 4), (457, 4), (457, 4), (457, 4), (457, 4), (457, 4), (457, 4), (457, 4), (457, 4), (457, 4), (457, 4), (457, 4), (457, 4), (457, 4), (457, 4), (457, 4), (457, 4), (457, 4), (457, 4), (457, 4), (457, 4), (457, 4), (457, 4), (457, 4), (457, 4), (457, 4), (457, 4), (457, 4), (457, 4), (457, 4), (457, 4), (457, 4), (457, 4), (457, 4), (457, 4), (458, 4), (458, 4), (458, 4), (458, 4), (458, 4), (458, 4), (458, 4), (458, 4), (458, 4), (458, 4), (458, 4), (458, 4), (458, 4), (458, 4), (458, 4), (458, 4), (458, 4), (458, 4), (458, 4), (458, 4), (458, 4), (458, 4), (458, 4), (458, 4), (458, 4), (458, 4), (458, 4), (458, 4), (458, 4), (458, 4), (458, 4), (458, 4), (458, 4), (458, 4), (458, 4), (458, 4), (458, 4), (458, 4), (458, 4), (458, 4), (458, 4), (458, 4), (458, 4), (458, 4), (458, 4), (458, 4), (458, 4), (458, 4), (458, 4), (458, 4), (458, 4), (458, 4), (458, 4), (458, 4), (464, 4), (464, 4), (464, 4), (464, 4), (464, 4), (464, 4), (464, 4), (464, 4), (464, 4), (464, 4), (464, 4), (464, 4), (464, 4), (464, 4), (464, 4), (464, 4), (464, 4), (464, 4), (464, 4), (464, 4), (464, 4), (464, 4), (464, 4), (464, 4), (464, 4), (464, 4), (464, 4), (464, 4), (464, 4), (464, 4), (464, 4), (464, 4), (464, 4), (464, 4), (464, 4), (464, 4), (464, 4), (464, 4), (464, 4), (464, 4), (464, 4), (464, 4), (464, 4), (464, 4), (464, 4), (464, 4), (464, 4), (464, 4), (464, 4), (464, 4), (464, 4), (464, 4), (464, 4), (464, 4), (466, 4), (466, 4), (466, 4), (466, 4), (466, 4), (466, 4), (466, 4), (466, 4), (466, 4), (466, 4), (466, 4), (466, 4), (466, 4), (466, 4), (466, 4), (466, 4), (466, 4), (466, 4), (466, 4), (466, 4), (466, 4), (466, 4), (466, 4), (466, 4), (466, 4), (466, 4), (466, 4), (466, 4), (466, 4), (466, 4), (466, 4), (466, 4), (466, 4), (466, 4), (466, 4), (466, 4), (466, 4), (466, 4), (466, 4), (466, 4), (466, 4), (466, 4), (466, 4), (466, 4), (466, 4), (466, 4), (466, 4), (466, 4), (466, 4), (466, 4), (466, 4), (466, 4), (466, 4), (466, 4), (467, 5), (467, 5), (467, 5), (467, 5), (467, 5), (467, 5), (467, 5), (467, 5), (467, 5), (467, 5), (467, 5), (467, 5), (467, 5), (467, 5), (467, 5), (467, 5), (467, 5), (467, 5), (467, 5), (467, 5), (467, 5), (467, 5), (467, 5), (467, 5), (467, 5), (467, 5), (467, 5), (467, 5), (467, 5), (467, 5), (467, 5), (467, 5), (467, 5), (467, 5), (467, 5), (467, 5), (467, 5), (467, 5), (467, 5), (467, 5), (467, 5), (467, 5), (467, 5), (467, 5), (467, 5), (467, 5), (467, 5), (467, 5), (467, 5), (467, 5), (467, 5), (467, 5), (467, 5), (467, 5), (470, 4), (470, 4), (470, 4), (470, 4), (470, 4), (470, 4), (470, 4), (470, 4), (470, 4), (470, 4), (470, 4), (470, 4), (470, 4), (470, 4), (470, 4), (470, 4), (470, 4), (470, 4), (470, 4), (470, 4), (470, 4), (470, 4), (470, 4), (470, 4), (470, 4), (470, 4), (470, 4), (470, 4), (470, 4), (470, 4), (470, 4), (470, 4), (470, 4), (470, 4), (470, 4), (470, 4), (470, 4), (470, 4), (470, 4), (470, 4), (470, 4), (470, 4), (470, 4), (470, 4), (470, 4), (470, 4), (470, 4), (470, 4), (470, 4), (470, 4), (470, 4), (470, 4), (470, 4), (470, 4), (471, 5), (471, 5), (471, 5), (471, 5), (471, 5), (471, 5), (471, 5), (471, 5), (471, 5), (471, 5), (471, 5), (471, 5), (471, 5), (471, 5), (471, 5), (471, 5), (471, 5), (471, 5), (471, 5), (471, 5), (471, 5), (471, 5), (471, 5), (471, 5), (471, 5), (471, 5), (471, 5), (471, 5), (471, 5), (471, 5), (471, 5), (471, 5), (471, 5), (471, 5), (471, 5), (471, 5), (471, 5), (471, 5), (471, 5), (471, 5), (471, 5), (471, 5), (471, 5), (471, 5), (471, 5), (471, 5), (471, 5), (471, 5), (471, 5), (471, 5), (471, 5), (471, 5), (471, 5), (471, 5), (477, 4), (477, 4), (477, 4), (477, 4), (477, 4), (477, 4), (477, 4), (477, 4), (477, 4), (477, 4), (477, 4), (477, 4), (477, 4), (477, 4), (477, 4), (477, 4), (477, 4), (477, 4), (477, 4), (477, 4), (477, 4), (477, 4), (477, 4), (477, 4), (477, 4), (477, 4), (477, 4), (477, 4), (477, 4), (477, 4), (477, 4), (477, 4), (477, 4), (477, 4), (477, 4), (477, 4), (477, 4), (477, 4), (477, 4), (477, 4), (477, 4), (477, 4), (477, 4), (477, 4), (477, 4), (477, 4), (477, 4), (477, 4), (477, 4), (477, 4), (477, 4), (477, 4), (477, 4), (477, 4), (478, 5), (478, 5), (478, 5), (478, 5), (478, 5), (478, 5), (478, 5), (478, 5), (478, 5), (478, 5), (478, 5), (478, 5), (478, 5), (478, 5), (478, 5), (478, 5), (478, 5), (478, 5), (478, 5), (478, 5), (478, 5), (478, 5), (478, 5), (478, 5), (478, 5), (478, 5), (478, 5), (478, 5), (478, 5), (478, 5), (478, 5), (478, 5), (478, 5), (478, 5), (478, 5), (478, 5), (478, 5), (478, 5), (478, 5), (478, 5), (478, 5), (478, 5), (478, 5), (478, 5), (478, 5), (478, 5), (478, 5), (478, 5), (478, 5), (478, 5), (478, 5), (478, 5), (478, 5), (478, 5), (482, 4), (482, 4), (482, 4), (482, 4), (482, 4), (482, 4), (482, 4), (482, 4), (482, 4), (482, 4), (482, 4), (482, 4), (482, 4), (482, 4), (482, 4), (482, 4), (482, 4), (482, 4), (482, 4), (482, 4), (482, 4), (482, 4), (482, 4), (482, 4), (482, 4), (482, 4), (482, 4), (482, 4), (482, 4), (482, 4), (482, 4), (482, 4), (482, 4), (482, 4), (482, 4), (482, 4), (482, 4), (482, 4), (482, 4), (482, 4), (482, 4), (482, 4), (482, 4), (482, 4), (482, 4), (482, 4), (482, 4), (482, 4), (482, 4), (482, 4), (482, 4), (482, 4), (482, 4), (482, 4), (483, 5), (483, 5), (483, 5), (483, 5), (483, 5), (483, 5), (483, 5), (483, 5), (483, 5), (483, 5), (483, 5), (483, 5), (483, 5), (483, 5), (483, 5), (483, 5), (483, 5), (483, 5), (483, 5), (483, 5), (483, 5), (483, 5), (483, 5), (483, 5), (483, 5), (483, 5), (483, 5), (483, 5), (483, 5), (483, 5), (483, 5), (483, 5), (483, 5), (483, 5), (483, 5), (483, 5), (483, 5), (483, 5), (483, 5), (483, 5), (483, 5), (483, 5), (483, 5), (483, 5), (483, 5), (483, 5), (483, 5), (483, 5), (483, 5), (483, 5), (483, 5), (483, 5), (483, 5), (483, 5), (485, 4), (485, 4), (485, 4), (485, 4), (485, 4), (485, 4), (485, 4), (485, 4), (485, 4), (485, 4), (485, 4), (485, 4), (485, 4), (485, 4), (485, 4), (485, 4), (485, 4), (485, 4), (485, 4), (485, 4), (485, 4), (485, 4), (485, 4), (485, 4), (485, 4), (485, 4), (485, 4), (485, 4), (485, 4), (485, 4), (485, 4), (485, 4), (485, 4), (485, 4), (485, 4), (485, 4), (485, 4), (485, 4), (485, 4), (485, 4), (485, 4), (485, 4), (485, 4), (485, 4), (485, 4), (485, 4), (485, 4), (485, 4), (485, 4), (485, 4), (485, 4), (485, 4), (485, 4), (485, 4), (486, 5), (486, 5), (486, 5), (486, 5), (486, 5), (486, 5), (486, 5), (486, 5), (486, 5), (486, 5), (486, 5), (486, 5), (486, 5), (486, 5), (486, 5), (486, 5), (486, 5), (486, 5), (486, 5), (486, 5), (486, 5), (486, 5), (486, 5), (486, 5), (486, 5), (486, 5), (486, 5), (486, 5), (486, 5), (486, 5), (486, 5), (486, 5), (486, 5), (486, 5), (486, 5), (486, 5), (486, 5), (486, 5), (486, 5), (486, 5), (486, 5), (486, 5), (486, 5), (486, 5), (486, 5), (486, 5), (486, 5), (486, 5), (486, 5), (486, 5), (486, 5), (486, 5), (486, 5), (486, 5), (494, 4), (494, 4), (494, 4), (494, 4), (494, 4), (494, 4), (494, 4), (494, 4), (494, 4), (494, 4), (494, 4), (494, 4), (494, 4), (494, 4), (494, 4), (494, 4), (494, 4), (494, 4), (494, 4), (494, 4), (494, 4), (494, 4), (494, 4), (494, 4), (494, 4), (494, 4), (494, 4), (494, 4), (494, 4), (494, 4), (494, 4), (494, 4), (494, 4), (494, 4), (494, 4), (494, 4), (494, 4), (494, 4), (494, 4), (494, 4), (494, 4), (494, 4), (494, 4), (494, 4), (494, 4), (494, 4), (494, 4), (494, 4), (494, 4), (494, 4), (494, 4), (494, 4), (494, 4), (494, 4), (496, 4), (496, 4), (496, 4), (496, 4), (496, 4), (496, 4), (496, 4), (496, 4), (496, 4), (496, 4), (496, 4), (496, 4), (496, 4), (496, 4), (496, 4), (496, 4), (496, 4), (496, 4), (496, 4), (496, 4), (496, 4), (496, 4), (496, 4), (496, 4), (496, 4), (496, 4), (496, 4), (496, 4), (496, 4), (496, 4), (496, 4), (496, 4), (496, 4), (496, 4), (496, 4), (496, 4), (496, 4), (496, 4), (496, 4), (496, 4), (496, 4), (496, 4), (496, 4), (496, 4), (496, 4), (496, 4), (496, 4), (496, 4), (496, 4), (496, 4), (496, 4), (496, 4), (496, 4), (499, 4), (499, 4), (499, 4), (499, 4), (499, 4), (499, 4), (499, 4), (499, 4), (499, 4), (499, 4), (499, 4), (499, 4), (499, 4), (499, 4), (499, 4), (499, 4), (499, 4), (499, 4), (499, 4), (499, 4), (499, 4), (499, 4), (499, 4), (499, 4), (499, 4), (499, 4), (499, 4), (499, 4), (499, 4), (499, 4), (499, 4), (499, 4), (499, 4), (499, 4), (499, 4), (499, 4), (499, 4), (499, 4), (499, 4), (499, 4), (499, 4), (499, 4), (499, 4), (499, 4), (499, 4), (499, 4), (499, 4), (499, 4), (499, 4), (499, 4), (499, 4), (499, 4), (499, 4), (499, 4), (502, 5), (502, 5), (502, 5), (502, 5), (502, 5), (502, 5), (502, 5), (502, 5), (502, 5), (502, 5), (502, 5), (502, 5), (502, 5), (502, 5), (502, 5), (502, 5), (502, 5), (502, 5), (502, 5), (502, 5), (502, 5), (502, 5), (502, 5), (502, 5), (502, 5), (502, 5), (502, 5), (502, 5), (502, 5), (502, 5), (502, 5), (502, 5), (502, 5), (502, 5), (502, 5), (502, 5), (502, 5), (502, 5), (502, 5), (502, 5), (502, 5), (502, 5), (502, 5), (502, 5), (502, 5), (502, 5), (502, 5), (502, 5), (502, 5), (502, 5), (502, 5), (502, 5), (502, 5), (502, 5), (507, 5), (507, 5), (507, 5), (507, 5), (507, 5), (507, 5), (507, 5), (507, 5), (507, 5), (507, 5), (507, 5), (507, 5), (507, 5), (507, 5), (507, 5), (507, 5), (507, 5), (507, 5), (507, 5), (507, 5), (507, 5), (507, 5), (507, 5), (507, 5), (507, 5), (507, 5), (507, 5), (507, 5), (507, 5), (507, 5), (507, 5), (507, 5), (507, 5), (507, 5), (507, 5), (507, 5), (507, 5), (507, 5), (507, 5), (507, 5), (507, 5), (507, 5), (507, 5), (507, 5), (507, 5), (507, 5), (507, 5), (507, 5), (507, 5), (507, 5), (507, 5), (507, 5), (507, 5), (507, 5), (511, 4), (511, 4), (511, 4), (511, 4), (511, 4), (511, 4), (511, 4), (511, 4), (511, 4), (511, 4), (511, 4), (511, 4), (511, 4), (511, 4), (511, 4), (511, 4), (511, 4), (511, 4), (511, 4), (511, 4), (511, 4), (511, 4), (511, 4), (511, 4), (511, 4), (511, 4), (511, 4), (511, 4), (511, 4), (511, 4), (511, 4), (511, 4), (511, 4), (511, 4), (511, 4), (511, 4), (511, 4), (511, 4), (511, 4), (511, 4), (511, 4), (511, 4), (511, 4), (511, 4), (511, 4), (511, 4), (511, 4), (511, 4), (511, 4), (511, 4), (511, 4), (511, 4), (511, 4), (511, 4), (513, 5), (513, 5), (513, 5), (513, 5), (513, 5), (513, 5), (513, 5), (513, 5), (513, 5), (513, 5), (513, 5), (513, 5), (513, 5), (513, 5), (513, 5), (513, 5), (513, 5), (513, 5), (513, 5), (513, 5), (513, 5), (513, 5), (513, 5), (513, 5), (513, 5), (513, 5), (513, 5), (513, 5), (513, 5), (513, 5), (513, 5), (513, 5), (513, 5), (513, 5), (513, 5), (513, 5), (513, 5), (513, 5), (513, 5), (513, 5), (513, 5), (513, 5), (513, 5), (513, 5), (513, 5), (513, 5), (513, 5), (513, 5), (513, 5), (513, 5), (513, 5), (513, 5), (513, 5), (513, 5), (517, 4), (517, 4), (517, 4), (517, 4), (517, 4), (517, 4), (517, 4), (517, 4), (517, 4), (517, 4), (517, 4), (517, 4), (517, 4), (517, 4), (517, 4), (517, 4), (517, 4), (517, 4), (517, 4), (517, 4), (517, 4), (517, 4), (517, 4), (517, 4), (517, 4), (517, 4), (517, 4), (517, 4), (517, 4), (517, 4), (517, 4), (517, 4), (517, 4), (517, 4), (517, 4), (517, 4), (517, 4), (517, 4), (517, 4), (517, 4), (517, 4), (517, 4), (517, 4), (517, 4), (517, 4), (517, 4), (517, 4), (517, 4), (517, 4), (517, 4), (517, 4), (517, 4), (517, 4), (517, 4), (522, 5), (522, 5), (522, 5), (522, 5), (522, 5), (522, 5), (522, 5), (522, 5), (522, 5), (522, 5), (522, 5), (522, 5), (522, 5), (522, 5), (522, 5), (522, 5), (522, 5), (522, 5), (522, 5), (522, 5), (522, 5), (522, 5), (522, 5), (522, 5), (522, 5), (522, 5), (522, 5), (522, 5), (522, 5), (522, 5), (522, 5), (522, 5), (522, 5), (522, 5), (522, 5), (522, 5), (522, 5), (522, 5), (522, 5), (522, 5), (522, 5), (522, 5), (522, 5), (522, 5), (522, 5), (522, 5), (522, 5), (522, 5), (522, 5), (522, 5), (522, 5), (522, 5), (522, 5), (522, 5), (524, 4), (524, 4), (524, 4), (524, 4), (524, 4), (524, 4), (524, 4), (524, 4), (524, 4), (524, 4), (524, 4), (524, 4), (524, 4), (524, 4), (524, 4), (524, 4), (524, 4), (524, 4), (524, 4), (524, 4), (524, 4), (524, 4), (524, 4), (524, 4), (524, 4), (524, 4), (524, 4), (524, 4), (524, 4), (524, 4), (524, 4), (524, 4), (524, 4), (524, 4), (524, 4), (524, 4), (524, 4), (524, 4), (524, 4), (524, 4), (524, 4), (524, 4), (524, 4), (524, 4), (524, 4), (524, 4), (524, 4), (524, 4), (524, 4), (524, 4), (524, 4), (524, 4), (524, 4), (524, 4), (525, 5), (525, 5), (525, 5), (525, 5), (525, 5), (525, 5), (525, 5), (525, 5), (525, 5), (525, 5), (525, 5), (525, 5), (525, 5), (525, 5), (525, 5), (525, 5), (525, 5), (525, 5), (525, 5), (525, 5), (525, 5), (525, 5), (525, 5), (525, 5), (525, 5), (525, 5), (525, 5), (525, 5), (525, 5), (525, 5), (525, 5), (525, 5), (525, 5), (525, 5), (525, 5), (525, 5), (525, 5), (525, 5), (525, 5), (525, 5), (525, 5), (525, 5), (525, 5), (525, 5), (525, 5), (525, 5), (525, 5), (525, 5), (525, 5), (525, 5), (525, 5), (525, 5), (525, 5), (525, 5), (531, 5), (531, 5), (531, 5), (531, 5), (531, 5), (531, 5), (531, 5), (531, 5), (531, 5), (531, 5), (531, 5), (531, 5), (531, 5), (531, 5), (531, 5), (531, 5), (531, 5), (531, 5), (531, 5), (531, 5), (531, 5), (531, 5), (531, 5), (531, 5), (531, 5), (531, 5), (531, 5), (531, 5), (531, 5), (531, 5), (531, 5), (531, 5), (531, 5), (531, 5), (531, 5), (531, 5), (531, 5), (531, 5), (531, 5), (531, 5), (531, 5), (531, 5), (531, 5), (531, 5), (531, 5), (531, 5), (531, 5), (531, 5), (531, 5), (531, 5), (531, 5), (531, 5), (531, 5), (531, 5), (532, 4), (532, 4), (532, 4), (532, 4), (532, 4), (532, 4), (532, 4), (532, 4), (532, 4), (532, 4), (532, 4), (532, 4), (532, 4), (532, 4), (532, 4), (532, 4), (532, 4), (532, 4), (532, 4), (532, 4), (532, 4), (532, 4), (532, 4), (532, 4), (532, 4), (532, 4), (532, 4), (532, 4), (532, 4), (532, 4), (532, 4), (532, 4), (532, 4), (532, 4), (532, 4), (532, 4), (532, 4), (532, 4), (532, 4), (532, 4), (532, 4), (532, 4), (532, 4), (532, 4), (532, 4), (532, 4), (532, 4), (532, 4), (532, 4), (532, 4), (532, 4), (532, 4), (532, 4), (532, 4), (533, 5), (533, 5), (533, 5), (533, 5), (533, 5), (533, 5), (533, 5), (533, 5), (533, 5), (533, 5), (533, 5), (533, 5), (533, 5), (533, 5), (533, 5), (533, 5), (533, 5), (533, 5), (533, 5), (533, 5), (533, 5), (533, 5), (533, 5), (533, 5), (533, 5), (533, 5), (533, 5), (533, 5), (533, 5), (533, 5), (533, 5), (533, 5), (533, 5), (533, 5), (533, 5), (533, 5), (533, 5), (533, 5), (533, 5), (533, 5), (533, 5), (533, 5), (533, 5), (533, 5), (533, 5), (533, 5), (533, 5), (533, 5), (533, 5), (533, 5), (533, 5), (533, 5), (533, 5), (533, 5), (535, 5), (535, 5), (535, 5), (535, 5), (535, 5), (535, 5), (535, 5), (535, 5), (535, 5), (535, 5), (535, 5), (535, 5), (535, 5), (535, 5), (535, 5), (535, 5), (535, 5), (535, 5), (535, 5), (535, 5), (535, 5), (535, 5), (535, 5), (535, 5), (535, 5), (535, 5), (535, 5), (535, 5), (535, 5), (535, 5), (535, 5), (535, 5), (535, 5), (535, 5), (535, 5), (535, 5), (535, 5), (535, 5), (535, 5), (535, 5), (535, 5), (535, 5), (535, 5), (535, 5), (535, 5), (535, 5), (535, 5), (535, 5), (535, 5), (535, 5), (535, 5), (535, 5), (535, 5), (535, 5), (540, 4), (540, 4), (540, 4), (540, 4), (540, 4), (540, 4), (540, 4), (540, 4), (540, 4), (540, 4), (540, 4), (540, 4), (540, 4), (540, 4), (540, 4), (540, 4), (540, 4), (540, 4), (540, 4), (540, 4), (540, 4), (540, 4), (540, 4), (540, 4), (540, 4), (540, 4), (540, 4), (540, 4), (540, 4), (540, 4), (540, 4), (540, 4), (540, 4), (540, 4), (540, 4), (540, 4), (540, 4), (540, 4), (540, 4), (540, 4), (540, 4), (540, 4), (540, 4), (540, 4), (540, 4), (540, 4), (540, 4), (540, 4), (540, 4), (540, 4), (540, 4), (540, 4), (540, 4), (540, 4), (541, 4), (541, 4), (541, 4), (541, 4), (541, 4), (541, 4), (541, 4), (541, 4), (541, 4), (541, 4), (541, 4), (541, 4), (541, 4), (541, 4), (541, 4), (541, 4), (541, 4), (541, 4), (541, 4), (541, 4), (541, 4), (541, 4), (541, 4), (541, 4), (541, 4), (541, 4), (541, 4), (541, 4), (541, 4), (541, 4), (541, 4), (541, 4), (541, 4), (541, 4), (541, 4), (541, 4), (541, 4), (541, 4), (541, 4), (541, 4), (541, 4), (541, 4), (541, 4), (541, 4), (541, 4), (541, 4), (541, 4), (541, 4), (541, 4), (541, 4), (541, 4), (541, 4), (541, 4), (544, 5), (544, 5), (544, 5), (544, 5), (544, 5), (544, 5), (544, 5), (544, 5), (544, 5), (544, 5), (544, 5), (544, 5), (544, 5), (544, 5), (544, 5), (544, 5), (544, 5), (544, 5), (544, 5), (544, 5), (544, 5), (544, 5), (544, 5), (544, 5), (544, 5), (544, 5), (544, 5), (544, 5), (544, 5), (544, 5), (544, 5), (544, 5), (544, 5), (544, 5), (544, 5), (544, 5), (544, 5), (544, 5), (544, 5), (544, 5), (544, 5), (544, 5), (544, 5), (544, 5), (544, 5), (544, 5), (544, 5), (544, 5), (544, 5), (544, 5), (544, 5), (544, 5), (544, 5), (544, 5), (547, 4), (547, 4), (547, 4), (547, 4), (547, 4), (547, 4), (547, 4), (547, 4), (547, 4), (547, 4), (547, 4), (547, 4), (547, 4), (547, 4), (547, 4), (547, 4), (547, 4), (547, 4), (547, 4), (547, 4), (547, 4), (547, 4), (547, 4), (547, 4), (547, 4), (547, 4), (547, 4), (547, 4), (547, 4), (547, 4), (547, 4), (547, 4), (547, 4), (547, 4), (547, 4), (547, 4), (547, 4), (547, 4), (547, 4), (547, 4), (547, 4), (547, 4), (547, 4), (547, 4), (547, 4), (547, 4), (547, 4), (547, 4), (547, 4), (547, 4), (547, 4), (547, 4), (547, 4), (547, 4), (548, 5), (548, 5), (548, 5), (548, 5), (548, 5), (548, 5), (548, 5), (548, 5), (548, 5), (548, 5), (548, 5), (548, 5), (548, 5), (548, 5), (548, 5), (548, 5), (548, 5), (548, 5), (548, 5), (548, 5), (548, 5), (548, 5), (548, 5), (548, 5), (548, 5), (548, 5), (548, 5), (548, 5), (548, 5), (548, 5), (548, 5), (548, 5), (548, 5), (548, 5), (548, 5), (548, 5), (548, 5), (548, 5), (548, 5), (548, 5), (548, 5), (548, 5), (548, 5), (548, 5), (548, 5), (548, 5), (548, 5), (548, 5), (548, 5), (548, 5), (548, 5), (548, 5), (548, 5), (548, 5), (559, 4), (559, 4), (559, 4), (559, 4), (559, 4), (559, 4), (559, 4), (559, 4), (559, 4), (559, 4), (559, 4), (559, 4), (559, 4), (559, 4), (559, 4), (559, 4), (559, 4), (559, 4), (559, 4), (559, 4), (559, 4), (559, 4), (559, 4), (559, 4), (559, 4), (559, 4), (559, 4), (559, 4), (559, 4), (559, 4), (559, 4), (559, 4), (559, 4), (559, 4), (559, 4), (559, 4), (559, 4), (559, 4), (559, 4), (559, 4), (559, 4), (559, 4), (559, 4), (559, 4), (559, 4), (559, 4), (559, 4), (559, 4), (559, 4), (559, 4), (559, 4), (559, 4), (559, 4), (568, 4), (568, 4), (568, 4), (568, 4), (568, 4), (568, 4), (568, 4), (568, 4), (568, 4), (568, 4), (568, 4), (568, 4), (568, 4), (568, 4), (568, 4), (568, 4), (568, 4), (568, 4), (568, 4), (568, 4), (568, 4), (568, 4), (568, 4), (568, 4), (568, 4), (568, 4), (568, 4), (568, 4), (568, 4), (568, 4), (568, 4), (568, 4), (568, 4), (568, 4), (568, 4), (568, 4), (568, 4), (568, 4), (568, 4), (568, 4), (568, 4), (568, 4), (568, 4), (568, 4), (568, 4), (568, 4), (568, 4), (568, 4), (568, 4), (568, 4), (568, 4), (568, 4), (568, 4), (568, 4), (575, 4), (575, 4), (575, 4), (575, 4), (575, 4), (575, 4), (575, 4), (575, 4), (575, 4), (575, 4), (575, 4), (575, 4), (575, 4), (575, 4), (575, 4), (575, 4), (575, 4), (575, 4), (575, 4), (575, 4), (575, 4), (575, 4), (575, 4), (575, 4), (575, 4), (575, 4), (575, 4), (575, 4), (575, 4), (575, 4), (575, 4), (575, 4), (575, 4), (575, 4), (575, 4), (575, 4), (575, 4), (575, 4), (575, 4), (575, 4), (575, 4), (575, 4), (575, 4), (575, 4), (575, 4), (575, 4), (575, 4), (575, 4), (575, 4), (575, 4), (575, 4), (575, 4), (575, 4), (575, 4), (576, 5), (576, 5), (576, 5), (576, 5), (576, 5), (576, 5), (576, 5), (576, 5), (576, 5), (576, 5), (576, 5), (576, 5), (576, 5), (576, 5), (576, 5), (576, 5), (576, 5), (576, 5), (576, 5), (576, 5), (576, 5), (576, 5), (576, 5), (576, 5), (576, 5), (576, 5), (576, 5), (576, 5), (576, 5), (576, 5), (576, 5), (576, 5), (576, 5), (576, 5), (576, 5), (576, 5), (576, 5), (576, 5), (576, 5), (576, 5), (576, 5), (576, 5), (576, 5), (576, 5), (576, 5), (576, 5), (576, 5), (576, 5), (576, 5), (576, 5), (576, 5), (576, 5), (576, 5), (576, 5), (578, 4), (578, 4), (578, 4), (578, 4), (578, 4), (578, 4), (578, 4), (578, 4), (578, 4), (578, 4), (578, 4), (578, 4), (578, 4), (578, 4), (578, 4), (578, 4), (578, 4), (578, 4), (578, 4), (578, 4), (578, 4), (578, 4), (578, 4), (578, 4), (578, 4), (578, 4), (578, 4), (578, 4), (578, 4), (578, 4), (578, 4), (578, 4), (578, 4), (578, 4), (578, 4), (578, 4), (578, 4), (578, 4), (578, 4), (578, 4), (578, 4), (578, 4), (578, 4), (578, 4), (578, 4), (578, 4), (578, 4), (578, 4), (578, 4), (578, 4), (578, 4), (578, 4), (578, 4), (578, 4), (581, 4), (581, 4), (581, 4), (581, 4), (581, 4), (581, 4), (581, 4), (581, 4), (581, 4), (581, 4), (581, 4), (581, 4), (581, 4), (581, 4), (581, 4), (581, 4), (581, 4), (581, 4), (581, 4), (581, 4), (581, 4), (581, 4), (581, 4), (581, 4), (581, 4), (581, 4), (581, 4), (581, 4), (581, 4), (581, 4), (581, 4), (581, 4), (581, 4), (581, 4), (581, 4), (581, 4), (581, 4), (581, 4), (581, 4), (581, 4), (581, 4), (581, 4), (581, 4), (581, 4), (581, 4), (581, 4), (581, 4), (581, 4), (581, 4), (581, 4), (581, 4), (581, 4), (581, 4), (581, 4), (587, 4), (587, 4), (587, 4), (587, 4), (587, 4), (587, 4), (587, 4), (587, 4), (587, 4), (587, 4), (587, 4), (587, 4), (587, 4), (587, 4), (587, 4), (587, 4), (587, 4), (587, 4), (587, 4), (587, 4), (587, 4), (587, 4), (587, 4), (587, 4), (587, 4), (587, 4), (587, 4), (587, 4), (587, 4), (587, 4), (587, 4), (587, 4), (587, 4), (587, 4), (587, 4), (587, 4), (587, 4), (587, 4), (587, 4), (587, 4), (587, 4), (587, 4), (587, 4), (587, 4), (587, 4), (587, 4), (587, 4), (587, 4), (587, 4), (587, 4), (587, 4), (587, 4), (587, 4), (587, 4), (591, 4), (591, 4), (591, 4), (591, 4), (591, 4), (591, 4), (591, 4), (591, 4), (591, 4), (591, 4), (591, 4), (591, 4), (591, 4), (591, 4), (591, 4), (591, 4), (591, 4), (591, 4), (591, 4), (591, 4), (591, 4), (591, 4), (591, 4), (591, 4), (591, 4), (591, 4), (591, 4), (591, 4), (591, 4), (591, 4), (591, 4), (591, 4), (591, 4), (591, 4), (591, 4), (591, 4), (591, 4), (591, 4), (591, 4), (591, 4), (591, 4), (591, 4), (591, 4), (591, 4), (591, 4), (591, 4), (591, 4), (591, 4), (591, 4), (591, 4), (591, 4), (591, 4), (591, 4), (598, 4), (598, 4), (598, 4), (598, 4), (598, 4), (598, 4), (598, 4), (598, 4), (598, 4), (598, 4), (598, 4), (598, 4), (598, 4), (598, 4), (598, 4), (598, 4), (598, 4), (598, 4), (598, 4), (598, 4), (598, 4), (598, 4), (598, 4), (598, 4), (598, 4), (598, 4), (598, 4), (598, 4), (598, 4), (598, 4), (598, 4), (598, 4), (598, 4), (598, 4), (598, 4), (598, 4), (598, 4), (598, 4), (598, 4), (598, 4), (598, 4), (598, 4), (598, 4), (598, 4), (598, 4), (598, 4), (598, 4), (598, 4), (598, 4), (598, 4), (598, 4), (598, 4), (598, 4), (598, 4), (601, 4), (601, 4), (601, 4), (601, 4), (601, 4), (601, 4), (601, 4), (601, 4), (601, 4), (601, 4), (601, 4), (601, 4), (601, 4), (601, 4), (601, 4), (601, 4), (601, 4), (601, 4), (601, 4), (601, 4), (601, 4), (601, 4), (601, 4), (601, 4), (601, 4), (601, 4), (601, 4), (601, 4), (601, 4), (601, 4), (601, 4), (601, 4), (601, 4), (601, 4), (601, 4), (601, 4), (601, 4), (601, 4), (601, 4), (601, 4), (601, 4), (601, 4), (601, 4), (601, 4), (601, 4), (601, 4), (601, 4), (601, 4), (601, 4), (601, 4), (601, 4), (601, 4), (601, 4), (601, 4), (604, 4), (604, 4), (604, 4), (604, 4), (604, 4), (604, 4), (604, 4), (604, 4), (604, 4), (604, 4), (604, 4), (604, 4), (604, 4), (604, 4), (604, 4), (604, 4), (604, 4), (604, 4), (604, 4), (604, 4), (604, 4), (604, 4), (604, 4), (604, 4), (604, 4), (604, 4), (604, 4), (604, 4), (604, 4), (604, 4), (604, 4), (604, 4), (604, 4), (604, 4), (604, 4), (604, 4), (604, 4), (604, 4), (604, 4), (604, 4), (604, 4), (604, 4), (604, 4), (604, 4), (604, 4), (604, 4), (604, 4), (604, 4), (604, 4), (604, 4), (604, 4), (604, 4), (604, 4), (604, 4), (605, 5), (605, 5), (605, 5), (605, 5), (605, 5), (605, 5), (605, 5), (605, 5), (605, 5), (605, 5), (605, 5), (605, 5), (605, 5), (605, 5), (605, 5), (605, 5), (605, 5), (605, 5), (605, 5), (605, 5), (605, 5), (605, 5), (605, 5), (605, 5), (605, 5), (605, 5), (605, 5), (605, 5), (605, 5), (605, 5), (605, 5), (605, 5), (605, 5), (605, 5), (605, 5), (605, 5), (605, 5), (605, 5), (605, 5), (605, 5), (605, 5), (605, 5), (605, 5), (605, 5), (605, 5), (605, 5), (605, 5), (605, 5), (605, 5), (605, 5), (605, 5), (605, 5), (605, 5), (605, 5), (609, 4), (609, 4), (609, 4), (609, 4), (609, 4), (609, 4), (609, 4), (609, 4), (609, 4), (609, 4), (609, 4), (609, 4), (609, 4), (609, 4), (609, 4), (609, 4), (609, 4), (609, 4), (609, 4), (609, 4), (609, 4), (609, 4), (609, 4), (609, 4), (609, 4), (609, 4), (609, 4), (609, 4), (609, 4), (609, 4), (609, 4), (609, 4), (609, 4), (609, 4), (609, 4), (609, 4), (609, 4), (609, 4), (609, 4), (609, 4), (609, 4), (609, 4), (609, 4), (609, 4), (609, 4), (609, 4), (609, 4), (609, 4), (609, 4), (609, 4), (609, 4), (609, 4), (609, 4), (609, 4), (611, 4), (611, 4), (611, 4), (611, 4), (611, 4), (611, 4), (611, 4), (611, 4), (611, 4), (611, 4), (611, 4), (611, 4), (611, 4), (611, 4), (611, 4), (611, 4), (611, 4), (611, 4), (611, 4), (611, 4), (611, 4), (611, 4), (611, 4), (611, 4), (611, 4), (611, 4), (611, 4), (611, 4), (611, 4), (611, 4), (611, 4), (611, 4), (611, 4), (611, 4), (611, 4), (611, 4), (611, 4), (611, 4), (611, 4), (611, 4), (611, 4), (611, 4), (611, 4), (611, 4), (611, 4), (611, 4), (611, 4), (611, 4), (611, 4), (611, 4), (611, 4), (611, 4), (611, 4), (611, 4), (612, 4), (612, 4), (612, 4), (612, 4), (612, 4), (612, 4), (612, 4), (612, 4), (612, 4), (612, 4), (612, 4), (612, 4), (612, 4), (612, 4), (612, 4), (612, 4), (612, 4), (612, 4), (612, 4), (612, 4), (612, 4), (612, 4), (612, 4), (612, 4), (612, 4), (612, 4), (612, 4), (612, 4), (612, 4), (612, 4), (612, 4), (612, 4), (612, 4), (612, 4), (612, 4), (612, 4), (612, 4), (612, 4), (612, 4), (612, 4), (612, 4), (612, 4), (612, 4), (612, 4), (612, 4), (612, 4), (612, 4), (612, 4), (612, 4), (612, 4), (612, 4), (612, 4), (612, 4), (612, 4), (613, 5), (613, 5), (613, 5), (613, 5), (613, 5), (613, 5), (613, 5), (613, 5), (613, 5), (613, 5), (613, 5), (613, 5), (613, 5), (613, 5), (613, 5), (613, 5), (613, 5), (613, 5), (613, 5), (613, 5), (613, 5), (613, 5), (613, 5), (613, 5), (613, 5), (613, 5), (613, 5), (613, 5), (613, 5), (613, 5), (613, 5), (613, 5), (613, 5), (613, 5), (613, 5), (613, 5), (613, 5), (613, 5), (613, 5), (613, 5), (613, 5), (613, 5), (613, 5), (613, 5), (613, 5), (613, 5), (613, 5), (613, 5), (613, 5), (613, 5), (613, 5), (613, 5), (613, 5), (613, 5), (617, 4), (617, 4), (617, 4), (617, 4), (617, 4), (617, 4), (617, 4), (617, 4), (617, 4), (617, 4), (617, 4), (617, 4), (617, 4), (617, 4), (617, 4), (617, 4), (617, 4), (617, 4), (617, 4), (617, 4), (617, 4), (617, 4), (617, 4), (617, 4), (617, 4), (617, 4), (617, 4), (617, 4), (617, 4), (617, 4), (617, 4), (617, 4), (617, 4), (617, 4), (617, 4), (617, 4), (617, 4), (617, 4), (617, 4), (617, 4), (617, 4), (617, 4), (617, 4), (617, 4), (617, 4), (617, 4), (617, 4), (617, 4), (617, 4), (617, 4), (617, 4), (617, 4), (617, 4), (617, 4), (619, 5), (619, 5), (619, 5), (619, 5), (619, 5), (619, 5), (619, 5), (619, 5), (619, 5), (619, 5), (619, 5), (619, 5), (619, 5), (619, 5), (619, 5), (619, 5), (619, 5), (619, 5), (619, 5), (619, 5), (619, 5), (619, 5), (619, 5), (619, 5), (619, 5), (619, 5), (619, 5), (619, 5), (619, 5), (619, 5), (619, 5), (619, 5), (619, 5), (619, 5), (619, 5), (619, 5), (619, 5), (619, 5), (619, 5), (619, 5), (619, 5), (619, 5), (619, 5), (619, 5), (619, 5), (619, 5), (619, 5), (619, 5), (619, 5), (619, 5), (619, 5), (619, 5), (619, 5), (619, 5), (623, 4), (623, 4), (623, 4), (623, 4), (623, 4), (623, 4), (623, 4), (623, 4), (623, 4), (623, 4), (623, 4), (623, 4), (623, 4), (623, 4), (623, 4), (623, 4), (623, 4), (623, 4), (623, 4), (623, 4), (623, 4), (623, 4), (623, 4), (623, 4), (623, 4), (623, 4), (623, 4), (623, 4), (623, 4), (623, 4), (623, 4), (623, 4), (623, 4), (623, 4), (623, 4), (623, 4), (623, 4), (623, 4), (623, 4), (623, 4), (623, 4), (623, 4), (623, 4), (623, 4), (623, 4), (623, 4), (623, 4), (623, 4), (623, 4), (623, 4), (623, 4), (623, 4), (623, 4), (623, 4), (629, 4), (629, 4), (629, 4), (629, 4), (629, 4), (629, 4), (629, 4), (629, 4), (629, 4), (629, 4), (629, 4), (629, 4), (629, 4), (629, 4), (629, 4), (629, 4), (629, 4), (629, 4), (629, 4), (629, 4), (629, 4), (629, 4), (629, 4), (629, 4), (629, 4), (629, 4), (629, 4), (629, 4), (629, 4), (629, 4), (629, 4), (629, 4), (629, 4), (629, 4), (629, 4), (629, 4), (629, 4), (629, 4), (629, 4), (629, 4), (629, 4), (629, 4), (629, 4), (629, 4), (629, 4), (629, 4), (629, 4), (629, 4), (629, 4), (629, 4), (629, 4), (629, 4), (629, 4), (629, 4), (634, 4), (634, 4), (634, 4), (634, 4), (634, 4), (634, 4), (634, 4), (634, 4), (634, 4), (634, 4), (634, 4), (634, 4), (634, 4), (634, 4), (634, 4), (634, 4), (634, 4), (634, 4), (634, 4), (634, 4), (634, 4), (634, 4), (634, 4), (634, 4), (634, 4), (634, 4), (634, 4), (634, 4), (634, 4), (634, 4), (634, 4), (634, 4), (634, 4), (634, 4), (634, 4), (634, 4), (634, 4), (634, 4), (634, 4), (634, 4), (634, 4), (634, 4), (634, 4), (634, 4), (634, 4), (634, 4), (634, 4), (634, 4), (634, 4), (634, 4), (634, 4), (634, 4), (634, 4), (634, 4), (636, 4), (636, 4), (636, 4), (636, 4), (636, 4), (636, 4), (636, 4), (636, 4), (636, 4), (636, 4), (636, 4), (636, 4), (636, 4), (636, 4), (636, 4), (636, 4), (636, 4), (636, 4), (636, 4), (636, 4), (636, 4), (636, 4), (636, 4), (636, 4), (636, 4), (636, 4), (636, 4), (636, 4), (636, 4), (636, 4), (636, 4), (636, 4), (636, 4), (636, 4), (636, 4), (636, 4), (636, 4), (636, 4), (636, 4), (636, 4), (636, 4), (636, 4), (636, 4), (636, 4), (636, 4), (636, 4), (636, 4), (636, 4), (636, 4), (636, 4), (636, 4), (636, 4), (636, 4), (636, 4), (641, 5), (641, 5), (641, 5), (641, 5), (641, 5), (641, 5), (641, 5), (641, 5), (641, 5), (641, 5), (641, 5), (641, 5), (641, 5), (641, 5), (641, 5), (641, 5), (641, 5), (641, 5), (641, 5), (641, 5), (641, 5), (641, 5), (641, 5), (641, 5), (641, 5), (641, 5), (641, 5), (641, 5), (641, 5), (641, 5), (641, 5), (641, 5), (641, 5), (641, 5), (641, 5), (641, 5), (641, 5), (641, 5), (641, 5), (641, 5), (641, 5), (641, 5), (641, 5), (641, 5), (641, 5), (641, 5), (641, 5), (641, 5), (641, 5), (641, 5), (641, 5), (641, 5), (641, 5), (642, 5), (642, 5), (642, 5), (642, 5), (642, 5), (642, 5), (642, 5), (642, 5), (642, 5), (642, 5), (642, 5), (642, 5), (642, 5), (642, 5), (642, 5), (642, 5), (642, 5), (642, 5), (642, 5), (642, 5), (642, 5), (642, 5), (642, 5), (642, 5), (642, 5), (642, 5), (642, 5), (642, 5), (642, 5), (642, 5), (642, 5), (642, 5), (642, 5), (642, 5), (642, 5), (642, 5), (642, 5), (642, 5), (642, 5), (642, 5), (642, 5), (642, 5), (642, 5), (642, 5), (642, 5), (642, 5), (642, 5), (642, 5), (642, 5), (642, 5), (642, 5), (642, 5), (642, 5), (642, 5), (647, 5), (647, 5), (647, 5), (647, 5), (647, 5), (647, 5), (647, 5), (647, 5), (647, 5), (647, 5), (647, 5), (647, 5), (647, 5), (647, 5), (647, 5), (647, 5), (647, 5), (647, 5), (647, 5), (647, 5), (647, 5), (647, 5), (647, 5), (647, 5), (647, 5), (647, 5), (647, 5), (647, 5), (647, 5), (647, 5), (647, 5), (647, 5), (647, 5), (647, 5), (647, 5), (647, 5), (647, 5), (647, 5), (647, 5), (647, 5), (647, 5), (647, 5), (647, 5), (647, 5), (647, 5), (647, 5), (647, 5), (647, 5), (647, 5), (647, 5), (647, 5), (647, 5), (647, 5), (647, 5), (648, 5), (648, 5), (648, 5), (648, 5), (648, 5), (648, 5), (648, 5), (648, 5), (648, 5), (648, 5), (648, 5), (648, 5), (648, 5), (648, 5), (648, 5), (648, 5), (648, 5), (648, 5), (648, 5), (648, 5), (648, 5), (648, 5), (648, 5), (648, 5), (648, 5), (648, 5), (648, 5), (648, 5), (648, 5), (648, 5), (648, 5), (648, 5), (648, 5), (648, 5), (648, 5), (648, 5), (648, 5), (648, 5), (648, 5), (648, 5), (648, 5), (648, 5), (648, 5), (648, 5), (648, 5), (648, 5), (648, 5), (648, 5), (648, 5), (648, 5), (648, 5), (648, 5), (648, 5), (648, 5), (652, 4), (652, 4), (652, 4), (652, 4), (652, 4), (652, 4), (652, 4), (652, 4), (652, 4), (652, 4), (652, 4), (652, 4), (652, 4), (652, 4), (652, 4), (652, 4), (652, 4), (652, 4), (652, 4), (652, 4), (652, 4), (652, 4), (652, 4), (652, 4), (652, 4), (652, 4), (652, 4), (652, 4), (652, 4), (652, 4), (652, 4), (652, 4), (652, 4), (652, 4), (652, 4), (652, 4), (652, 4), (652, 4), (652, 4), (652, 4), (652, 4), (652, 4), (652, 4), (652, 4), (652, 4), (652, 4), (652, 4), (652, 4), (652, 4), (652, 4), (652, 4), (652, 4), (652, 4), (652, 4), (653, 4), (653, 4), (653, 4), (653, 4), (653, 4), (653, 4), (653, 4), (653, 4), (653, 4), (653, 4), (653, 4), (653, 4), (653, 4), (653, 4), (653, 4), (653, 4), (653, 4), (653, 4), (653, 4), (653, 4), (653, 4), (653, 4), (653, 4), (653, 4), (653, 4), (653, 4), (653, 4), (653, 4), (653, 4), (653, 4), (653, 4), (653, 4), (653, 4), (653, 4), (653, 4), (653, 4), (653, 4), (653, 4), (653, 4), (653, 4), (653, 4), (653, 4), (653, 4), (653, 4), (653, 4), (653, 4), (653, 4), (653, 4), (653, 4), (653, 4), (653, 4), (653, 4), (653, 4), (657, 4), (657, 4), (657, 4), (657, 4), (657, 4), (657, 4), (657, 4), (657, 4), (657, 4), (657, 4), (657, 4), (657, 4), (657, 4), (657, 4), (657, 4), (657, 4), (657, 4), (657, 4), (657, 4), (657, 4), (657, 4), (657, 4), (657, 4), (657, 4), (657, 4), (657, 4), (657, 4), (657, 4), (657, 4), (657, 4), (657, 4), (657, 4), (657, 4), (657, 4), (657, 4), (657, 4), (657, 4), (657, 4), (657, 4), (657, 4), (657, 4), (657, 4), (657, 4), (657, 4), (657, 4), (657, 4), (657, 4), (657, 4), (657, 4), (657, 4), (657, 4), (657, 4), (657, 4), (657, 4), (660, 5), (660, 5), (660, 5), (660, 5), (660, 5), (660, 5), (660, 5), (660, 5), (660, 5), (660, 5), (660, 5), (660, 5), (660, 5), (660, 5), (660, 5), (660, 5), (660, 5), (660, 5), (660, 5), (660, 5), (660, 5), (660, 5), (660, 5), (660, 5), (660, 5), (660, 5), (660, 5), (660, 5), (660, 5), (660, 5), (660, 5), (660, 5), (660, 5), (660, 5), (660, 5), (660, 5), (660, 5), (660, 5), (660, 5), (660, 5), (660, 5), (660, 5), (660, 5), (660, 5), (660, 5), (660, 5), (660, 5), (660, 5), (660, 5), (660, 5), (660, 5), (660, 5), (660, 5), (660, 5), (662, 4), (662, 4), (662, 4), (662, 4), (662, 4), (662, 4), (662, 4), (662, 4), (662, 4), (662, 4), (662, 4), (662, 4), (662, 4), (662, 4), (662, 4), (662, 4), (662, 4), (662, 4), (662, 4), (662, 4), (662, 4), (662, 4), (662, 4), (662, 4), (662, 4), (662, 4), (662, 4), (662, 4), (662, 4), (662, 4), (662, 4), (662, 4), (662, 4), (662, 4), (662, 4), (662, 4), (662, 4), (662, 4), (662, 4), (662, 4), (662, 4), (662, 4), (662, 4), (662, 4), (662, 4), (662, 4), (662, 4), (662, 4), (662, 4), (662, 4), (662, 4), (662, 4), (662, 4), (662, 4), (663, 4), (663, 4), (663, 4), (663, 4), (663, 4), (663, 4), (663, 4), (663, 4), (663, 4), (663, 4), (663, 4), (663, 4), (663, 4), (663, 4), (663, 4), (663, 4), (663, 4), (663, 4), (663, 4), (663, 4), (663, 4), (663, 4), (663, 4), (663, 4), (663, 4), (663, 4), (663, 4), (663, 4), (663, 4), (663, 4), (663, 4), (663, 4), (663, 4), (663, 4), (663, 4), (663, 4), (663, 4), (663, 4), (663, 4), (663, 4), (663, 4), (663, 4), (663, 4), (663, 4), (663, 4), (663, 4), (663, 4), (663, 4), (663, 4), (663, 4), (663, 4), (663, 4), (663, 4), (663, 4), (664, 4), (664, 4), (664, 4), (664, 4), (664, 4), (664, 4), (664, 4), (664, 4), (664, 4), (664, 4), (664, 4), (664, 4), (664, 4), (664, 4), (664, 4), (664, 4), (664, 4), (664, 4), (664, 4), (664, 4), (664, 4), (664, 4), (664, 4), (664, 4), (664, 4), (664, 4), (664, 4), (664, 4), (664, 4), (664, 4), (664, 4), (664, 4), (664, 4), (664, 4), (664, 4), (664, 4), (664, 4), (664, 4), (664, 4), (664, 4), (664, 4), (664, 4), (664, 4), (664, 4), (664, 4), (664, 4), (664, 4), (664, 4), (664, 4), (664, 4), (664, 4), (664, 4), (664, 4), (668, 5), (668, 5), (668, 5), (668, 5), (668, 5), (668, 5), (668, 5), (668, 5), (668, 5), (668, 5), (668, 5), (668, 5), (668, 5), (668, 5), (668, 5), (668, 5), (668, 5), (668, 5), (668, 5), (668, 5), (668, 5), (668, 5), (668, 5), (668, 5), (668, 5), (668, 5), (668, 5), (668, 5), (668, 5), (668, 5), (668, 5), (668, 5), (668, 5), (668, 5), (668, 5), (668, 5), (668, 5), (668, 5), (668, 5), (668, 5), (668, 5), (668, 5), (668, 5), (668, 5), (668, 5), (668, 5), (668, 5), (668, 5), (668, 5), (668, 5), (668, 5), (668, 5), (668, 5), (668, 5), (673, 4), (673, 4), (673, 4), (673, 4), (673, 4), (673, 4), (673, 4), (673, 4), (673, 4), (673, 4), (673, 4), (673, 4), (673, 4), (673, 4), (673, 4), (673, 4), (673, 4), (673, 4), (673, 4), (673, 4), (673, 4), (673, 4), (673, 4), (673, 4), (673, 4), (673, 4), (673, 4), (673, 4), (673, 4), (673, 4), (673, 4), (673, 4), (673, 4), (673, 4), (673, 4), (673, 4), (673, 4), (673, 4), (673, 4), (673, 4), (673, 4), (673, 4), (673, 4), (673, 4), (673, 4), (673, 4), (673, 4), (673, 4), (673, 4), (673, 4), (673, 4), (673, 4), (673, 4), (673, 4), (675, 5), (675, 5), (675, 5), (675, 5), (675, 5), (675, 5), (675, 5), (675, 5), (675, 5), (675, 5), (675, 5), (675, 5), (675, 5), (675, 5), (675, 5), (675, 5), (675, 5), (675, 5), (675, 5), (675, 5), (675, 5), (675, 5), (675, 5), (675, 5), (675, 5), (675, 5), (675, 5), (675, 5), (675, 5), (675, 5), (675, 5), (675, 5), (675, 5), (675, 5), (675, 5), (675, 5), (675, 5), (675, 5), (675, 5), (675, 5), (675, 5), (675, 5), (675, 5), (675, 5), (675, 5), (675, 5), (675, 5), (675, 5), (675, 5), (675, 5), (675, 5), (675, 5), (675, 5), (675, 5), (676, 4), (676, 4), (676, 4), (676, 4), (676, 4), (676, 4), (676, 4), (676, 4), (676, 4), (676, 4), (676, 4), (676, 4), (676, 4), (676, 4), (676, 4), (676, 4), (676, 4), (676, 4), (676, 4), (676, 4), (676, 4), (676, 4), (676, 4), (676, 4), (676, 4), (676, 4), (676, 4), (676, 4), (676, 4), (676, 4), (676, 4), (676, 4), (676, 4), (676, 4), (676, 4), (676, 4), (676, 4), (676, 4), (676, 4), (676, 4), (676, 4), (676, 4), (676, 4), (676, 4), (676, 4), (676, 4), (676, 4), (676, 4), (676, 4), (676, 4), (676, 4), (676, 4), (676, 4), (676, 4), (677, 5), (677, 5), (677, 5), (677, 5), (677, 5), (677, 5), (677, 5), (677, 5), (677, 5), (677, 5), (677, 5), (677, 5), (677, 5), (677, 5), (677, 5), (677, 5), (677, 5), (677, 5), (677, 5), (677, 5), (677, 5), (677, 5), (677, 5), (677, 5), (677, 5), (677, 5), (677, 5), (677, 5), (677, 5), (677, 5), (677, 5), (677, 5), (677, 5), (677, 5), (677, 5), (677, 5), (677, 5), (677, 5), (677, 5), (677, 5), (677, 5), (677, 5), (677, 5), (677, 5), (677, 5), (677, 5), (677, 5), (677, 5), (677, 5), (677, 5), (677, 5), (677, 5), (677, 5), (677, 5), (679, 4), (679, 4), (679, 4), (679, 4), (679, 4), (679, 4), (679, 4), (679, 4), (679, 4), (679, 4), (679, 4), (679, 4), (679, 4), (679, 4), (679, 4), (679, 4), (679, 4), (679, 4), (679, 4), (679, 4), (679, 4), (679, 4), (679, 4), (679, 4), (679, 4), (679, 4), (679, 4), (679, 4), (679, 4), (679, 4), (679, 4), (679, 4), (679, 4), (679, 4), (679, 4), (679, 4), (679, 4), (679, 4), (679, 4), (679, 4), (679, 4), (679, 4), (679, 4), (679, 4), (679, 4), (679, 4), (679, 4), (679, 4), (679, 4), (679, 4), (679, 4), (679, 4), (679, 4), (679, 4), (681, 4), (681, 4), (681, 4), (681, 4), (681, 4), (681, 4), (681, 4), (681, 4), (681, 4), (681, 4), (681, 4), (681, 4), (681, 4), (681, 4), (681, 4), (681, 4), (681, 4), (681, 4), (681, 4), (681, 4), (681, 4), (681, 4), (681, 4), (681, 4), (681, 4), (681, 4), (681, 4), (681, 4), (681, 4), (681, 4), (681, 4), (681, 4), (681, 4), (681, 4), (681, 4), (681, 4), (681, 4), (681, 4), (681, 4), (681, 4), (681, 4), (681, 4), (681, 4), (681, 4), (681, 4), (681, 4), (681, 4), (681, 4), (681, 4), (681, 4), (681, 4), (681, 4), (681, 4), (681, 4), (683, 4), (683, 4), (683, 4), (683, 4), (683, 4), (683, 4), (683, 4), (683, 4), (683, 4), (683, 4), (683, 4), (683, 4), (683, 4), (683, 4), (683, 4), (683, 4), (683, 4), (683, 4), (683, 4), (683, 4), (683, 4), (683, 4), (683, 4), (683, 4), (683, 4), (683, 4), (683, 4), (683, 4), (683, 4), (683, 4), (683, 4), (683, 4), (683, 4), (683, 4), (683, 4), (683, 4), (683, 4), (683, 4), (683, 4), (683, 4), (683, 4), (683, 4), (683, 4), (683, 4), (683, 4), (683, 4), (683, 4), (683, 4), (683, 4), (683, 4), (683, 4), (683, 4), (683, 4), (683, 4), (689, 4), (689, 4), (689, 4), (689, 4), (689, 4), (689, 4), (689, 4), (689, 4), (689, 4), (689, 4), (689, 4), (689, 4), (689, 4), (689, 4), (689, 4), (689, 4), (689, 4), (689, 4), (689, 4), (689, 4), (689, 4), (689, 4), (689, 4), (689, 4), (689, 4), (689, 4), (689, 4), (689, 4), (689, 4), (689, 4), (689, 4), (689, 4), (689, 4), (689, 4), (689, 4), (689, 4), (689, 4), (689, 4), (689, 4), (689, 4), (689, 4), (689, 4), (689, 4), (689, 4), (689, 4), (689, 4), (689, 4), (689, 4), (689, 4), (689, 4), (689, 4), (689, 4), (689, 4), (689, 4), (690, 5), (690, 5), (690, 5), (690, 5), (690, 5), (690, 5), (690, 5), (690, 5), (690, 5), (690, 5), (690, 5), (690, 5), (690, 5), (690, 5), (690, 5), (690, 5), (690, 5), (690, 5), (690, 5), (690, 5), (690, 5), (690, 5), (690, 5), (690, 5), (690, 5), (690, 5), (690, 5), (690, 5), (690, 5), (690, 5), (690, 5), (690, 5), (690, 5), (690, 5), (690, 5), (690, 5), (690, 5), (690, 5), (690, 5), (690, 5), (690, 5), (690, 5), (690, 5), (690, 5), (690, 5), (690, 5), (690, 5), (690, 5), (690, 5), (690, 5), (690, 5), (690, 5), (690, 5), (690, 5), (691, 4), (691, 4), (691, 4), (691, 4), (691, 4), (691, 4), (691, 4), (691, 4), (691, 4), (691, 4), (691, 4), (691, 4), (691, 4), (691, 4), (691, 4), (691, 4), (691, 4), (691, 4), (691, 4), (691, 4), (691, 4), (691, 4), (691, 4), (691, 4), (691, 4), (691, 4), (691, 4), (691, 4), (691, 4), (691, 4), (691, 4), (691, 4), (691, 4), (691, 4), (691, 4), (691, 4), (691, 4), (691, 4), (691, 4), (691, 4), (691, 4), (691, 4), (691, 4), (691, 4), (691, 4), (691, 4), (691, 4), (691, 4), (691, 4), (691, 4), (691, 4), (691, 4), (691, 4), (691, 4), (696, 5), (696, 5), (696, 5), (696, 5), (696, 5), (696, 5), (696, 5), (696, 5), (696, 5), (696, 5), (696, 5), (696, 5), (696, 5), (696, 5), (696, 5), (696, 5), (696, 5), (696, 5), (696, 5), (696, 5), (696, 5), (696, 5), (696, 5), (696, 5), (696, 5), (696, 5), (696, 5), (696, 5), (696, 5), (696, 5), (696, 5), (696, 5), (696, 5), (696, 5), (696, 5), (696, 5), (696, 5), (696, 5), (696, 5), (696, 5), (696, 5), (696, 5), (696, 5), (696, 5), (696, 5), (696, 5), (696, 5), (696, 5), (696, 5), (696, 5), (696, 5), (696, 5), (696, 5), (696, 5), (697, 4), (697, 4), (697, 4), (697, 4), (697, 4), (697, 4), (697, 4), (697, 4), (697, 4), (697, 4), (697, 4), (697, 4), (697, 4), (697, 4), (697, 4), (697, 4), (697, 4), (697, 4), (697, 4), (697, 4), (697, 4), (697, 4), (697, 4), (697, 4), (697, 4), (697, 4), (697, 4), (697, 4), (697, 4), (697, 4), (697, 4), (697, 4), (697, 4), (697, 4), (697, 4), (697, 4), (697, 4), (697, 4), (697, 4), (697, 4), (697, 4), (697, 4), (697, 4), (697, 4), (697, 4), (697, 4), (697, 4), (697, 4), (697, 4), (697, 4), (697, 4), (697, 4), (697, 4), (697, 4), (700, 4), (700, 4), (700, 4), (700, 4), (700, 4), (700, 4), (700, 4), (700, 4), (700, 4), (700, 4), (700, 4), (700, 4), (700, 4), (700, 4), (700, 4), (700, 4), (700, 4), (700, 4), (700, 4), (700, 4), (700, 4), (700, 4), (700, 4), (700, 4), (700, 4), (700, 4), (700, 4), (700, 4), (700, 4), (700, 4), (700, 4), (700, 4), (700, 4), (700, 4), (700, 4), (700, 4), (700, 4), (700, 4), (700, 4), (700, 4), (700, 4), (700, 4), (700, 4), (700, 4), (700, 4), (700, 4), (700, 4), (700, 4), (700, 4), (700, 4), (700, 4), (700, 4), (700, 4), (700, 4), (702, 4), (702, 4), (702, 4), (702, 4), (702, 4), (702, 4), (702, 4), (702, 4), (702, 4), (702, 4), (702, 4), (702, 4), (702, 4), (702, 4), (702, 4), (702, 4), (702, 4), (702, 4), (702, 4), (702, 4), (702, 4), (702, 4), (702, 4), (702, 4), (702, 4), (702, 4), (702, 4), (702, 4), (702, 4), (702, 4), (702, 4), (702, 4), (702, 4), (702, 4), (702, 4), (702, 4), (702, 4), (702, 4), (702, 4), (702, 4), (702, 4), (702, 4), (702, 4), (702, 4), (702, 4), (702, 4), (702, 4), (702, 4), (702, 4), (702, 4), (702, 4), (702, 4), (702, 4), (702, 4), (704, 5), (704, 5), (704, 5), (704, 5), (704, 5), (704, 5), (704, 5), (704, 5), (704, 5), (704, 5), (704, 5), (704, 5), (704, 5), (704, 5), (704, 5), (704, 5), (704, 5), (704, 5), (704, 5), (704, 5), (704, 5), (704, 5), (704, 5), (704, 5), (704, 5), (704, 5), (704, 5), (704, 5), (704, 5), (704, 5), (704, 5), (704, 5), (704, 5), (704, 5), (704, 5), (704, 5), (704, 5), (704, 5), (704, 5), (704, 5), (704, 5), (704, 5), (704, 5), (704, 5), (704, 5), (704, 5), (704, 5), (704, 5), (704, 5), (704, 5), (704, 5), (704, 5), (704, 5), (704, 5), (705, 4), (705, 4), (705, 4), (705, 4), (705, 4), (705, 4), (705, 4), (705, 4), (705, 4), (705, 4), (705, 4), (705, 4), (705, 4), (705, 4), (705, 4), (705, 4), (705, 4), (705, 4), (705, 4), (705, 4), (705, 4), (705, 4), (705, 4), (705, 4), (705, 4), (705, 4), (705, 4), (705, 4), (705, 4), (705, 4), (705, 4), (705, 4), (705, 4), (705, 4), (705, 4), (705, 4), (705, 4), (705, 4), (705, 4), (705, 4), (705, 4), (705, 4), (705, 4), (705, 4), (705, 4), (705, 4), (705, 4), (705, 4), (705, 4), (705, 4), (705, 4), (705, 4), (705, 4), (705, 4), (707, 5), (707, 5), (707, 5), (707, 5), (707, 5), (707, 5), (707, 5), (707, 5), (707, 5), (707, 5), (707, 5), (707, 5), (707, 5), (707, 5), (707, 5), (707, 5), (707, 5), (707, 5), (707, 5), (707, 5), (707, 5), (707, 5), (707, 5), (707, 5), (707, 5), (707, 5), (707, 5), (707, 5), (707, 5), (707, 5), (707, 5), (707, 5), (707, 5), (707, 5), (707, 5), (707, 5), (707, 5), (707, 5), (707, 5), (707, 5), (707, 5), (707, 5), (707, 5), (707, 5), (707, 5), (707, 5), (707, 5), (707, 5), (707, 5), (707, 5), (707, 5), (707, 5), (707, 5), (707, 5), (708, 4), (708, 4), (708, 4), (708, 4), (708, 4), (708, 4), (708, 4), (708, 4), (708, 4), (708, 4), (708, 4), (708, 4), (708, 4), (708, 4), (708, 4), (708, 4), (708, 4), (708, 4), (708, 4), (708, 4), (708, 4), (708, 4), (708, 4), (708, 4), (708, 4), (708, 4), (708, 4), (708, 4), (708, 4), (708, 4), (708, 4), (708, 4), (708, 4), (708, 4), (708, 4), (708, 4), (708, 4), (708, 4), (708, 4), (708, 4), (708, 4), (708, 4), (708, 4), (708, 4), (708, 4), (708, 4), (708, 4), (708, 4), (708, 4), (708, 4), (708, 4), (708, 4), (708, 4), (708, 4), (709, 4), (709, 4), (709, 4), (709, 4), (709, 4), (709, 4), (709, 4), (709, 4), (709, 4), (709, 4), (709, 4), (709, 4), (709, 4), (709, 4), (709, 4), (709, 4), (709, 4), (709, 4), (709, 4), (709, 4), (709, 4), (709, 4), (709, 4), (709, 4), (709, 4), (709, 4), (709, 4), (709, 4), (709, 4), (709, 4), (709, 4), (709, 4), (709, 4), (709, 4), (709, 4), (709, 4), (709, 4), (709, 4), (709, 4), (709, 4), (709, 4), (709, 4), (709, 4), (709, 4), (709, 4), (709, 4), (709, 4), (709, 4), (709, 4), (709, 4), (709, 4), (709, 4), (709, 4), (709, 4), (714, 5), (714, 5), (714, 5), (714, 5), (714, 5), (714, 5), (714, 5), (714, 5), (714, 5), (714, 5), (714, 5), (714, 5), (714, 5), (714, 5), (714, 5), (714, 5), (714, 5), (714, 5), (714, 5), (714, 5), (714, 5), (714, 5), (714, 5), (714, 5), (714, 5), (714, 5), (714, 5), (714, 5), (714, 5), (714, 5), (714, 5), (714, 5), (714, 5), (714, 5), (714, 5), (714, 5), (714, 5), (714, 5), (714, 5), (714, 5), (714, 5), (714, 5), (714, 5), (714, 5), (714, 5), (714, 5), (714, 5), (714, 5), (714, 5), (714, 5), (714, 5), (714, 5), (714, 5), (715, 5), (715, 5), (715, 5), (715, 5), (715, 5), (715, 5), (715, 5), (715, 5), (715, 5), (715, 5), (715, 5), (715, 5), (715, 5), (715, 5), (715, 5), (715, 5), (715, 5), (715, 5), (715, 5), (715, 5), (715, 5), (715, 5), (715, 5), (715, 5), (715, 5), (715, 5), (715, 5), (715, 5), (715, 5), (715, 5), (715, 5), (715, 5), (715, 5), (715, 5), (715, 5), (715, 5), (715, 5), (715, 5), (715, 5), (715, 5), (715, 5), (715, 5), (715, 5), (715, 5), (715, 5), (715, 5), (715, 5), (715, 5), (715, 5), (715, 5), (715, 5), (715, 5), (715, 5), (715, 5), (720, 5), (720, 5), (720, 5), (720, 5), (720, 5), (720, 5), (720, 5), (720, 5), (720, 5), (720, 5), (720, 5), (720, 5), (720, 5), (720, 5), (720, 5), (720, 5), (720, 5), (720, 5), (720, 5), (720, 5), (720, 5), (720, 5), (720, 5), (720, 5), (720, 5), (720, 5), (720, 5), (720, 5), (720, 5), (720, 5), (720, 5), (720, 5), (720, 5), (720, 5), (720, 5), (720, 5), (720, 5), (720, 5), (720, 5), (720, 5), (720, 5), (720, 5), (720, 5), (720, 5), (720, 5), (720, 5), (720, 5), (720, 5), (720, 5), (720, 5), (720, 5), (720, 5), (720, 5), (720, 5), (725, 4), (725, 4), (725, 4), (725, 4), (725, 4), (725, 4), (725, 4), (725, 4), (725, 4), (725, 4), (725, 4), (725, 4), (725, 4), (725, 4), (725, 4), (725, 4), (725, 4), (725, 4), (725, 4), (725, 4), (725, 4), (725, 4), (725, 4), (725, 4), (725, 4), (725, 4), (725, 4), (725, 4), (725, 4), (725, 4), (725, 4), (725, 4), (725, 4), (725, 4), (725, 4), (725, 4), (725, 4), (725, 4), (725, 4), (725, 4), (725, 4), (725, 4), (725, 4), (725, 4), (725, 4), (725, 4), (725, 4), (725, 4), (725, 4), (725, 4), (725, 4), (725, 4), (725, 4), (725, 4), (729, 4), (729, 4), (729, 4), (729, 4), (729, 4), (729, 4), (729, 4), (729, 4), (729, 4), (729, 4), (729, 4), (729, 4), (729, 4), (729, 4), (729, 4), (729, 4), (729, 4), (729, 4), (729, 4), (729, 4), (729, 4), (729, 4), (729, 4), (729, 4), (729, 4), (729, 4), (729, 4), (729, 4), (729, 4), (729, 4), (729, 4), (729, 4), (729, 4), (729, 4), (729, 4), (729, 4), (729, 4), (729, 4), (729, 4), (729, 4), (729, 4), (729, 4), (729, 4), (729, 4), (729, 4), (729, 4), (729, 4), (729, 4), (729, 4), (729, 4), (729, 4), (729, 4), (729, 4), (729, 4), (734, 4), (734, 4), (734, 4), (734, 4), (734, 4), (734, 4), (734, 4), (734, 4), (734, 4), (734, 4), (734, 4), (734, 4), (734, 4), (734, 4), (734, 4), (734, 4), (734, 4), (734, 4), (734, 4), (734, 4), (734, 4), (734, 4), (734, 4), (734, 4), (734, 4), (734, 4), (734, 4), (734, 4), (734, 4), (734, 4), (734, 4), (734, 4), (734, 4), (734, 4), (734, 4), (734, 4), (734, 4), (734, 4), (734, 4), (734, 4), (734, 4), (734, 4), (734, 4), (734, 4), (734, 4), (734, 4), (734, 4), (734, 4), (734, 4), (734, 4), (734, 4), (734, 4), (734, 4), (734, 4), (737, 5), (737, 5), (737, 5), (737, 5), (737, 5), (737, 5), (737, 5), (737, 5), (737, 5), (737, 5), (737, 5), (737, 5), (737, 5), (737, 5), (737, 5), (737, 5), (737, 5), (737, 5), (737, 5), (737, 5), (737, 5), (737, 5), (737, 5), (737, 5), (737, 5), (737, 5), (737, 5), (737, 5), (737, 5), (737, 5), (737, 5), (737, 5), (737, 5), (737, 5), (737, 5), (737, 5), (737, 5), (737, 5), (737, 5), (737, 5), (737, 5), (737, 5), (737, 5), (737, 5), (737, 5), (737, 5), (737, 5), (737, 5), (737, 5), (737, 5), (737, 5), (737, 5), (737, 5), (737, 5), (741, 4), (741, 4), (741, 4), (741, 4), (741, 4), (741, 4), (741, 4), (741, 4), (741, 4), (741, 4), (741, 4), (741, 4), (741, 4), (741, 4), (741, 4), (741, 4), (741, 4), (741, 4), (741, 4), (741, 4), (741, 4), (741, 4), (741, 4), (741, 4), (741, 4), (741, 4), (741, 4), (741, 4), (741, 4), (741, 4), (741, 4), (741, 4), (741, 4), (741, 4), (741, 4), (741, 4), (741, 4), (741, 4), (741, 4), (741, 4), (741, 4), (741, 4), (741, 4), (741, 4), (741, 4), (741, 4), (741, 4), (741, 4), (741, 4), (741, 4), (741, 4), (741, 4), (741, 4), (741, 4), (743, 4), (743, 4), (743, 4), (743, 4), (743, 4), (743, 4), (743, 4), (743, 4), (743, 4), (743, 4), (743, 4), (743, 4), (743, 4), (743, 4), (743, 4), (743, 4), (743, 4), (743, 4), (743, 4), (743, 4), (743, 4), (743, 4), (743, 4), (743, 4), (743, 4), (743, 4), (743, 4), (743, 4), (743, 4), (743, 4), (743, 4), (743, 4), (743, 4), (743, 4), (743, 4), (743, 4), (743, 4), (743, 4), (743, 4), (743, 4), (743, 4), (743, 4), (743, 4), (743, 4), (743, 4), (743, 4), (743, 4), (743, 4), (743, 4), (743, 4), (743, 4), (743, 4), (743, 4), (743, 4), (745, 4), (745, 4), (745, 4), (745, 4), (745, 4), (745, 4), (745, 4), (745, 4), (745, 4), (745, 4), (745, 4), (745, 4), (745, 4), (745, 4), (745, 4), (745, 4), (745, 4), (745, 4), (745, 4), (745, 4), (745, 4), (745, 4), (745, 4), (745, 4), (745, 4), (745, 4), (745, 4), (745, 4), (745, 4), (745, 4), (745, 4), (745, 4), (745, 4), (745, 4), (745, 4), (745, 4), (745, 4), (745, 4), (745, 4), (745, 4), (745, 4), (745, 4), (745, 4), (745, 4), (745, 4), (745, 4), (745, 4), (745, 4), (745, 4), (745, 4), (745, 4), (745, 4), (745, 4), (745, 4), (746, 5), (746, 5), (746, 5), (746, 5), (746, 5), (746, 5), (746, 5), (746, 5), (746, 5), (746, 5), (746, 5), (746, 5), (746, 5), (746, 5), (746, 5), (746, 5), (746, 5), (746, 5), (746, 5), (746, 5), (746, 5), (746, 5), (746, 5), (746, 5), (746, 5), (746, 5), (746, 5), (746, 5), (746, 5), (746, 5), (746, 5), (746, 5), (746, 5), (746, 5), (746, 5), (746, 5), (746, 5), (746, 5), (746, 5), (746, 5), (746, 5), (746, 5), (746, 5), (746, 5), (746, 5), (746, 5), (746, 5), (746, 5), (746, 5), (746, 5), (746, 5), (746, 5), (746, 5), (746, 5), (747, 4), (747, 4), (747, 4), (747, 4), (747, 4), (747, 4), (747, 4), (747, 4), (747, 4), (747, 4), (747, 4), (747, 4), (747, 4), (747, 4), (747, 4), (747, 4), (747, 4), (747, 4), (747, 4), (747, 4), (747, 4), (747, 4), (747, 4), (747, 4), (747, 4), (747, 4), (747, 4), (747, 4), (747, 4), (747, 4), (747, 4), (747, 4), (747, 4), (747, 4), (747, 4), (747, 4), (747, 4), (747, 4), (747, 4), (747, 4), (747, 4), (747, 4), (747, 4), (747, 4), (747, 4), (747, 4), (747, 4), (747, 4), (747, 4), (747, 4), (747, 4), (747, 4), (747, 4), (747, 4), (748, 4), (748, 4), (748, 4), (748, 4), (748, 4), (748, 4), (748, 4), (748, 4), (748, 4), (748, 4), (748, 4), (748, 4), (748, 4), (748, 4), (748, 4), (748, 4), (748, 4), (748, 4), (748, 4), (748, 4), (748, 4), (748, 4), (748, 4), (748, 4), (748, 4), (748, 4), (748, 4), (748, 4), (748, 4), (748, 4), (748, 4), (748, 4), (748, 4), (748, 4), (748, 4), (748, 4), (748, 4), (748, 4), (748, 4), (748, 4), (748, 4), (748, 4), (748, 4), (748, 4), (748, 4), (748, 4), (748, 4), (748, 4), (748, 4), (748, 4), (748, 4), (748, 4), (748, 4), (748, 4), (755, 4), (755, 4), (755, 4), (755, 4), (755, 4), (755, 4), (755, 4), (755, 4), (755, 4), (755, 4), (755, 4), (755, 4), (755, 4), (755, 4), (755, 4), (755, 4), (755, 4), (755, 4), (755, 4), (755, 4), (755, 4), (755, 4), (755, 4), (755, 4), (755, 4), (755, 4), (755, 4), (755, 4), (755, 4), (755, 4), (755, 4), (755, 4), (755, 4), (755, 4), (755, 4), (755, 4), (755, 4), (755, 4), (755, 4), (755, 4), (755, 4), (755, 4), (755, 4), (755, 4), (755, 4), (755, 4), (755, 4), (755, 4), (755, 4), (755, 4), (755, 4), (755, 4), (755, 4), (755, 4), (756, 4), (756, 4), (756, 4), (756, 4), (756, 4), (756, 4), (756, 4), (756, 4), (756, 4), (756, 4), (756, 4), (756, 4), (756, 4), (756, 4), (756, 4), (756, 4), (756, 4), (756, 4), (756, 4), (756, 4), (756, 4), (756, 4), (756, 4), (756, 4), (756, 4), (756, 4), (756, 4), (756, 4), (756, 4), (756, 4), (756, 4), (756, 4), (756, 4), (756, 4), (756, 4), (756, 4), (756, 4), (756, 4), (756, 4), (756, 4), (756, 4), (756, 4), (756, 4), (756, 4), (756, 4), (756, 4), (756, 4), (756, 4), (756, 4), (756, 4), (756, 4), (756, 4), (756, 4), (756, 4), (758, 5), (758, 5), (758, 5), (758, 5), (758, 5), (758, 5), (758, 5), (758, 5), (758, 5), (758, 5), (758, 5), (758, 5), (758, 5), (758, 5), (758, 5), (758, 5), (758, 5), (758, 5), (758, 5), (758, 5), (758, 5), (758, 5), (758, 5), (758, 5), (758, 5), (758, 5), (758, 5), (758, 5), (758, 5), (758, 5), (758, 5), (758, 5), (758, 5), (758, 5), (758, 5), (758, 5), (758, 5), (758, 5), (758, 5), (758, 5), (758, 5), (758, 5), (758, 5), (758, 5), (758, 5), (758, 5), (758, 5), (758, 5), (758, 5), (758, 5), (758, 5), (758, 5), (758, 5), (758, 5), (762, 4), (762, 4), (762, 4), (762, 4), (762, 4), (762, 4), (762, 4), (762, 4), (762, 4), (762, 4), (762, 4), (762, 4), (762, 4), (762, 4), (762, 4), (762, 4), (762, 4), (762, 4), (762, 4), (762, 4), (762, 4), (762, 4), (762, 4), (762, 4), (762, 4), (762, 4), (762, 4), (762, 4), (762, 4), (762, 4), (762, 4), (762, 4), (762, 4), (762, 4), (762, 4), (762, 4), (762, 4), (762, 4), (762, 4), (762, 4), (762, 4), (762, 4), (762, 4), (762, 4), (762, 4), (762, 4), (762, 4), (762, 4), (762, 4), (762, 4), (762, 4), (762, 4), (762, 4), (762, 4), (763, 4), (763, 4), (763, 4), (763, 4), (763, 4), (763, 4), (763, 4), (763, 4), (763, 4), (763, 4), (763, 4), (763, 4), (763, 4), (763, 4), (763, 4), (763, 4), (763, 4), (763, 4), (763, 4), (763, 4), (763, 4), (763, 4), (763, 4), (763, 4), (763, 4), (763, 4), (763, 4), (763, 4), (763, 4), (763, 4), (763, 4), (763, 4), (763, 4), (763, 4), (763, 4), (763, 4), (763, 4), (763, 4), (763, 4), (763, 4), (763, 4), (763, 4), (763, 4), (763, 4), (763, 4), (763, 4), (763, 4), (763, 4), (763, 4), (763, 4), (763, 4), (763, 4), (763, 4), (763, 4), (766, 5), (766, 5), (766, 5), (766, 5), (766, 5), (766, 5), (766, 5), (766, 5), (766, 5), (766, 5), (766, 5), (766, 5), (766, 5), (766, 5), (766, 5), (766, 5), (766, 5), (766, 5), (766, 5), (766, 5), (766, 5), (766, 5), (766, 5), (766, 5), (766, 5), (766, 5), (766, 5), (766, 5), (766, 5), (766, 5), (766, 5), (766, 5), (766, 5), (766, 5), (766, 5), (766, 5), (766, 5), (766, 5), (766, 5), (766, 5), (766, 5), (766, 5), (766, 5), (766, 5), (766, 5), (766, 5), (766, 5), (766, 5), (766, 5), (766, 5), (766, 5), (766, 5), (766, 5), (766, 5), (767, 5), (767, 5), (767, 5), (767, 5), (767, 5), (767, 5), (767, 5), (767, 5), (767, 5), (767, 5), (767, 5), (767, 5), (767, 5), (767, 5), (767, 5), (767, 5), (767, 5), (767, 5), (767, 5), (767, 5), (767, 5), (767, 5), (767, 5), (767, 5), (767, 5), (767, 5), (767, 5), (767, 5), (767, 5), (767, 5), (767, 5), (767, 5), (767, 5), (767, 5), (767, 5), (767, 5), (767, 5), (767, 5), (767, 5), (767, 5), (767, 5), (767, 5), (767, 5), (767, 5), (767, 5), (767, 5), (767, 5), (767, 5), (767, 5), (767, 5), (767, 5), (767, 5), (767, 5), (767, 5), (768, 4), (768, 4), (768, 4), (768, 4), (768, 4), (768, 4), (768, 4), (768, 4), (768, 4), (768, 4), (768, 4), (768, 4), (768, 4), (768, 4), (768, 4), (768, 4), (768, 4), (768, 4), (768, 4), (768, 4), (768, 4), (768, 4), (768, 4), (768, 4), (768, 4), (768, 4), (768, 4), (768, 4), (768, 4), (768, 4), (768, 4), (768, 4), (768, 4), (768, 4), (768, 4), (768, 4), (768, 4), (768, 4), (768, 4), (768, 4), (768, 4), (768, 4), (768, 4), (768, 4), (768, 4), (768, 4), (768, 4), (768, 4), (768, 4), (768, 4), (768, 4), (768, 4), (768, 4), (768, 4), (769, 5), (769, 5), (769, 5), (769, 5), (769, 5), (769, 5), (769, 5), (769, 5), (769, 5), (769, 5), (769, 5), (769, 5), (769, 5), (769, 5), (769, 5), (769, 5), (769, 5), (769, 5), (769, 5), (769, 5), (769, 5), (769, 5), (769, 5), (769, 5), (769, 5), (769, 5), (769, 5), (769, 5), (769, 5), (769, 5), (769, 5), (769, 5), (769, 5), (769, 5), (769, 5), (769, 5), (769, 5), (769, 5), (769, 5), (769, 5), (769, 5), (769, 5), (769, 5), (769, 5), (769, 5), (769, 5), (769, 5), (769, 5), (769, 5), (769, 5), (769, 5), (769, 5), (769, 5), (769, 5), (770, 5), (770, 5), (770, 5), (770, 5), (770, 5), (770, 5), (770, 5), (770, 5), (770, 5), (770, 5), (770, 5), (770, 5), (770, 5), (770, 5), (770, 5), (770, 5), (770, 5), (770, 5), (770, 5), (770, 5), (770, 5), (770, 5), (770, 5), (770, 5), (770, 5), (770, 5), (770, 5), (770, 5), (770, 5), (770, 5), (770, 5), (770, 5), (770, 5), (770, 5), (770, 5), (770, 5), (770, 5), (770, 5), (770, 5), (770, 5), (770, 5), (770, 5), (770, 5), (770, 5), (770, 5), (770, 5), (770, 5), (770, 5), (770, 5), (770, 5), (770, 5), (770, 5), (770, 5), (770, 5), (776, 4), (776, 4), (776, 4), (776, 4), (776, 4), (776, 4), (776, 4), (776, 4), (776, 4), (776, 4), (776, 4), (776, 4), (776, 4), (776, 4), (776, 4), (776, 4), (776, 4), (776, 4), (776, 4), (776, 4), (776, 4), (776, 4), (776, 4), (776, 4), (776, 4), (776, 4), (776, 4), (776, 4), (776, 4), (776, 4), (776, 4), (776, 4), (776, 4), (776, 4), (776, 4), (776, 4), (776, 4), (776, 4), (776, 4), (776, 4), (776, 4), (776, 4), (776, 4), (776, 4), (776, 4), (776, 4), (776, 4), (776, 4), (776, 4), (776, 4), (776, 4), (776, 4), (776, 4), (776, 4), (778, 4), (778, 4), (778, 4), (778, 4), (778, 4), (778, 4), (778, 4), (778, 4), (778, 4), (778, 4), (778, 4), (778, 4), (778, 4), (778, 4), (778, 4), (778, 4), (778, 4), (778, 4), (778, 4), (778, 4), (778, 4), (778, 4), (778, 4), (778, 4), (778, 4), (778, 4), (778, 4), (778, 4), (778, 4), (778, 4), (778, 4), (778, 4), (778, 4), (778, 4), (778, 4), (778, 4), (778, 4), (778, 4), (778, 4), (778, 4), (778, 4), (778, 4), (778, 4), (778, 4), (778, 4), (778, 4), (778, 4), (778, 4), (778, 4), (778, 4), (778, 4), (778, 4), (778, 4), (778, 4), (784, 4), (784, 4), (784, 4), (784, 4), (784, 4), (784, 4), (784, 4), (784, 4), (784, 4), (784, 4), (784, 4), (784, 4), (784, 4), (784, 4), (784, 4), (784, 4), (784, 4), (784, 4), (784, 4), (784, 4), (784, 4), (784, 4), (784, 4), (784, 4), (784, 4), (784, 4), (784, 4), (784, 4), (784, 4), (784, 4), (784, 4), (784, 4), (784, 4), (784, 4), (784, 4), (784, 4), (784, 4), (784, 4), (784, 4), (784, 4), (784, 4), (784, 4), (784, 4), (784, 4), (784, 4), (784, 4), (784, 4), (784, 4), (784, 4), (784, 4), (784, 4), (784, 4), (784, 4), (784, 4), (785, 4), (785, 4), (785, 4), (785, 4), (785, 4), (785, 4), (785, 4), (785, 4), (785, 4), (785, 4), (785, 4), (785, 4), (785, 4), (785, 4), (785, 4), (785, 4), (785, 4), (785, 4), (785, 4), (785, 4), (785, 4), (785, 4), (785, 4), (785, 4), (785, 4), (785, 4), (785, 4), (785, 4), (785, 4), (785, 4), (785, 4), (785, 4), (785, 4), (785, 4), (785, 4), (785, 4), (785, 4), (785, 4), (785, 4), (785, 4), (785, 4), (785, 4), (785, 4), (785, 4), (785, 4), (785, 4), (785, 4), (785, 4), (785, 4), (785, 4), (785, 4), (785, 4), (785, 4), (785, 4), (791, 4), (791, 4), (791, 4), (791, 4), (791, 4), (791, 4), (791, 4), (791, 4), (791, 4), (791, 4), (791, 4), (791, 4), (791, 4), (791, 4), (791, 4), (791, 4), (791, 4), (791, 4), (791, 4), (791, 4), (791, 4), (791, 4), (791, 4), (791, 4), (791, 4), (791, 4), (791, 4), (791, 4), (791, 4), (791, 4), (791, 4), (791, 4), (791, 4), (791, 4), (791, 4), (791, 4), (791, 4), (791, 4), (791, 4), (791, 4), (791, 4), (791, 4), (791, 4), (791, 4), (791, 4), (791, 4), (791, 4), (791, 4), (791, 4), (791, 4), (791, 4), (791, 4), (791, 4), (791, 4), (792, 4), (792, 4), (792, 4), (792, 4), (792, 4), (792, 4), (792, 4), (792, 4), (792, 4), (792, 4), (792, 4), (792, 4), (792, 4), (792, 4), (792, 4), (792, 4), (792, 4), (792, 4), (792, 4), (792, 4), (792, 4), (792, 4), (792, 4), (792, 4), (792, 4), (792, 4), (792, 4), (792, 4), (792, 4), (792, 4), (792, 4), (792, 4), (792, 4), (792, 4), (792, 4), (792, 4), (792, 4), (792, 4), (792, 4), (792, 4), (792, 4), (792, 4), (792, 4), (792, 4), (792, 4), (792, 4), (792, 4), (792, 4), (792, 4), (792, 4), (792, 4), (792, 4), (792, 4), (792, 4), (793, 4), (793, 4), (793, 4), (793, 4), (793, 4), (793, 4), (793, 4), (793, 4), (793, 4), (793, 4), (793, 4), (793, 4), (793, 4), (793, 4), (793, 4), (793, 4), (793, 4), (793, 4), (793, 4), (793, 4), (793, 4), (793, 4), (793, 4), (793, 4), (793, 4), (793, 4), (793, 4), (793, 4), (793, 4), (793, 4), (793, 4), (793, 4), (793, 4), (793, 4), (793, 4), (793, 4), (793, 4), (793, 4), (793, 4), (793, 4), (793, 4), (793, 4), (793, 4), (793, 4), (793, 4), (793, 4), (793, 4), (793, 4), (793, 4), (793, 4), (793, 4), (793, 4), (793, 4), (793, 4), (794, 4), (794, 4), (794, 4), (794, 4), (794, 4), (794, 4), (794, 4), (794, 4), (794, 4), (794, 4), (794, 4), (794, 4), (794, 4), (794, 4), (794, 4), (794, 4), (794, 4), (794, 4), (794, 4), (794, 4), (794, 4), (794, 4), (794, 4), (794, 4), (794, 4), (794, 4), (794, 4), (794, 4), (794, 4), (794, 4), (794, 4), (794, 4), (794, 4), (794, 4), (794, 4), (794, 4), (794, 4), (794, 4), (794, 4), (794, 4), (794, 4), (794, 4), (794, 4), (794, 4), (794, 4), (794, 4), (794, 4), (794, 4), (794, 4), (794, 4), (794, 4), (794, 4), (794, 4), (794, 4), (797, 4), (797, 4), (797, 4), (797, 4), (797, 4), (797, 4), (797, 4), (797, 4), (797, 4), (797, 4), (797, 4), (797, 4), (797, 4), (797, 4), (797, 4), (797, 4), (797, 4), (797, 4), (797, 4), (797, 4), (797, 4), (797, 4), (797, 4), (797, 4), (797, 4), (797, 4), (797, 4), (797, 4), (797, 4), (797, 4), (797, 4), (797, 4), (797, 4), (797, 4), (797, 4), (797, 4), (797, 4), (797, 4), (797, 4), (797, 4), (797, 4), (797, 4), (797, 4), (797, 4), (797, 4), (797, 4), (797, 4), (797, 4), (797, 4), (797, 4), (797, 4), (797, 4), (797, 4), (797, 4), (799, 4), (799, 4), (799, 4), (799, 4), (799, 4), (799, 4), (799, 4), (799, 4), (799, 4), (799, 4), (799, 4), (799, 4), (799, 4), (799, 4), (799, 4), (799, 4), (799, 4), (799, 4), (799, 4), (799, 4), (799, 4), (799, 4), (799, 4), (799, 4), (799, 4), (799, 4), (799, 4), (799, 4), (799, 4), (799, 4), (799, 4), (799, 4), (799, 4), (799, 4), (799, 4), (799, 4), (799, 4), (799, 4), (799, 4), (799, 4), (799, 4), (799, 4), (799, 4), (799, 4), (799, 4), (799, 4), (799, 4), (799, 4), (799, 4), (799, 4), (799, 4), (799, 4), (799, 4), (799, 4), (803, 5), (803, 5), (803, 5), (803, 5), (803, 5), (803, 5), (803, 5), (803, 5), (803, 5), (803, 5), (803, 5), (803, 5), (803, 5), (803, 5), (803, 5), (803, 5), (803, 5), (803, 5), (803, 5), (803, 5), (803, 5), (803, 5), (803, 5), (803, 5), (803, 5), (803, 5), (803, 5), (803, 5), (803, 5), (803, 5), (803, 5), (803, 5), (803, 5), (803, 5), (803, 5), (803, 5), (803, 5), (803, 5), (803, 5), (803, 5), (803, 5), (803, 5), (803, 5), (803, 5), (803, 5), (803, 5), (803, 5), (803, 5), (803, 5), (803, 5), (803, 5), (803, 5), (803, 5), (803, 5), (804, 4), (804, 4), (804, 4), (804, 4), (804, 4), (804, 4), (804, 4), (804, 4), (804, 4), (804, 4), (804, 4), (804, 4), (804, 4), (804, 4), (804, 4), (804, 4), (804, 4), (804, 4), (804, 4), (804, 4), (804, 4), (804, 4), (804, 4), (804, 4), (804, 4), (804, 4), (804, 4), (804, 4), (804, 4), (804, 4), (804, 4), (804, 4), (804, 4), (804, 4), (804, 4), (804, 4), (804, 4), (804, 4), (804, 4), (804, 4), (804, 4), (804, 4), (804, 4), (804, 4), (804, 4), (804, 4), (804, 4), (804, 4), (804, 4), (804, 4), (804, 4), (804, 4), (804, 4), (804, 4), (805, 4), (805, 4), (805, 4), (805, 4), (805, 4), (805, 4), (805, 4), (805, 4), (805, 4), (805, 4), (805, 4), (805, 4), (805, 4), (805, 4), (805, 4), (805, 4), (805, 4), (805, 4), (805, 4), (805, 4), (805, 4), (805, 4), (805, 4), (805, 4), (805, 4), (805, 4), (805, 4), (805, 4), (805, 4), (805, 4), (805, 4), (805, 4), (805, 4), (805, 4), (805, 4), (805, 4), (805, 4), (805, 4), (805, 4), (805, 4), (805, 4), (805, 4), (805, 4), (805, 4), (805, 4), (805, 4), (805, 4), (805, 4), (805, 4), (805, 4), (805, 4), (805, 4), (805, 4), (806, 4), (806, 4), (806, 4), (806, 4), (806, 4), (806, 4), (806, 4), (806, 4), (806, 4), (806, 4), (806, 4), (806, 4), (806, 4), (806, 4), (806, 4), (806, 4), (806, 4), (806, 4), (806, 4), (806, 4), (806, 4), (806, 4), (806, 4), (806, 4), (806, 4), (806, 4), (806, 4), (806, 4), (806, 4), (806, 4), (806, 4), (806, 4), (806, 4), (806, 4), (806, 4), (806, 4), (806, 4), (806, 4), (806, 4), (806, 4), (806, 4), (806, 4), (806, 4), (806, 4), (806, 4), (806, 4), (806, 4), (806, 4), (806, 4), (806, 4), (806, 4), (806, 4), (806, 4), (806, 4), (814, 5), (814, 5), (814, 5), (814, 5), (814, 5), (814, 5), (814, 5), (814, 5), (814, 5), (814, 5), (814, 5), (814, 5), (814, 5), (814, 5), (814, 5), (814, 5), (814, 5), (814, 5), (814, 5), (814, 5), (814, 5), (814, 5), (814, 5), (814, 5), (814, 5), (814, 5), (814, 5), (814, 5), (814, 5), (814, 5), (814, 5), (814, 5), (814, 5), (814, 5), (814, 5), (814, 5), (814, 5), (814, 5), (814, 5), (814, 5), (814, 5), (814, 5), (814, 5), (814, 5), (814, 5), (814, 5), (814, 5), (814, 5), (814, 5), (814, 5), (814, 5), (814, 5), (814, 5), (814, 5), (816, 4), (816, 4), (816, 4), (816, 4), (816, 4), (816, 4), (816, 4), (816, 4), (816, 4), (816, 4), (816, 4), (816, 4), (816, 4), (816, 4), (816, 4), (816, 4), (816, 4), (816, 4), (816, 4), (816, 4), (816, 4), (816, 4), (816, 4), (816, 4), (816, 4), (816, 4), (816, 4), (816, 4), (816, 4), (816, 4), (816, 4), (816, 4), (816, 4), (816, 4), (816, 4), (816, 4), (816, 4), (816, 4), (816, 4), (816, 4), (816, 4), (816, 4), (816, 4), (816, 4), (816, 4), (816, 4), (816, 4), (816, 4), (816, 4), (816, 4), (816, 4), (816, 4), (816, 4), (816, 4), (820, 5), (820, 5), (820, 5), (820, 5), (820, 5), (820, 5), (820, 5), (820, 5), (820, 5), (820, 5), (820, 5), (820, 5), (820, 5), (820, 5), (820, 5), (820, 5), (820, 5), (820, 5), (820, 5), (820, 5), (820, 5), (820, 5), (820, 5), (820, 5), (820, 5), (820, 5), (820, 5), (820, 5), (820, 5), (820, 5), (820, 5), (820, 5), (820, 5), (820, 5), (820, 5), (820, 5), (820, 5), (820, 5), (820, 5), (820, 5), (820, 5), (820, 5), (820, 5), (820, 5), (820, 5), (820, 5), (820, 5), (820, 5), (820, 5), (820, 5), (820, 5), (820, 5), (820, 5), (820, 5), (821, 4), (821, 4), (821, 4), (821, 4), (821, 4), (821, 4), (821, 4), (821, 4), (821, 4), (821, 4), (821, 4), (821, 4), (821, 4), (821, 4), (821, 4), (821, 4), (821, 4), (821, 4), (821, 4), (821, 4), (821, 4), (821, 4), (821, 4), (821, 4), (821, 4), (821, 4), (821, 4), (821, 4), (821, 4), (821, 4), (821, 4), (821, 4), (821, 4), (821, 4), (821, 4), (821, 4), (821, 4), (821, 4), (821, 4), (821, 4), (821, 4), (821, 4), (821, 4), (821, 4), (821, 4), (821, 4), (821, 4), (821, 4), (821, 4), (821, 4), (821, 4), (821, 4), (821, 4), (821, 4), (822, 4), (822, 4), (822, 4), (822, 4), (822, 4), (822, 4), (822, 4), (822, 4), (822, 4), (822, 4), (822, 4), (822, 4), (822, 4), (822, 4), (822, 4), (822, 4), (822, 4), (822, 4), (822, 4), (822, 4), (822, 4), (822, 4), (822, 4), (822, 4), (822, 4), (822, 4), (822, 4), (822, 4), (822, 4), (822, 4), (822, 4), (822, 4), (822, 4), (822, 4), (822, 4), (822, 4), (822, 4), (822, 4), (822, 4), (822, 4), (822, 4), (822, 4), (822, 4), (822, 4), (822, 4), (822, 4), (822, 4), (822, 4), (822, 4), (822, 4), (822, 4), (822, 4), (822, 4), (822, 4), (825, 4), (825, 4), (825, 4), (825, 4), (825, 4), (825, 4), (825, 4), (825, 4), (825, 4), (825, 4), (825, 4), (825, 4), (825, 4), (825, 4), (825, 4), (825, 4), (825, 4), (825, 4), (825, 4), (825, 4), (825, 4), (825, 4), (825, 4), (825, 4), (825, 4), (825, 4), (825, 4), (825, 4), (825, 4), (825, 4), (825, 4), (825, 4), (825, 4), (825, 4), (825, 4), (825, 4), (825, 4), (825, 4), (825, 4), (825, 4), (825, 4), (825, 4), (825, 4), (825, 4), (825, 4), (825, 4), (825, 4), (825, 4), (825, 4), (825, 4), (825, 4), (825, 4), (825, 4), (825, 4), (828, 4), (828, 4), (828, 4), (828, 4), (828, 4), (828, 4), (828, 4), (828, 4), (828, 4), (828, 4), (828, 4), (828, 4), (828, 4), (828, 4), (828, 4), (828, 4), (828, 4), (828, 4), (828, 4), (828, 4), (828, 4), (828, 4), (828, 4), (828, 4), (828, 4), (828, 4), (828, 4), (828, 4), (828, 4), (828, 4), (828, 4), (828, 4), (828, 4), (828, 4), (828, 4), (828, 4), (828, 4), (828, 4), (828, 4), (828, 4), (828, 4), (828, 4), (828, 4), (828, 4), (828, 4), (828, 4), (828, 4), (828, 4), (828, 4), (828, 4), (828, 4), (828, 4), (828, 4), (828, 4), (829, 4), (829, 4), (829, 4), (829, 4), (829, 4), (829, 4), (829, 4), (829, 4), (829, 4), (829, 4), (829, 4), (829, 4), (829, 4), (829, 4), (829, 4), (829, 4), (829, 4), (829, 4), (829, 4), (829, 4), (829, 4), (829, 4), (829, 4), (829, 4), (829, 4), (829, 4), (829, 4), (829, 4), (829, 4), (829, 4), (829, 4), (829, 4), (829, 4), (829, 4), (829, 4), (829, 4), (829, 4), (829, 4), (829, 4), (829, 4), (829, 4), (829, 4), (829, 4), (829, 4), (829, 4), (829, 4), (829, 4), (829, 4), (829, 4), (829, 4), (829, 4), (829, 4), (829, 4), (829, 4), (830, 4), (830, 4), (830, 4), (830, 4), (830, 4), (830, 4), (830, 4), (830, 4), (830, 4), (830, 4), (830, 4), (830, 4), (830, 4), (830, 4), (830, 4), (830, 4), (830, 4), (830, 4), (830, 4), (830, 4), (830, 4), (830, 4), (830, 4), (830, 4), (830, 4), (830, 4), (830, 4), (830, 4), (830, 4), (830, 4), (830, 4), (830, 4), (830, 4), (830, 4), (830, 4), (830, 4), (830, 4), (830, 4), (830, 4), (830, 4), (830, 4), (830, 4), (830, 4), (830, 4), (830, 4), (830, 4), (830, 4), (830, 4), (830, 4), (830, 4), (830, 4), (830, 4), (830, 4), (830, 4), (837, 5), (837, 5), (837, 5), (837, 5), (837, 5), (837, 5), (837, 5), (837, 5), (837, 5), (837, 5), (837, 5), (837, 5), (837, 5), (837, 5), (837, 5), (837, 5), (837, 5), (837, 5), (837, 5), (837, 5), (837, 5), (837, 5), (837, 5), (837, 5), (837, 5), (837, 5), (837, 5), (837, 5), (837, 5), (837, 5), (837, 5), (837, 5), (837, 5), (837, 5), (837, 5), (837, 5), (837, 5), (837, 5), (837, 5), (837, 5), (837, 5), (837, 5), (837, 5), (837, 5), (837, 5), (837, 5), (837, 5), (837, 5), (837, 5), (837, 5), (837, 5), (837, 5), (837, 5), (838, 4), (838, 4), (838, 4), (838, 4), (838, 4), (838, 4), (838, 4), (838, 4), (838, 4), (838, 4), (838, 4), (838, 4), (838, 4), (838, 4), (838, 4), (838, 4), (838, 4), (838, 4), (838, 4), (838, 4), (838, 4), (838, 4), (838, 4), (838, 4), (838, 4), (838, 4), (838, 4), (838, 4), (838, 4), (838, 4), (838, 4), (838, 4), (838, 4), (838, 4), (838, 4), (838, 4), (838, 4), (838, 4), (838, 4), (838, 4), (838, 4), (838, 4), (838, 4), (838, 4), (838, 4), (838, 4), (838, 4), (838, 4), (838, 4), (838, 4), (838, 4), (838, 4), (838, 4), (838, 4), (851, 4), (851, 4), (851, 4), (851, 4), (851, 4), (851, 4), (851, 4), (851, 4), (851, 4), (851, 4), (851, 4), (851, 4), (851, 4), (851, 4), (851, 4), (851, 4), (851, 4), (851, 4), (851, 4), (851, 4), (851, 4), (851, 4), (851, 4), (851, 4), (851, 4), (851, 4), (851, 4), (851, 4), (851, 4), (851, 4), (851, 4), (851, 4), (851, 4), (851, 4), (851, 4), (851, 4), (851, 4), (851, 4), (851, 4), (851, 4), (851, 4), (851, 4), (851, 4), (851, 4), (851, 4), (851, 4), (851, 4), (851, 4), (851, 4), (851, 4), (851, 4), (851, 4), (851, 4), (851, 4), (863, 5), (863, 5), (863, 5), (863, 5), (863, 5), (863, 5), (863, 5), (863, 5), (863, 5), (863, 5), (863, 5), (863, 5), (863, 5), (863, 5), (863, 5), (863, 5), (863, 5), (863, 5), (863, 5), (863, 5), (863, 5), (863, 5), (863, 5), (863, 5), (863, 5), (863, 5), (863, 5), (863, 5), (863, 5), (863, 5), (863, 5), (863, 5), (863, 5), (863, 5), (863, 5), (863, 5), (863, 5), (863, 5), (863, 5), (863, 5), (863, 5), (863, 5), (863, 5), (863, 5), (863, 5), (863, 5), (863, 5), (863, 5), (863, 5), (863, 5), (863, 5), (863, 5), (863, 5), (863, 5), (866, 4), (866, 4), (866, 4), (866, 4), (866, 4), (866, 4), (866, 4), (866, 4), (866, 4), (866, 4), (866, 4), (866, 4), (866, 4), (866, 4), (866, 4), (866, 4), (866, 4), (866, 4), (866, 4), (866, 4), (866, 4), (866, 4), (866, 4), (866, 4), (866, 4), (866, 4), (866, 4), (866, 4), (866, 4), (866, 4), (866, 4), (866, 4), (866, 4), (866, 4), (866, 4), (866, 4), (866, 4), (866, 4), (866, 4), (866, 4), (866, 4), (866, 4), (866, 4), (866, 4), (866, 4), (866, 4), (866, 4), (866, 4), (866, 4), (866, 4), (866, 4), (866, 4), (866, 4), (866, 4), (867, 4), (867, 4), (867, 4), (867, 4), (867, 4), (867, 4), (867, 4), (867, 4), (867, 4), (867, 4), (867, 4), (867, 4), (867, 4), (867, 4), (867, 4), (867, 4), (867, 4), (867, 4), (867, 4), (867, 4), (867, 4), (867, 4), (867, 4), (867, 4), (867, 4), (867, 4), (867, 4), (867, 4), (867, 4), (867, 4), (867, 4), (867, 4), (867, 4), (867, 4), (867, 4), (867, 4), (867, 4), (867, 4), (867, 4), (867, 4), (867, 4), (867, 4), (867, 4), (867, 4), (867, 4), (867, 4), (867, 4), (867, 4), (867, 4), (867, 4), (867, 4), (867, 4), (867, 4), (867, 4), (869, 5), (869, 5), (869, 5), (869, 5), (869, 5), (869, 5), (869, 5), (869, 5), (869, 5), (869, 5), (869, 5), (869, 5), (869, 5), (869, 5), (869, 5), (869, 5), (869, 5), (869, 5), (869, 5), (869, 5), (869, 5), (869, 5), (869, 5), (869, 5), (869, 5), (869, 5), (869, 5), (869, 5), (869, 5), (869, 5), (869, 5), (869, 5), (869, 5), (869, 5), (869, 5), (869, 5), (869, 5), (869, 5), (869, 5), (869, 5), (869, 5), (869, 5), (869, 5), (869, 5), (869, 5), (869, 5), (869, 5), (869, 5), (869, 5), (869, 5), (869, 5), (869, 5), (869, 5), (869, 5), (878, 4), (878, 4), (878, 4), (878, 4), (878, 4), (878, 4), (878, 4), (878, 4), (878, 4), (878, 4), (878, 4), (878, 4), (878, 4), (878, 4), (878, 4), (878, 4), (878, 4), (878, 4), (878, 4), (878, 4), (878, 4), (878, 4), (878, 4), (878, 4), (878, 4), (878, 4), (878, 4), (878, 4), (878, 4), (878, 4), (878, 4), (878, 4), (878, 4), (878, 4), (878, 4), (878, 4), (878, 4), (878, 4), (878, 4), (878, 4), (878, 4), (878, 4), (878, 4), (878, 4), (878, 4), (878, 4), (878, 4), (878, 4), (878, 4), (878, 4), (878, 4), (878, 4), (878, 4), (878, 4), (879, 4), (879, 4), (879, 4), (879, 4), (879, 4), (879, 4), (879, 4), (879, 4), (879, 4), (879, 4), (879, 4), (879, 4), (879, 4), (879, 4), (879, 4), (879, 4), (879, 4), (879, 4), (879, 4), (879, 4), (879, 4), (879, 4), (879, 4), (879, 4), (879, 4), (879, 4), (879, 4), (879, 4), (879, 4), (879, 4), (879, 4), (879, 4), (879, 4), (879, 4), (879, 4), (879, 4), (879, 4), (879, 4), (879, 4), (879, 4), (879, 4), (879, 4), (879, 4), (879, 4), (879, 4), (879, 4), (879, 4), (879, 4), (879, 4), (879, 4), (879, 4), (879, 4), (879, 4), (880, 4), (880, 4), (880, 4), (880, 4), (880, 4), (880, 4), (880, 4), (880, 4), (880, 4), (880, 4), (880, 4), (880, 4), (880, 4), (880, 4), (880, 4), (880, 4), (880, 4), (880, 4), (880, 4), (880, 4), (880, 4), (880, 4), (880, 4), (880, 4), (880, 4), (880, 4), (880, 4), (880, 4), (880, 4), (880, 4), (880, 4), (880, 4), (880, 4), (880, 4), (880, 4), (880, 4), (880, 4), (880, 4), (880, 4), (880, 4), (880, 4), (880, 4), (880, 4), (880, 4), (880, 4), (880, 4), (880, 4), (880, 4), (880, 4), (880, 4), (880, 4), (880, 4), (880, 4), (880, 4), (881, 5), (881, 5), (881, 5), (881, 5), (881, 5), (881, 5), (881, 5), (881, 5), (881, 5), (881, 5), (881, 5), (881, 5), (881, 5), (881, 5), (881, 5), (881, 5), (881, 5), (881, 5), (881, 5), (881, 5), (881, 5), (881, 5), (881, 5), (881, 5), (881, 5), (881, 5), (881, 5), (881, 5), (881, 5), (881, 5), (881, 5), (881, 5), (881, 5), (881, 5), (881, 5), (881, 5), (881, 5), (881, 5), (881, 5), (881, 5), (881, 5), (881, 5), (881, 5), (881, 5), (881, 5), (881, 5), (881, 5), (881, 5), (881, 5), (881, 5), (881, 5), (881, 5), (881, 5), (881, 5), (884, 5), (884, 5), (884, 5), (884, 5), (884, 5), (884, 5), (884, 5), (884, 5), (884, 5), (884, 5), (884, 5), (884, 5), (884, 5), (884, 5), (884, 5), (884, 5), (884, 5), (884, 5), (884, 5), (884, 5), (884, 5), (884, 5), (884, 5), (884, 5), (884, 5), (884, 5), (884, 5), (884, 5), (884, 5), (884, 5), (884, 5), (884, 5), (884, 5), (884, 5), (884, 5), (884, 5), (884, 5), (884, 5), (884, 5), (884, 5), (884, 5), (884, 5), (884, 5), (884, 5), (884, 5), (884, 5), (884, 5), (884, 5), (884, 5), (884, 5), (884, 5), (884, 5), (884, 5), (884, 5), (885, 4), (885, 4), (885, 4), (885, 4), (885, 4), (885, 4), (885, 4), (885, 4), (885, 4), (885, 4), (885, 4), (885, 4), (885, 4), (885, 4), (885, 4), (885, 4), (885, 4), (885, 4), (885, 4), (885, 4), (885, 4), (885, 4), (885, 4), (885, 4), (885, 4), (885, 4), (885, 4), (885, 4), (885, 4), (885, 4), (885, 4), (885, 4), (885, 4), (885, 4), (885, 4), (885, 4), (885, 4), (885, 4), (885, 4), (885, 4), (885, 4), (885, 4), (885, 4), (885, 4), (885, 4), (885, 4), (885, 4), (885, 4), (885, 4), (885, 4), (885, 4), (885, 4), (885, 4), (885, 4), (886, 5), (886, 5), (886, 5), (886, 5), (886, 5), (886, 5), (886, 5), (886, 5), (886, 5), (886, 5), (886, 5), (886, 5), (886, 5), (886, 5), (886, 5), (886, 5), (886, 5), (886, 5), (886, 5), (886, 5), (886, 5), (886, 5), (886, 5), (886, 5), (886, 5), (886, 5), (886, 5), (886, 5), (886, 5), (886, 5), (886, 5), (886, 5), (886, 5), (886, 5), (886, 5), (886, 5), (886, 5), (886, 5), (886, 5), (886, 5), (886, 5), (886, 5), (886, 5), (886, 5), (886, 5), (886, 5), (886, 5), (886, 5), (886, 5), (886, 5), (886, 5), (886, 5), (886, 5), (886, 5), (889, 4), (889, 4), (889, 4), (889, 4), (889, 4), (889, 4), (889, 4), (889, 4), (889, 4), (889, 4), (889, 4), (889, 4), (889, 4), (889, 4), (889, 4), (889, 4), (889, 4), (889, 4), (889, 4), (889, 4), (889, 4), (889, 4), (889, 4), (889, 4), (889, 4), (889, 4), (889, 4), (889, 4), (889, 4), (889, 4), (889, 4), (889, 4), (889, 4), (889, 4), (889, 4), (889, 4), (889, 4), (889, 4), (889, 4), (889, 4), (889, 4), (889, 4), (889, 4), (889, 4), (889, 4), (889, 4), (889, 4), (889, 4), (889, 4), (889, 4), (889, 4), (889, 4), (889, 4), (889, 4), (891, 5), (891, 5), (891, 5), (891, 5), (891, 5), (891, 5), (891, 5), (891, 5), (891, 5), (891, 5), (891, 5), (891, 5), (891, 5), (891, 5), (891, 5), (891, 5), (891, 5), (891, 5), (891, 5), (891, 5), (891, 5), (891, 5), (891, 5), (891, 5), (891, 5), (891, 5), (891, 5), (891, 5), (891, 5), (891, 5), (891, 5), (891, 5), (891, 5), (891, 5), (891, 5), (891, 5), (891, 5), (891, 5), (891, 5), (891, 5), (891, 5), (891, 5), (891, 5), (891, 5), (891, 5), (891, 5), (891, 5), (891, 5), (891, 5), (891, 5), (891, 5), (891, 5), (891, 5), (891, 5), (892, 5), (892, 5), (892, 5), (892, 5), (892, 5), (892, 5), (892, 5), (892, 5), (892, 5), (892, 5), (892, 5), (892, 5), (892, 5), (892, 5), (892, 5), (892, 5), (892, 5), (892, 5), (892, 5), (892, 5), (892, 5), (892, 5), (892, 5), (892, 5), (892, 5), (892, 5), (892, 5), (892, 5), (892, 5), (892, 5), (892, 5), (892, 5), (892, 5), (892, 5), (892, 5), (892, 5), (892, 5), (892, 5), (892, 5), (892, 5), (892, 5), (892, 5), (892, 5), (892, 5), (892, 5), (892, 5), (892, 5), (892, 5), (892, 5), (892, 5), (892, 5), (892, 5), (892, 5), (892, 5), (893, 4), (893, 4), (893, 4), (893, 4), (893, 4), (893, 4), (893, 4), (893, 4), (893, 4), (893, 4), (893, 4), (893, 4), (893, 4), (893, 4), (893, 4), (893, 4), (893, 4), (893, 4), (893, 4), (893, 4), (893, 4), (893, 4), (893, 4), (893, 4), (893, 4), (893, 4), (893, 4), (893, 4), (893, 4), (893, 4), (893, 4), (893, 4), (893, 4), (893, 4), (893, 4), (893, 4), (893, 4), (893, 4), (893, 4), (893, 4), (893, 4), (893, 4), (893, 4), (893, 4), (893, 4), (893, 4), (893, 4), (893, 4), (893, 4), (893, 4), (893, 4), (893, 4), (893, 4), (893, 4), (894, 4), (894, 4), (894, 4), (894, 4), (894, 4), (894, 4), (894, 4), (894, 4), (894, 4), (894, 4), (894, 4), (894, 4), (894, 4), (894, 4), (894, 4), (894, 4), (894, 4), (894, 4), (894, 4), (894, 4), (894, 4), (894, 4), (894, 4), (894, 4), (894, 4), (894, 4), (894, 4), (894, 4), (894, 4), (894, 4), (894, 4), (894, 4), (894, 4), (894, 4), (894, 4), (894, 4), (894, 4), (894, 4), (894, 4), (894, 4), (894, 4), (894, 4), (894, 4), (894, 4), (894, 4), (894, 4), (894, 4), (894, 4), (894, 4), (894, 4), (894, 4), (894, 4), (894, 4), (894, 4), (895, 4), (895, 4), (895, 4), (895, 4), (895, 4), (895, 4), (895, 4), (895, 4), (895, 4), (895, 4), (895, 4), (895, 4), (895, 4), (895, 4), (895, 4), (895, 4), (895, 4), (895, 4), (895, 4), (895, 4), (895, 4), (895, 4), (895, 4), (895, 4), (895, 4), (895, 4), (895, 4), (895, 4), (895, 4), (895, 4), (895, 4), (895, 4), (895, 4), (895, 4), (895, 4), (895, 4), (895, 4), (895, 4), (895, 4), (895, 4), (895, 4), (895, 4), (895, 4), (895, 4), (895, 4), (895, 4), (895, 4), (895, 4), (895, 4), (895, 4), (895, 4), (895, 4), (895, 4), (895, 4), (896, 5), (896, 5), (896, 5), (896, 5), (896, 5), (896, 5), (896, 5), (896, 5), (896, 5), (896, 5), (896, 5), (896, 5), (896, 5), (896, 5), (896, 5), (896, 5), (896, 5), (896, 5), (896, 5), (896, 5), (896, 5), (896, 5), (896, 5), (896, 5), (896, 5), (896, 5), (896, 5), (896, 5), (896, 5), (896, 5), (896, 5), (896, 5), (896, 5), (896, 5), (896, 5), (896, 5), (896, 5), (896, 5), (896, 5), (896, 5), (896, 5), (896, 5), (896, 5), (896, 5), (896, 5), (896, 5), (896, 5), (896, 5), (896, 5), (896, 5), (896, 5), (896, 5), (896, 5), (896, 5), (900, 5), (900, 5), (900, 5), (900, 5), (900, 5), (900, 5), (900, 5), (900, 5), (900, 5), (900, 5), (900, 5), (900, 5), (900, 5), (900, 5), (900, 5), (900, 5), (900, 5), (900, 5), (900, 5), (900, 5), (900, 5), (900, 5), (900, 5), (900, 5), (900, 5), (900, 5), (900, 5), (900, 5), (900, 5), (900, 5), (900, 5), (900, 5), (900, 5), (900, 5), (900, 5), (900, 5), (900, 5), (900, 5), (900, 5), (900, 5), (900, 5), (900, 5), (900, 5), (900, 5), (900, 5), (900, 5), (900, 5), (900, 5), (900, 5), (900, 5), (900, 5), (900, 5), (900, 5), (900, 5), (901, 5), (901, 5), (901, 5), (901, 5), (901, 5), (901, 5), (901, 5), (901, 5), (901, 5), (901, 5), (901, 5), (901, 5), (901, 5), (901, 5), (901, 5), (901, 5), (901, 5), (901, 5), (901, 5), (901, 5), (901, 5), (901, 5), (901, 5), (901, 5), (901, 5), (901, 5), (901, 5), (901, 5), (901, 5), (901, 5), (901, 5), (901, 5), (901, 5), (901, 5), (901, 5), (901, 5), (901, 5), (901, 5), (901, 5), (901, 5), (901, 5), (901, 5), (901, 5), (901, 5), (901, 5), (901, 5), (901, 5), (901, 5), (901, 5), (901, 5), (901, 5), (901, 5), (901, 5), (901, 5), (906, 5), (906, 5), (906, 5), (906, 5), (906, 5), (906, 5), (906, 5), (906, 5), (906, 5), (906, 5), (906, 5), (906, 5), (906, 5), (906, 5), (906, 5), (906, 5), (906, 5), (906, 5), (906, 5), (906, 5), (906, 5), (906, 5), (906, 5), (906, 5), (906, 5), (906, 5), (906, 5), (906, 5), (906, 5), (906, 5), (906, 5), (906, 5), (906, 5), (906, 5), (906, 5), (906, 5), (906, 5), (906, 5), (906, 5), (906, 5), (906, 5), (906, 5), (906, 5), (906, 5), (906, 5), (906, 5), (906, 5), (906, 5), (906, 5), (906, 5), (906, 5), (906, 5), (906, 5), (906, 5), (909, 4), (909, 4), (909, 4), (909, 4), (909, 4), (909, 4), (909, 4), (909, 4), (909, 4), (909, 4), (909, 4), (909, 4), (909, 4), (909, 4), (909, 4), (909, 4), (909, 4), (909, 4), (909, 4), (909, 4), (909, 4), (909, 4), (909, 4), (909, 4), (909, 4), (909, 4), (909, 4), (909, 4), (909, 4), (909, 4), (909, 4), (909, 4), (909, 4), (909, 4), (909, 4), (909, 4), (909, 4), (909, 4), (909, 4), (909, 4), (909, 4), (909, 4), (909, 4), (909, 4), (909, 4), (909, 4), (909, 4), (909, 4), (909, 4), (909, 4), (909, 4), (909, 4), (909, 4), (909, 4), (915, 4), (915, 4), (915, 4), (915, 4), (915, 4), (915, 4), (915, 4), (915, 4), (915, 4), (915, 4), (915, 4), (915, 4), (915, 4), (915, 4), (915, 4), (915, 4), (915, 4), (915, 4), (915, 4), (915, 4), (915, 4), (915, 4), (915, 4), (915, 4), (915, 4), (915, 4), (915, 4), (915, 4), (915, 4), (915, 4), (915, 4), (915, 4), (915, 4), (915, 4), (915, 4), (915, 4), (915, 4), (915, 4), (915, 4), (915, 4), (915, 4), (915, 4), (915, 4), (915, 4), (915, 4), (915, 4), (915, 4), (915, 4), (915, 4), (915, 4), (915, 4), (915, 4), (915, 4), (915, 4), (918, 4), (918, 4), (918, 4), (918, 4), (918, 4), (918, 4), (918, 4), (918, 4), (918, 4), (918, 4), (918, 4), (918, 4), (918, 4), (918, 4), (918, 4), (918, 4), (918, 4), (918, 4), (918, 4), (918, 4), (918, 4), (918, 4), (918, 4), (918, 4), (918, 4), (918, 4), (918, 4), (918, 4), (918, 4), (918, 4), (918, 4), (918, 4), (918, 4), (918, 4), (918, 4), (918, 4), (918, 4), (918, 4), (918, 4), (918, 4), (918, 4), (918, 4), (918, 4), (918, 4), (918, 4), (918, 4), (918, 4), (918, 4), (918, 4), (918, 4), (918, 4), (918, 4), (918, 4), (918, 4), (921, 5), (921, 5), (921, 5), (921, 5), (921, 5), (921, 5), (921, 5), (921, 5), (921, 5), (921, 5), (921, 5), (921, 5), (921, 5), (921, 5), (921, 5), (921, 5), (921, 5), (921, 5), (921, 5), (921, 5), (921, 5), (921, 5), (921, 5), (921, 5), (921, 5), (921, 5), (921, 5), (921, 5), (921, 5), (921, 5), (921, 5), (921, 5), (921, 5), (921, 5), (921, 5), (921, 5), (921, 5), (921, 5), (921, 5), (921, 5), (921, 5), (921, 5), (921, 5), (921, 5), (921, 5), (921, 5), (921, 5), (921, 5), (921, 5), (921, 5), (921, 5), (921, 5), (921, 5), (921, 5), (923, 5), (923, 5), (923, 5), (923, 5), (923, 5), (923, 5), (923, 5), (923, 5), (923, 5), (923, 5), (923, 5), (923, 5), (923, 5), (923, 5), (923, 5), (923, 5), (923, 5), (923, 5), (923, 5), (923, 5), (923, 5), (923, 5), (923, 5), (923, 5), (923, 5), (923, 5), (923, 5), (923, 5), (923, 5), (923, 5), (923, 5), (923, 5), (923, 5), (923, 5), (923, 5), (923, 5), (923, 5), (923, 5), (923, 5), (923, 5), (923, 5), (923, 5), (923, 5), (923, 5), (923, 5), (923, 5), (923, 5), (923, 5), (923, 5), (923, 5), (923, 5), (923, 5), (923, 5), (923, 5), (926, 5), (926, 5), (926, 5), (926, 5), (926, 5), (926, 5), (926, 5), (926, 5), (926, 5), (926, 5), (926, 5), (926, 5), (926, 5), (926, 5), (926, 5), (926, 5), (926, 5), (926, 5), (926, 5), (926, 5), (926, 5), (926, 5), (926, 5), (926, 5), (926, 5), (926, 5), (926, 5), (926, 5), (926, 5), (926, 5), (926, 5), (926, 5), (926, 5), (926, 5), (926, 5), (926, 5), (926, 5), (926, 5), (926, 5), (926, 5), (926, 5), (926, 5), (926, 5), (926, 5), (926, 5), (926, 5), (926, 5), (926, 5), (926, 5), (926, 5), (926, 5), (926, 5), (926, 5), (926, 5), (931, 4), (931, 4), (931, 4), (931, 4), (931, 4), (931, 4), (931, 4), (931, 4), (931, 4), (931, 4), (931, 4), (931, 4), (931, 4), (931, 4), (931, 4), (931, 4), (931, 4), (931, 4), (931, 4), (931, 4), (931, 4), (931, 4), (931, 4), (931, 4), (931, 4), (931, 4), (931, 4), (931, 4), (931, 4), (931, 4), (931, 4), (931, 4), (931, 4), (931, 4), (931, 4), (931, 4), (931, 4), (931, 4), (931, 4), (931, 4), (931, 4), (931, 4), (931, 4), (931, 4), (931, 4), (931, 4), (931, 4), (931, 4), (931, 4), (931, 4), (931, 4), (931, 4), (931, 4), (931, 4), (935, 4), (935, 4), (935, 4), (935, 4), (935, 4), (935, 4), (935, 4), (935, 4), (935, 4), (935, 4), (935, 4), (935, 4), (935, 4), (935, 4), (935, 4), (935, 4), (935, 4), (935, 4), (935, 4), (935, 4), (935, 4), (935, 4), (935, 4), (935, 4), (935, 4), (935, 4), (935, 4), (935, 4), (935, 4), (935, 4), (935, 4), (935, 4), (935, 4), (935, 4), (935, 4), (935, 4), (935, 4), (935, 4), (935, 4), (935, 4), (935, 4), (935, 4), (935, 4), (935, 4), (935, 4), (935, 4), (935, 4), (935, 4), (935, 4), (935, 4), (935, 4), (935, 4), (935, 4), (937, 4), (937, 4), (937, 4), (937, 4), (937, 4), (937, 4), (937, 4), (937, 4), (937, 4), (937, 4), (937, 4), (937, 4), (937, 4), (937, 4), (937, 4), (937, 4), (937, 4), (937, 4), (937, 4), (937, 4), (937, 4), (937, 4), (937, 4), (937, 4), (937, 4), (937, 4), (937, 4), (937, 4), (937, 4), (937, 4), (937, 4), (937, 4), (937, 4), (937, 4), (937, 4), (937, 4), (937, 4), (937, 4), (937, 4), (937, 4), (937, 4), (937, 4), (937, 4), (937, 4), (937, 4), (937, 4), (937, 4), (937, 4), (937, 4), (937, 4), (937, 4), (937, 4), (937, 4), (937, 4), (940, 5), (940, 5), (940, 5), (940, 5), (940, 5), (940, 5), (940, 5), (940, 5), (940, 5), (940, 5), (940, 5), (940, 5), (940, 5), (940, 5), (940, 5), (940, 5), (940, 5), (940, 5), (940, 5), (940, 5), (940, 5), (940, 5), (940, 5), (940, 5), (940, 5), (940, 5), (940, 5), (940, 5), (940, 5), (940, 5), (940, 5), (940, 5), (940, 5), (940, 5), (940, 5), (940, 5), (940, 5), (940, 5), (940, 5), (940, 5), (940, 5), (940, 5), (940, 5), (940, 5), (940, 5), (940, 5), (940, 5), (940, 5), (940, 5), (940, 5), (940, 5), (940, 5), (940, 5), (940, 5)]\n"
     ]
    }
   ],
   "source": [
    "from itertools import product\n",
    "vector_user1 = userMovie_ratings[1]\n",
    "vector_user249 = userMovie_ratings[249]\n",
    "\n",
    "def  filter_vector(vector_user,expr,n):\n",
    "    tranf = lambda enum : (enum[0],enum[1]) if expr(enum[1],n) else None\n",
    "\n",
    "    result = list(map(tranf,enumerate(vector_user)))\n",
    "    result_filter = list(filter(lambda x: x is not None, result))\n",
    "    return result_filter\n",
    "\n",
    "vector1 = filter_vector(vector_user1,lambda x,y : True if(x>y) else False,3)\n",
    "vector2 = filter_vector(vector_user249,lambda x,y : True if(x>y) else False,3)\n",
    "\n",
    "interseccion = [(x,y) for x, y in list(product(vector1,vector2)) if x[0] == y[0]]\n",
    "print(f\"len v1 {len(vector1)}\")\n",
    "print(f\"len v2 {len(vector2)}\")\n",
    "print(f\"Interseccion: \\n{interseccion}\\nlen_iterseccion:\\n {len(interseccion)}\")\n",
    "\n",
    "dif = [x for x, y in list(product(vector1,vector2)) if x[0] != y[0]]\n",
    "\n",
    "print(dif)"
   ]
  },
  {
   "cell_type": "code",
   "execution_count": 20,
   "metadata": {},
   "outputs": [
    {
     "name": "stdout",
     "output_type": "stream",
     "text": [
      "[((23, 4), (23, 0)), ((31, 4), (31, 0)), ((158, 4), (158, 0)), ((232, 5), (232, 0)), ((254, 5), (254, 0)), ((436, 5), (436, 0)), ((554, 4), (554, 0)), ((583, 4), (583, 0)), ((639, 4), (639, 0)), ((757, 4), (757, 0)), ((858, 5), (858, 0)), ((868, 4), (868, 0))]\n",
      "12\n"
     ]
    }
   ],
   "source": [
    "#vector1 contine todos las movies que tienen mas de 5 puntos dados por user 1\n",
    "\n",
    "vector_empty = filter_vector(vector_user1,lambda x,y : True if(x == y) else False,0)\n",
    "\n",
    "inters_vector = [(x,y) for x, y in list(product(vector2,vector_empty)) if x[0] == y[0]]\n",
    "\n",
    "print(inters_vector)\n",
    "print(len(inters_vector))"
   ]
  },
  {
   "cell_type": "code",
   "execution_count": 21,
   "metadata": {},
   "outputs": [
    {
     "name": "stdout",
     "output_type": "stream",
     "text": [
      "[(array([2, 3]), array([2, 2]))]\n"
     ]
    }
   ],
   "source": [
    "import numpy as np\n",
    "from itertools import product\n",
    "\n",
    "# Definir dos arrays\n",
    "array1 = np.array([(2,3),(3,3)])\n",
    "array2 = np.array([(4,5),(5,2),(2,2)])\n",
    "\n",
    "# Obtener la intersección de los elementos de los arrays\n",
    "interseccion = [(x,y) for x, y in list(product(array1, array2)) if x[0] == y[0]]\n",
    "\n",
    "print(interseccion)  # Salida: [3, 4, 5]\n"
   ]
  },
  {
   "cell_type": "code",
   "execution_count": 28,
   "metadata": {},
   "outputs": [
    {
     "name": "stdout",
     "output_type": "stream",
     "text": [
      "False\n"
     ]
    }
   ],
   "source": [
    "numeros = [True,True,True,False]\n",
    "\n",
    "# Verificar si todos los números en la lista son mayores que cero\n",
    "resultado = all(numeros)\n",
    "print(resultado)"
   ]
  }
 ],
 "metadata": {
  "kernelspec": {
   "display_name": "Python 3",
   "language": "python",
   "name": "python3"
  },
  "language_info": {
   "codemirror_mode": {
    "name": "ipython",
    "version": 3
   },
   "file_extension": ".py",
   "mimetype": "text/x-python",
   "name": "python",
   "nbconvert_exporter": "python",
   "pygments_lexer": "ipython3",
   "version": "3.11.5"
  }
 },
 "nbformat": 4,
 "nbformat_minor": 2
}
